{
 "cells": [
  {
   "cell_type": "markdown",
   "metadata": {
    "collapsed": false,
    "jupyter": {
     "outputs_hidden": false
    },
    "pycharm": {
     "name": "#%% md\n"
    }
   },
   "source": [
    "# Strands Agent で OpenAI モデルを使用する\n",
    "\n",
    "## 概要\n",
    "\n",
    "Strands Agents は、わずか数行のコードで AI エージェントを構築・実行するためのモデル駆動型アプローチを採用した SDK です。Strands は、複数のプロバイダーと、あらゆる場所でホストされているモデルをサポートしています。\n",
    "\n",
    "[LiteLLM](https://docs.litellm.ai/docs/) は、Amazon、Anthropic、OpenAI など、さまざまな LLM プロバイダーのモデルを単一の API で操作できる統合インターフェースです。Strands Agent SDK は LiteLLM プロバイダーを実装しており、LiteLLM がサポートするあらゆるモデルに対してエージェントを実行できます。\n",
    "\n",
    "この例では、Microsoft Azure でホストされている `gpt-4.1-mini` モデルを Strands Agent の基盤モデルとして使用する方法を説明します。天気予報と時刻取得ツールを使ったシンプルなエージェントユースケースを使用します。\n",
    "\n",
    "## エージェントの詳細\n",
    "<div style=\"float: left; margin-right: 20px;\">\n",
    "\n",
    "|機能 |説明 |\n",
    "|--------------------|---------------------------------------------------|\n",
    "|使用されている機能 |LiteLLM モデル |\n",
    "|エージェントの構造 |単一エージェントアーキテクチャ |\n",
    "\n",
    "</div>"
   ]
  },
  {
   "cell_type": "markdown",
   "metadata": {},
   "source": [
    "## アーキテクチャ\n",
    "\n",
    "<div style=\"text-align:center\">\n",
    "<img src=\"images/architecture.png\" width=\"65%\" />\n",
    "</div>\n",
    "\n",
    "## 主な機能\n",
    "* **LiteLLM モデル**: LiteLLM 経由で提供されるモデルを使用"
   ]
  },
  {
   "cell_type": "markdown",
   "metadata": {},
   "source": [
    "## セットアップと前提条件\n",
    "\n",
    "### 前提条件\n",
    "* Python 3.10 以上\n",
    "* Azure アカウント\n",
    "* gpt-4.1-mini へのアクセス\n",
    "\n",
    "Strands エージェントに必要なパッケージをインストールしましょう"
   ]
  },
  {
   "cell_type": "code",
   "execution_count": null,
   "metadata": {},
   "outputs": [],
   "source": [
    "# 前提条件のインストール\n",
    "!pip install -r requirements.txt"
   ]
  },
  {
   "cell_type": "markdown",
   "metadata": {},
   "source": [
    "### 依存パッケージのインポート\n",
    "\n",
    "依存パッケージをインポートしましょう"
   ]
  },
  {
   "cell_type": "code",
   "execution_count": null,
   "metadata": {},
   "outputs": [],
   "source": [
    "import os\n",
    "from datetime import datetime\n",
    "from datetime import timezone as tz\n",
    "from typing import Any\n",
    "from zoneinfo import ZoneInfo\n",
    "\n",
    "from strands import Agent, tool\n",
    "from strands.models.litellm import LiteLLMModel"
   ]
  },
  {
   "cell_type": "markdown",
   "metadata": {},
   "source": [
    "### Azure キーの設定\n",
    "\n",
    "Azure API キーを設定しましょう"
   ]
  },
  {
   "cell_type": "code",
   "execution_count": null,
   "metadata": {},
   "outputs": [],
   "source": [
    "os.environ[\"AZURE_API_KEY\"] = \"<YOUR_API_KEY>\"\n",
    "os.environ[\"AZURE_API_BASE\"] = \"<YOUR_API_BASE>\"\n",
    "os.environ[\"AZURE_API_VERSION\"] = \"<YOUR_API_VERSION>\""
   ]
  },
  {
   "cell_type": "markdown",
   "metadata": {},
   "source": [
    "### カスタムツールの設定\n",
    "\n",
    "エージェントをテストするためのダミーツールを2つ設定しましょう"
   ]
  },
  {
   "cell_type": "code",
   "execution_count": null,
   "metadata": {},
   "outputs": [],
   "source": [
    "@tool\n",
    "def current_time(timezone: str = \"UTC\") -> str:\n",
    "    if timezone.upper() == \"UTC\":\n",
    "        timezone_obj: Any = tz.utc\n",
    "    else:\n",
    "        timezone_obj = ZoneInfo(timezone)\n",
    "\n",
    "    return datetime.now(timezone_obj).isoformat()\n",
    "\n",
    "\n",
    "@tool\n",
    "def current_weather(city: str) -> str:\n",
    "    # ダミー実装です。実際の天気API呼び出しに置き換えてください。\n",
    "    return \"sunny\""
   ]
  },
  {
   "cell_type": "markdown",
   "metadata": {},
   "source": [
    "### エージェント基盤となるLLMモデルの定義\n",
    "\n",
    "次に、LiteLLMを使用してエージェント基盤となるモデルを定義します。`gpt-4.1-mini`に設定します。"
   ]
  },
  {
   "cell_type": "code",
   "execution_count": null,
   "metadata": {},
   "outputs": [],
   "source": [
    "model = \"azure/gpt-4.1-mini\"\n",
    "litellm_model = LiteLLMModel(\n",
    "    model_id=model, params={\"max_tokens\": 32000, \"temperature\": 0.7}\n",
    ")"
   ]
  },
  {
   "cell_type": "markdown",
   "metadata": {},
   "source": [
    "### エージェントの定義\n",
    "\n",
    "必要な情報がすべて揃ったので、エージェントを定義しましょう。"
   ]
  },
  {
   "cell_type": "code",
   "execution_count": null,
   "metadata": {},
   "outputs": [],
   "source": [
    "system_prompt = \"あなたは時間と天気を教えてくれるシンプルなエージェントです\"\n",
    "agent = Agent(\n",
    "    model=litellm_model,\n",
    "    system_prompt=system_prompt,\n",
    "    tools=[current_time, current_weather],\n",
    ")"
   ]
  },
  {
   "cell_type": "markdown",
   "metadata": {},
   "source": [
    "### エージェントのテスト\n",
    "\n",
    "エージェントを呼び出してテストしてみましょう"
   ]
  },
  {
   "cell_type": "code",
   "execution_count": null,
   "metadata": {},
   "outputs": [],
   "source": [
    "results = agent(\"What time is it in Seattle? And how is the weather?\")"
   ]
  },
  {
   "cell_type": "markdown",
   "metadata": {},
   "source": [
    "#### エージェントの結果の分析\n",
    "\n",
    "さあ、エージェントを初めて呼び出しました！それでは、結果オブジェクトを見てみましょう。まず、エージェントがエージェントオブジェクト内で交換しているメッセージを確認できます。"
   ]
  },
  {
   "cell_type": "code",
   "execution_count": null,
   "metadata": {},
   "outputs": [],
   "source": [
    "agent.messages"
   ]
  },
  {
   "cell_type": "markdown",
   "metadata": {},
   "source": [
    "次に、結果のメトリックを分析して、最後のクエリに対するエージェントの使用状況を確認します。"
   ]
  },
  {
   "cell_type": "code",
   "execution_count": null,
   "metadata": {},
   "outputs": [],
   "source": [
    "results.metrics"
   ]
  },
  {
   "cell_type": "markdown",
   "metadata": {},
   "source": [
    "### おめでとうございます！\n",
    "このノートブックでは、OpenAI を使用して天気予報エージェントに回答を提供する LiteLLM の使用方法を学びました。"
   ]
  }
 ],
 "metadata": {
  "kernelspec": {
   "display_name": "Python 3 (ipykernel)",
   "language": "python",
   "name": "python3"
  },
  "language_info": {
   "codemirror_mode": {
    "name": "ipython",
    "version": 3
   },
   "file_extension": ".py",
   "mimetype": "text/x-python",
   "name": "python",
   "nbconvert_exporter": "python",
   "pygments_lexer": "ipython3",
   "version": "3.12.9"
  }
 },
 "nbformat": 4,
 "nbformat_minor": 4
}
