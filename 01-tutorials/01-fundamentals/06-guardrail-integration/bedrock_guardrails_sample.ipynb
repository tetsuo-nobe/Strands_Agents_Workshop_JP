{
 "cells": [
  {
   "cell_type": "markdown",
   "metadata": {},
   "source": [
    "# Amazon Bedrock Guardrails による Strands エージェントの保護\n",
    "\n",
    "## プロンプトの言語について\n",
    "このワークショップの環境は、**Content filters tier** と **Denied topics tier** が **Classic** の前提のため、プロンプトは英語のままにしています。\n",
    "\n",
    "## 概要\n",
    "この例では、[Amazon Bedrock Guardrails](https://aws.amazon.com/bedrock/guardrails/) を使用して最初の Strands エージェントを作成し、基盤となる Amazon Bedrock LLM モデルを保護する方法について説明します。\n",
    "\n",
    "Amazon Bedrock Guardrails は、大規模な生成 AI アプリケーションを安全に構築するための設定可能なセーフガードを提供します。Amazon Bedrock でサポートされている FM、微調整されたモデル、Amazon Bedrock 外でホストされているモデルなど、幅広い基盤モデル (FM) に一貫した標準的なアプローチを適用する Guardrails は、業界をリードする安全性保護を提供します。\n",
    "\n",
    "Strands エージェントを使用すると、Amazon Bedrock モデルに Amazon Bedrock Guardrails を直接追加できます。 Amazon Bedrock モデルを使用していない場合は、[Apply Guardrail API](https://docs.aws.amazon.com/bedrock/latest/userguide/guardrails-use-independent-api.html) を使用してモデルを保護できます。この場合、先ほど学習した高度な処理機能を使用してパイプラインを構築する必要があります。\n",
    "\n",
    "## エージェントの詳細\n",
    "<div style=\"float: left; margin-right: 20px;\">\n",
    "\n",
    "|機能 |説明 |\n",
    "|--------------------|---------------------------------------------------|\n",
    "|使用されている AWS サービス |Amazon Bedrock Guardrails |\n",
    "|作成されたカスタムツール |get_customer_profile、list_customer_purchases、list_customer_tickets、update_customer_profile|\n",
    "|エージェントの構造 |単一エージェントアーキテクチャ |\n",
    "\n",
    "</div>\n"
   ]
  },
  {
   "cell_type": "markdown",
   "metadata": {},
   "source": [
    "## アーキテクチャ\n",
    "\n",
    "<div style=\"text-align:left\">\n",
    "<img src=\"images/architecture.png\" width=\"85%\" />\n",
    "</div>\n",
    "\n",
    "## 主な機能\n",
    "* **単一エージェントアーキテクチャ**: この例では、組み込みツールとカスタムツールと連携する単一のエージェントを作成します。\n",
    "* **カスタムツール**: 独自のツールを作成する方法を学びます。\n",
    "* **基盤となる LLM として Amazon Bedrock モデルを使用**: 基盤となる LLM モデルとして Amazon Bedrock の Anthropic Claude 3.7 を使用しました。\n",
    "* **Amazon Bedrock Guardails を基盤となる安全対策として使用**: Amazon Bedrock Guardrails を使用してエージェントアプリケーションを保護します。"
   ]
  },
  {
   "cell_type": "markdown",
   "metadata": {},
   "source": [
    "## セットアップと前提条件\n",
    "\n",
    "### 前提条件\n",
    "* Python 3.10 以上\n",
    "* AWS アカウント\n",
    "* Amazon Bedrock で有効化された Anthropic Claude 3.7\n",
    "* Amazon Bedrock Guardrails を作成する権限を持つ IAM ロール\n",
    "\n",
    "Strands エージェントに必要なパッケージをインストールしましょう"
   ]
  },
  {
   "cell_type": "code",
   "execution_count": null,
   "metadata": {},
   "outputs": [],
   "source": [
    "!pip install -U -r requirements.txt"
   ]
  },
  {
   "cell_type": "markdown",
   "metadata": {},
   "source": [
    "### 依存パッケージのインポート\n",
    "\n",
    "依存パッケージをインポートしましょう"
   ]
  },
  {
   "cell_type": "code",
   "execution_count": null,
   "metadata": {},
   "outputs": [],
   "source": [
    "import json\n",
    "import boto3\n",
    "import os\n",
    "from strands import Agent, tool\n",
    "from strands.models import BedrockModel\n",
    "from customer_profile_tools import get_customer_profile, list_customer_purchases, list_customer_tickets, update_customer_profile\n",
    "from customer_profiles import CustomerProfileManager, generate_synthetic_profiles"
   ]
  },
  {
   "cell_type": "markdown",
   "metadata": {},
   "source": [
    "### データの生成\n",
    "\n",
    "この例のために合成データを生成してみましょう。実際にはエージェントは既存の顧客データベースに接続しますが、この例ではJSONファイルを使用します。"
   ]
  },
  {
   "cell_type": "code",
   "execution_count": null,
   "metadata": {},
   "outputs": [],
   "source": [
    " # 必要に応じて合成プロファイルを生成\n",
    "profile_manager = CustomerProfileManager()\n",
    "if not os.path.exists(\"customer_profiles.json\"):\n",
    "    print(\"Generating synthetic customer profiles\")\n",
    "    profiles = generate_synthetic_profiles(10)\n",
    "    print(f\"Generated {len(profiles)} synthetic customer profiles\")\n",
    "else:\n",
    "    print(\"Using existing customer profiles\")\n",
    "    profiles = list(profile_manager.profiles.values())\n",
    "    print(f\"Loaded {len(profiles)} customer profiles\")\n",
    "\n",
    "# 参考のためにサンプルプロファイルを表示\n",
    "if profiles:\n",
    "    sample_profile = profiles[0]\n",
    "    print(f\"\\nSample Profile: {sample_profile.name}\")\n",
    "    print(f\"Email: {sample_profile.email}\")\n",
    "    print(f\"Customer ID: {sample_profile.customer_id}\")\n",
    "    print(f\"Location: {sample_profile.state}, {sample_profile.country}\")\n",
    "    print(f\"Purchases: {len(sample_profile.purchase_history)}\")\n",
    "    print(f\"Support Tickets: {len(sample_profile.support_tickets)}\")"
   ]
  },
  {
   "cell_type": "markdown",
   "metadata": {},
   "source": [
    "## Amazon Bedrock ガードレールの作成\n",
    "\n",
    "では、顧客向けアプリケーションにおける金融アドバイスの提供を防止し、よくある課題をフィルタリングするための Amazon Bedrock ガードレールを作成しましょう。\n",
    "\n",
    "ガードレールを作成するには、まず Amazon Bedrock クライアントを設定する必要があります。"
   ]
  },
  {
   "cell_type": "code",
   "execution_count": null,
   "metadata": {},
   "outputs": [],
   "source": [
    "# AWSクライアントの構成\n",
    "bedrock_client = boto3.client('bedrock')\n",
    "bedrock_runtime = boto3.client('bedrock-runtime')"
   ]
  },
  {
   "cell_type": "markdown",
   "metadata": {},
   "source": [
    "これで、`create_guardrail` メソッドを使用して、アプリケーションで使用する `no-investment-advice` ガードレールを作成できます。この例では、ガードレールに `Fiduciary Advice` のトピック拒否を追加し、エージェントによる受託者へのアドバイスをブロックします。ガードレールには、不適切なコンテンツをフィルタリングするための基本的なコンテンツポリシーと、特定の定義済み単語を検出するための単語ポリシー設定も含まれます。"
   ]
  },
  {
   "cell_type": "code",
   "execution_count": null,
   "metadata": {},
   "outputs": [],
   "source": [
    "# Bedrock Guardrail の作成\n",
    "response = bedrock_client.create_guardrail(\n",
    "    name='no-investment-advice',\n",
    "    description='Prevents the model from providing fiduciary advice.',\n",
    "    topicPolicyConfig={\n",
    "        'topicsConfig': [\n",
    "            {\n",
    "                'name': 'Fiduciary Advice',\n",
    "                'definition': 'Providing personalized advice or recommendations on managing financial assets, investments, or trusts in a fiduciary capacity or assuming related obligations and liabilities.',\n",
    "                'examples': [\n",
    "                    'What stocks should I invest in for my retirement?',\n",
    "                    'Is it a good idea to put my money in a mutual fund?',\n",
    "                    'How should I allocate my 401(k) investments?',\n",
    "                    'What type of trust fund should I set up for my children?',\n",
    "                    'Should I hire a financial advisor to manage my investments?'\n",
    "                ],\n",
    "                'type': 'DENY'\n",
    "            }\n",
    "        ]\n",
    "    },\n",
    "    contentPolicyConfig={\n",
    "        'filtersConfig': [\n",
    "            {\n",
    "                'type': 'SEXUAL',\n",
    "                'inputStrength': 'HIGH',\n",
    "                'outputStrength': 'HIGH'\n",
    "            },\n",
    "            {\n",
    "                'type': 'VIOLENCE',\n",
    "                'inputStrength': 'HIGH',\n",
    "                'outputStrength': 'HIGH'\n",
    "            },\n",
    "            {\n",
    "                'type': 'HATE',\n",
    "                'inputStrength': 'HIGH',\n",
    "                'outputStrength': 'HIGH'\n",
    "            },\n",
    "            {\n",
    "                'type': 'INSULTS',\n",
    "                'inputStrength': 'HIGH',\n",
    "                'outputStrength': 'HIGH'\n",
    "            },\n",
    "            {\n",
    "                'type': 'MISCONDUCT',\n",
    "                'inputStrength': 'HIGH',\n",
    "                'outputStrength': 'HIGH'\n",
    "            },\n",
    "            {\n",
    "                'type': 'PROMPT_ATTACK',\n",
    "                'inputStrength': 'HIGH',\n",
    "                'outputStrength': 'NONE'\n",
    "            }\n",
    "        ]\n",
    "    },\n",
    "    wordPolicyConfig={\n",
    "        'wordsConfig': [\n",
    "            {'text': 'fiduciary advice'},\n",
    "            {'text': 'investment recommendations'},\n",
    "            {'text': 'stock picks'},\n",
    "            {'text': 'financial planning guidance'},\n",
    "            {'text': 'portfolio allocation advice'},\n",
    "            {'text': 'retirement fund suggestions'},\n",
    "            {'text': 'wealth management tips'},\n",
    "            {'text': 'trust fund setup'},\n",
    "            {'text': 'investment strategy'},\n",
    "            {'text': 'financial advisor recommendations'}\n",
    "        ],\n",
    "        'managedWordListsConfig': [\n",
    "            {\n",
    "                'type': 'PROFANITY'\n",
    "            }\n",
    "        ]\n",
    "    },\n",
    "    blockedInputMessaging='I apologize, but I am not able to provide fiduciary advice. For your privacy and security, please modify your input and try again without including any financial, or restricted details.',\n",
    "    blockedOutputsMessaging='I apologize, but I am not able to provide fiduciary advice. For your privacy and security, please modify your input and try again without including financial, or restricted details.',\n",
    ")\n",
    "\n",
    "# 応答を印刷してガードレール ID を取得\n",
    "print(\"Guardrail ID:\", response.get('guardrailId'))\n",
    "print(\"Guardrail ARN:\", response.get('guardrailArn'))\n",
    "\n",
    "# 後で使用するためにガードレール ID を保存\n"
   ]
  },
  {
   "cell_type": "code",
   "execution_count": null,
   "metadata": {},
   "outputs": [],
   "source": [
    "guardrail_id = response.get('guardrailId')\n",
    "guardrail_version = \"DRAFT\"  #初期バージョンは常に 1 "
   ]
  },
  {
   "cell_type": "markdown",
   "metadata": {},
   "source": [
    "### ガードレールを直接テストする\n",
    "\n",
    "ガードレールが期待通りに動作することを確認するために、`test_guardrail` サポート関数を作成します。この関数は `apply_guardrail` メソッドを使用して入力テキストを保護し、ガードレールによって実行されるアクションに関する情報を提供します。"
   ]
  },
  {
   "cell_type": "code",
   "execution_count": null,
   "metadata": {},
   "outputs": [],
   "source": [
    "# ガードレールによって入出力がブロックされているかどうかを確認するテスト機能\n",
    "def test_guardrail(text, source_type='INPUT'):\n",
    "      response = bedrock_runtime.apply_guardrail(\n",
    "          guardrailIdentifier=guardrail_id,\n",
    "          guardrailVersion=guardrail_version,\n",
    "          source=source_type,  # can be 'INPUT' or 'OUTPUT'\n",
    "          content=[{\"text\": {\"text\": text}}]\n",
    "      )\n",
    "\n",
    "      # 新しい応答形式では異なるフィールドが使用される\n",
    "      print(f\"Action: {response.get('action')}\")\n",
    "      print(f\"Action Reason: {response.get('actionReason', 'None')}\")\n",
    "\n",
    "      # コンテンツがブロックされているかどうかを確認\n",
    "      is_blocked = response.get('action') == 'GUARDRAIL_INTERVENED'\n",
    "      print(f\"Content {source_type} blocked: {is_blocked}\")\n",
    "\n",
    "      if is_blocked:\n",
    "          # トリガーされたトピックポリシーを印刷\n",
    "          assessments = response.get('assessments', [])\n",
    "          if assessments and 'topicPolicy' in assessments[0]:\n",
    "              print(\"Blocked topics:\", [topic.get('name') for topic in\n",
    "  assessments[0]['topicPolicy'].get('topics', [])\n",
    "                                       if topic.get('action') == 'BLOCKED'])\n",
    "\n",
    "          # 可能な場合は変更された出力を印刷\n",
    "          if 'outputs' in response and response['outputs']:\n",
    "              print(\"Modified content:\", response['outputs'][0].get('text', 'None'))\n",
    "\n",
    "      return response\n",
    "\n",
    "# 安全な入力をテスト\n",
    "print(\"Testing safe input:\")\n",
    "test_guardrail(\"Tell me about general financial literacy concepts.\")\n",
    "\n",
    "# ブロックする必要があるテスト入力\n",
    "print(\"\\nTesting input that should be blocked:\")\n",
    "test_guardrail(\"What stocks should I invest in for my retirement?\")"
   ]
  },
  {
   "cell_type": "markdown",
   "metadata": {},
   "source": [
    "## Strands エージェントとの統合\n",
    "\n",
    "ガードレールが期待どおりに動作していることを確認したので、Amazon Bedrock ガードレールと Strands エージェントを統合してみましょう。これは、Bedrock モデルオブジェクトで `guardrail_id`、`guardrail_version`、`guardrail_trace` を設定することで行います。モデルオブジェクトを作成したら、それを使用してエージェントを作成できます。このエージェントでは、`get_customer_profile`、`list_customer_purchases`、`list_customer_tickets`、`update_customer_profile` というカスタムツールを使用します。これらの実装を確認するには、`customer_profile_tools.py` ファイルを確認してください。"
   ]
  },
  {
   "cell_type": "code",
   "execution_count": null,
   "metadata": {},
   "outputs": [],
   "source": [
    "guardrail_id, guardrail_version"
   ]
  },
  {
   "cell_type": "code",
   "execution_count": null,
   "metadata": {},
   "outputs": [],
   "source": [
    "# ガードレール構成の Bedrock モデルを作成\n",
    "bedrock_model = BedrockModel(\n",
    "    model_id=\"us.anthropic.claude-3-7-sonnet-20250219-v1:0\",\n",
    "    guardrail_id=guardrail_id,\n",
    "    guardrail_version=guardrail_version,\n",
    "    # デバッグ用のトレースを有効化\n",
    "    guardrail_trace=\"enabled\"\n",
    ")\n",
    "\n",
    "# ガードレール保護モデルを使用してエージェントを作成\n",
    "agent = Agent(\n",
    "    system_prompt=\"You are a helpful assistant that provides customer support for retail products.\",\n",
    "    model=bedrock_model,\n",
    "    tools=[\n",
    "        get_customer_profile,\n",
    "        list_customer_purchases,\n",
    "        list_customer_tickets,\n",
    "        update_customer_profile\n",
    "    ]\n",
    ")"
   ]
  },
  {
   "cell_type": "markdown",
   "metadata": {},
   "source": [
    "### ガードレールを用いたStrandsエージェントのテスト\n",
    "\n",
    "安全な入力と危険な入力の両方でエージェントをテストしてみましょう。そのためには、エージェントの応答を処理し、`stop_reason`がガードレール介入によるものかどうかを確認します。"
   ]
  },
  {
   "cell_type": "code",
   "execution_count": null,
   "metadata": {},
   "outputs": [],
   "source": [
    "# エージェントをテストし、ガードレール介入をチェックするヘルパー関数\n",
    "def test_agent_with_guardrail(prompt):\n",
    "    print(f\"\\nUser: {prompt}\")\n",
    "\n",
    "    # エージェントの応答を取得\n",
    "    response = agent(prompt)\n",
    "\n",
    "    # ガードレール介入の確認\n",
    "    if hasattr(response, 'stop_reason') and response.stop_reason == \"guardrail_intervened\":\n",
    "        print(\"\\n ⚠️ GUARDRAIL INTERVENED!\")\n",
    "        #print(f\"Response: {response}\")\n",
    "    else:\n",
    "        return response"
   ]
  },
  {
   "cell_type": "code",
   "execution_count": null,
   "metadata": {},
   "outputs": [],
   "source": [
    "# 安全な質問でテスト\n",
    "test_agent_with_guardrail(\n",
    "    \" what is my latest purchase my Customer ID is CUST100?\"\n",
    ")"
   ]
  },
  {
   "cell_type": "code",
   "execution_count": null,
   "metadata": {},
   "outputs": [],
   "source": [
    "# 投資の推奨、憎悪や暴力について尋ねる質問でテスト\n",
    "test_agent_with_guardrail(\n",
    "    \"My SSN is 123-45-6789. Can you help me understand how to protect my retirement account?\"\n",
    ")"
   ]
  },
  {
   "cell_type": "markdown",
   "metadata": {},
   "source": [
    "## 会話履歴の調査\n",
    "\n",
    "ガードレールがどのように影響したかを確認するために、会話履歴を調べてみましょう。"
   ]
  },
  {
   "cell_type": "code",
   "execution_count": null,
   "metadata": {},
   "outputs": [],
   "source": [
    "# 会話履歴を出力\n",
    "print(f\"Conversation history: {json.dumps(agent.messages, indent=4)}\")"
   ]
  },
  {
   "cell_type": "markdown",
   "metadata": {},
   "source": [
    "## チャットボットへの Bedrock ガードレールの統合\n",
    "\n",
    "Amazon Bedrock には、Strands Agents SDK と直接統合できる組み込みのガードレールフレームワークが用意されています。ガードレールがトリガーされると、Strands Agents SDK は会話履歴内のユーザー入力を自動的に上書きします。これは、同じ質問によってフォローアップの質問がブロックされないようにするためです。これは、guardrail_redact_input ブール値と、guardrail_redact_input_message 文字列を使用して上書きメッセージを変更することで設定できます。また、モデルの出力にも同じ機能が組み込まれていますが、デフォルトでは無効になっています。guardrail_redact_output ブール値を使用してこれを有効にし、guardrail_redact_output_message 文字列を使用して上書きメッセージを変更できます。以下は、コードで Bedrock ガードレールを活用する例です。"
   ]
  },
  {
   "cell_type": "code",
   "execution_count": null,
   "metadata": {},
   "outputs": [],
   "source": [
    "bedrock_model = BedrockModel(\n",
    "    model_id=\"us.anthropic.claude-3-7-sonnet-20250219-v1:0\",\n",
    "    guardrail_id=guardrail_id,         # BedrockガードレールID\n",
    "    guardrail_version=guardrail_version,             # ガードレールバージョン\n",
    "    guardrail_trace=\"enabled\",\n",
    "    guardrail_redact_output = True,        \n",
    "    guardrail_redact_input = True  ,\n",
    "    guardrail_redact_input_message = \"Guardrail Intervened and Redacted\"     \n",
    ")\n",
    "\n",
    "# ガードレール保護モデルを使用してエージェントを作成\n",
    "agent = Agent(\n",
    "    system_prompt=\"You are a helpful assistant that provides customer support for retail products.\",\n",
    "    model=bedrock_model,\n",
    "    tools=[\n",
    "        get_customer_profile,\n",
    "        list_customer_purchases,\n",
    "        list_customer_tickets,\n",
    "        update_customer_profile\n",
    "    ]\n",
    ")"
   ]
  },
  {
   "cell_type": "code",
   "execution_count": null,
   "metadata": {},
   "outputs": [],
   "source": [
    "# カスタマーサポートエージェントに安全な質問をテストする\n",
    "agent(f\"what is the data from customer_id {sample_profile.customer_id}?\")"
   ]
  },
  {
   "cell_type": "code",
   "execution_count": null,
   "metadata": {},
   "outputs": [],
   "source": [
    "# グアドレールが介入し、入力がカスタムメッセージで編集されるユーザー入力によるテスト\n",
    "agent(\"How should I allocate my 401(k) investments?\")"
   ]
  },
  {
   "cell_type": "markdown",
   "metadata": {},
   "source": [
    "編集された入力のカスタム メッセージは、次のように会話履歴に保存されます。"
   ]
  },
  {
   "cell_type": "code",
   "execution_count": null,
   "metadata": {},
   "outputs": [],
   "source": [
    "print(f\"Conversation history: {json.dumps(agent.messages, indent=4)}\")"
   ]
  },
  {
   "cell_type": "markdown",
   "metadata": {},
   "source": [
    "## クリーンアップ\n",
    "\n",
    "ガードレールを以下のように削除してください。"
   ]
  },
  {
   "cell_type": "code",
   "execution_count": null,
   "metadata": {},
   "outputs": [],
   "source": [
    "bedrock_client.delete_guardrail(guardrailIdentifier=guardrail_id)"
   ]
  },
  {
   "cell_type": "markdown",
   "metadata": {},
   "source": [
    "## おめでとうございます！\n",
    "\n",
    "このノートブックでは、以下の方法を説明しました。\n",
    "\n",
    "1. 金融アドバイスの提供を阻止する Amazon Bedrock ガードレールを作成する\n",
    "2. Bedrock ランタイム API を使用してガードレールを直接テストする\n",
    "3. ガードレールを Strands エージェントに統合する\n",
    "4. さまざまな入力でエージェントをテストし、ガードレールの動作を確認する\n",
    "5. Strands エージェントを使用して、チャットボットに Bedrock ガードレールを統合する\n",
    "5. ガードレールを削除する\n",
    "\n",
    "ガードレールは、AI の応答を安全かつコンプライアンスに準拠した状態に保ち、ユースケースに適した状態に保つのに役立ちます。\n"
   ]
  }
 ],
 "metadata": {
  "kernelspec": {
   "display_name": "Python 3 (ipykernel)",
   "language": "python",
   "name": "python3"
  },
  "language_info": {
   "codemirror_mode": {
    "name": "ipython",
    "version": 3
   },
   "file_extension": ".py",
   "mimetype": "text/x-python",
   "name": "python",
   "nbconvert_exporter": "python",
   "pygments_lexer": "ipython3",
   "version": "3.12.9"
  }
 },
 "nbformat": 4,
 "nbformat_minor": 4
}
