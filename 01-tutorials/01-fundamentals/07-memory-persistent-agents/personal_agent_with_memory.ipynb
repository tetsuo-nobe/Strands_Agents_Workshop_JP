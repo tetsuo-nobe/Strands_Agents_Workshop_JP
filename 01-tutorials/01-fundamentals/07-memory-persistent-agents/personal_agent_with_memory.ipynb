{
 "cells": [
  {
   "cell_type": "markdown",
   "id": "8797de2a",
   "metadata": {},
   "source": [
    "# Strands Agents セッション間でのメモリの永続化\n",
    "\n",
    "この例では、Strands Agents の異なるセッション間でメモリを永続化する方法を学びます。\n",
    "\n",
    "`duckduckgo` 検索 API を使用して Web 検索を行うエージェントをユースケースとして使用します。\n",
    "\n",
    "このノートブックでは、次のことを行います。\n",
    "- メモリ駆動型 Strands エージェントの機能について調べる。\n",
    "- メモリの保存、取得、一覧表示の方法を学ぶ。\n",
    "- エージェント経由で Web 検索を実行する方法を理解する。\n",
    "- 対話型ループでエージェントと対話する。\n",
    "\n",
    "### 使用例\n",
    "\n",
    "メモリの保存:\n",
    "```\n",
    "私はコーヒーよりも紅茶が好きだと覚えておく。\n",
    "```\n",
    "\n",
    "メモリの取得:\n",
    "```\n",
    "私は何を飲むのが好きか？\n",
    "```\n",
    "\n",
    "すべての記憶を一覧表示する:\n",
    "```\n",
    "私について覚えていることをすべて見せてください\n",
    "```\n",
    "\n",
    "### 記憶の使用に関するヒント\n",
    "\n",
    "- エージェントに情報を記憶するよう依頼する際は、明確に指示してください\n",
    "- 関連する記憶を検索するには、具体的なクエリを使用してください\n",
    "- 記憶の永続化により、より自然で文脈に沿った会話が可能になります"
   ]
  },
  {
   "cell_type": "markdown",
   "id": "c468364c",
   "metadata": {},
   "source": [
    "## セットアップと前提条件\n",
    "\n",
    "### 前提条件\n",
    "* Python 3.10 以上\n",
    "* 環境に設定された AWS アカウントと AWS 認証情報\n",
    "* Amazon Bedrock で Anthropic Claude 3.7 が有効化されていること\n",
    "* Amazon Bedrock ナレッジベース、Amazon S3 バケット、Amazon DynamoDB を作成する権限を持つ IAM ロール\n",
    "\n",
    "Strands エージェントに必要なパッケージをインストールしましょう"
   ]
  },
  {
   "cell_type": "code",
   "execution_count": null,
   "id": "ae029383",
   "metadata": {},
   "outputs": [],
   "source": [
    "# 必要なパッケージのインストール\n",
    "!pip install -r requirements.txt"
   ]
  },
  {
   "cell_type": "code",
   "execution_count": null,
   "id": "11c92217",
   "metadata": {},
   "outputs": [],
   "source": [
    "# 必要なライブラリのインポート\n",
    "import os\n",
    "from strands import Agent, tool\n",
    "from strands_tools import mem0_memory\n",
    "from duckduckgo_search import DDGS\n",
    "from duckduckgo_search.exceptions import DuckDuckGoSearchException, RatelimitException"
   ]
  },
  {
   "cell_type": "markdown",
   "id": "265d4267",
   "metadata": {},
   "source": [
    "## Mem0 構成\n",
    "\n",
    "### メモリバックエンドオプション\n",
    "\n",
    "Mem0 メモリツールは、3 つの異なるバックエンド構成をサポートしています。\n",
    "\n",
    "1. **[OpenSearch](https://aws.amazon.com/opensearch-service/features/serverless/)** (AWS 環境に推奨):\n",
    "- AWS 認証情報と OpenSearch 構成が必要です。\n",
    "- `OPENSEARCH_HOST` と、オプションで `AWS_REGION` を設定します (デフォルトは us-west-2)。\n",
    "\n",
    "2. **[FAISS]((https://faiss.ai/index.html))** (ローカル開発のデフォルト):\n",
    "- ローカルベクターストアのバックエンドとして FAISS を使用します。\n",
    "- ローカルベクターストレージには faiss-cpu パッケージが必要です。\n",
    "- 追加の構成は不要です。\n",
    "\n",
    "3. **Mem0 プラットフォーム**:\n",
    "- メモリ管理に [Mem0 プラットフォーム API](https://docs.mem0.ai/platform/quickstart) を使用します。\n",
    "- Mem0 API キーが必要です。 : 環境変数の `MEM0_API_KEY`\n",
    "\n",
    "### 環境設定\n",
    "\n",
    "| 環境変数 | 説明 | デフォルト | 必須 |\n",
    "|---------------------|------------|----------|--------------|\n",
    "| OPENSEARCH_HOST | OpenSearch サーバーレスホストの URL | なし | OpenSearch |\n",
    "| AWS_REGION | OpenSearch の AWS リージョン | us-west-2 | OpenSearch |\n",
    "| MEM0_API_KEY | Mem0 プラットフォームの API キー | なし | Mem0 プラットフォーム |\n",
    "| DEV | 開発モードを有効にする | false | すべてのモード |\n",
    "\n",
    "このラボでは、メモリ管理のバックエンドとして以下の 2 つのオプションを使用できます。\n",
    "### オプション 1. [Opensearch Serverless](https://aws.amazon.com/opensearch-service/features/serverless/)\n",
    "\n",
    "以下が AOSS のセットアップアーキテクチャです。\n",
    "\n",
    "<div style=\"text-align:left\">\n",
    "<img src=\"images/arch_AOSS.png\" width=\"65%\" />\n",
    "</div>\n",
    "\n"
   ]
  },
  {
   "cell_type": "code",
   "execution_count": null,
   "id": "0468a998-ebe9-4277-913f-6ea69de8e6e1",
   "metadata": {},
   "outputs": [],
   "source": [
    "# OpenSearch ホストを手動で定義\n",
    "#os.environ[\"OPENSEARCH_HOST\"] = \"<your-opensearch-host>.<region>.aoss.amazonaws.com\""
   ]
  },
  {
   "cell_type": "code",
   "execution_count": null,
   "id": "1cc2bbe4-0a89-4b15-93f3-4baa9fc804c0",
   "metadata": {},
   "outputs": [],
   "source": [
    "# または - スクリプトを実行して AWS アカウントに OpenSearch Serverless リソースを作成\n",
    "!bash prereqs/deploy_OSS.sh"
   ]
  },
  {
   "cell_type": "code",
   "execution_count": null,
   "id": "075b3163-cd88-4054-969c-0075dfc1dd84",
   "metadata": {},
   "outputs": [],
   "source": [
    "# オプション1: OpenSearch Serverless\n",
    "from dotenv import load_dotenv\n",
    "load_dotenv() # OpenSearch 環境変数を取得する"
   ]
  },
  {
   "cell_type": "markdown",
   "id": "7dc00d27-4a5b-44fb-9bfc-3b2e906c21f5",
   "metadata": {},
   "source": [
    "### オプション 2 [Mem0 プラットフォーム](https://docs.mem0.ai/platform):\n",
    "\n",
    "#### [注]: Opensearch Serverless オプションを既にデプロイしている場合は、この手順は不要です。\n",
    "\n",
    "代わりに、[こちら](https://docs.mem0.ai/platform/quickstart#2-api-key-setup) の手順に従って Mem0 API キーを作成し、それを環境変数 **MEM0_API_KEY** として追加することもできます。\n",
    "Mem0 プラットフォームのセットアップのアーキテクチャは以下のとおりです。\n",
    "\n",
    "<div style=\"text-align:left\">\n",
    "<img src=\"images/arch_mem0.png\" width=\"65%\" />\n",
    "</div>\n",
    "\n",
    "エージェントの機能を有効にするには、AWS 認証情報と OpenSearch / Mem0 プラットフォームの環境変数を設定する必要があります。これらの変数は、メモリの保存と取得に使用されます。"
   ]
  },
  {
   "cell_type": "code",
   "execution_count": null,
   "id": "c99dae50-ed8b-4474-b5d6-9cc16981b436",
   "metadata": {},
   "outputs": [],
   "source": [
    "# オプション2: Mem0 APIキー\n",
    "\n",
    "#os.environ[\"MEM0_API_KEY\"] = \"<your-mem0-api-key>\""
   ]
  },
  {
   "cell_type": "markdown",
   "id": "5679ce42",
   "metadata": {},
   "source": [
    "## システムプロンプトの定義\n",
    "\n",
    "`SYSTEM_PROMPT` 変数は、メモリエージェントの動作と機能を定義します。このプロンプトは、エージェントが保存された記憶に基づいてパーソナライズされた応答を提供し、必要に応じて Web 検索を実行するようにガイドします。"
   ]
  },
  {
   "cell_type": "code",
   "execution_count": null,
   "id": "01951bc0",
   "metadata": {},
   "outputs": [],
   "source": [
    "# メモリ操作のためのフォーカスされたシステムプロンプトを定義\n",
    "SYSTEM_PROMPT = \"\"\"あなたはユーザーにとって頼りになるパーソナルアシスタントです。あなたの仕事は、ユーザーの履歴に基づいてパーソナライズされた応答を提供することで、ユーザーを支援することです。\n",
    "機能：\n",
    "  - mem0_memory ツール（action=\"store\"）を使用して情報を保存できます。\n",
    "  - mem0_memory ツール（action=\"retrieve\"）を使用して、関連する記憶を取得できます。\n",
    "  - duckduckgo_search を使用して、Web 上で情報を検索できます。\n",
    "重要なルール：\n",
    "  - 応答は会話的で自然なものにしてください。\n",
    "  - ユーザーに応答する前に必ず記憶を取得し、それに基づいて応答してください。\n",
    "  - 新しいユーザー情報とユーザーの設定は、mem0_memory に保存してください。\n",
    "  - 関連のある情報のみを共有してください。\n",
    "  - 情報がない場合には、丁寧にその旨を伝えてください。\n",
    "\"\"\""
   ]
  },
  {
   "cell_type": "markdown",
   "id": "334a7192",
   "metadata": {},
   "source": [
    "## Web検索ツールの定義\n",
    "\n",
    "[Duckduckgo Search API](https://github.com/deedy5/duckduckgo_search) 関数を使用した `websearch` ツールにより、エージェントはWeb検索を実行できます。この関数は例外を処理し、検索結果または適切なエラーメッセージを返します。"
   ]
  },
  {
   "cell_type": "code",
   "execution_count": null,
   "id": "8bbe681b",
   "metadata": {},
   "outputs": [],
   "source": [
    "@tool\n",
    "def websearch(\n",
    "    keywords: str,\n",
    "    region: str = \"us-en\",\n",
    "    max_results: int | None = None,\n",
    ") -> str:\n",
    "    \"\"\"ウェブを検索して最新情報を取得します。\n",
    "       引数:\n",
    "         keywords (str): 検索クエリキーワード。\n",
    "         region (str): 検索地域: wt-wt、us-en、uk-en、ru-ru など。\n",
    "         max_results (int | None): 返される結果の最大件数。\n",
    "       戻り値:\n",
    "        検索結果を含む辞書のリスト。\n",
    "    \"\"\"\n",
    "    try:\n",
    "        results = DDGS().text(keywords, region=region, max_results=max_results)\n",
    "        return results if results else \"No results found.\"\n",
    "    except RatelimitException:\n",
    "        return \"RatelimitException: Please try again after a short delay.\"\n",
    "    except DuckDuckGoSearchException as d:\n",
    "        return f\"DuckDuckGoSearchException: {d}\"\n",
    "    except Exception as e:\n",
    "        return f\"Exception: {e}\""
   ]
  },
  {
   "cell_type": "markdown",
   "id": "3bd7828a",
   "metadata": {},
   "source": [
    "## メモリエージェントの作成\n",
    "\n",
    "定義したツールとシステムプロンプトを使用して、メモリに重点を置いたエージェントを初期化します。Strandsエージェントは以下の機能を備えています。\n",
    "1. コンテキストに基づいてメモリを保存および取得します。メモリを使用することで、よりパーソナライズされ、コンテキストに基づいたAIインタラクションを実現します。\n",
    "2. DuckDuckGoを使用してWeb検索を実行し、最新情報を提供します。"
   ]
  },
  {
   "cell_type": "code",
   "execution_count": null,
   "id": "e860d7f3",
   "metadata": {},
   "outputs": [],
   "source": [
    "# メモリとウェブ検索ツールを備えたエージェントを作成\n",
    "USER_ID = \"new_user\" # 実際のユーザーIDに置き換える\n",
    "\n",
    "memory_agent = Agent(\n",
    "    system_prompt=SYSTEM_PROMPT,\n",
    "    tools=[mem0_memory, websearch],\n",
    ")"
   ]
  },
  {
   "cell_type": "markdown",
   "id": "8ea93f03",
   "metadata": {},
   "source": [
    "## メモリ操作のデモンストレーション\n",
    "\n",
    "以下の例では、メモリエージェントを使用してメモリを保存、取得、および一覧表示する方法を示します。\n",
    "\n",
    "- **保存**: 重要な情報を後で取得できるように保存する\n",
    "- ユーザーの設定を保存する\n",
    "- 重要な事実を記憶する\n",
    "- 会話のコンテキストを維持する\n",
    "\n",
    "- **取得**: クエリに基づいて関連するメモリにアクセスする\n",
    "- 以前に保存した情報を検索する\n",
    "- ユーザーの履歴に基づいてパーソナライズされた応答を提供する\n",
    "\n",
    "- **一覧**: 保存されているすべてのメモリを表示する\n",
    "- 保持されている情報を確認する\n",
    "- 保存されているメモリを監査する"
   ]
  },
  {
   "cell_type": "code",
   "execution_count": null,
   "id": "825910bf",
   "metadata": {},
   "outputs": [],
   "source": [
    "# 初期の記憶を保存して取り出す\n",
    "memory_agent.tool.mem0_memory(\n",
    "    action=\"store\", content=f\"ユーザー名は {USER_ID} です。\", user_id=USER_ID\n",
    ")\n",
    "memory_agent.tool.mem0_memory(\n",
    "    action=\"store\", \n",
    "    content=\"私はコーヒーよりもお茶を飲むのが好きです。\", \n",
    "    user_id=USER_ID\n",
    ")"
   ]
  },
  {
   "cell_type": "code",
   "execution_count": null,
   "id": "f92c7f95",
   "metadata": {},
   "outputs": [],
   "source": [
    "# Retrieve memories\n",
    "retrieved_memories = memory_agent.tool.mem0_memory(\n",
    "    action=\"retrieve\", query=\"ユーザーの名前は何ですか?\", user_id=USER_ID\n",
    ")\n",
    "print(\"Retrieved Memories:\", retrieved_memories)"
   ]
  },
  {
   "cell_type": "code",
   "execution_count": null,
   "id": "c7047852",
   "metadata": {},
   "outputs": [],
   "source": [
    "# Retrieve memories about preferences\n",
    "memory_agent.tool.mem0_memory(\n",
    "    action=\"retrieve\",\n",
    "    query=\"私の飲み物の好みは何ですか?\",\n",
    "    user_id=USER_ID\n",
    ")"
   ]
  },
  {
   "cell_type": "code",
   "execution_count": null,
   "id": "26c5dc92",
   "metadata": {},
   "outputs": [],
   "source": [
    "# Ask the agent a question\n",
    "response = memory_agent(\"今日ニューヨークで何が起きているのでしょうか？\")\n",
    "print(response)"
   ]
  },
  {
   "cell_type": "code",
   "execution_count": null,
   "id": "790d8d37",
   "metadata": {},
   "outputs": [],
   "source": [
    "\n",
    "# List all stored memories\n",
    "print(\"All Stored Memories:\")\n",
    "all_memories = memory_agent.tool.mem0_memory(\n",
    "    action=\"list\", user_id=USER_ID\n",
    ")"
   ]
  },
  {
   "cell_type": "markdown",
   "id": "f5c72c91",
   "metadata": {},
   "source": [
    "## 対話型エージェントの使用\n",
    "\n",
    "最後に、ユーザーがメモリエージェントと対話するための対話型ループを提供します。ユーザーは、新しいメモリを保存したり、既存のメモリを取得したり、保存されているすべてのメモリを一覧表示したりできます。\n",
    "\n",
    "対話型の使用をテストするには：\n",
    "1. 要件をインストールします：`pip install -r requirements.txt`\n",
    "1. Pythonファイル `personal_agent_with_memory.py` を実行します。"
   ]
  },
  {
   "cell_type": "markdown",
   "id": "856ea59c",
   "metadata": {},
   "source": [
    "## まとめ\n",
    "\n",
    "このノートブックでは、Strandsフレームワークを用いて記憶機能を備えたパーソナルエージェントを作成する方法を説明します。エージェントは以下のことが可能です。\n",
    "\n",
    "1. ユーザーに関する情報を保存する\n",
    "2. コンテキストに基づいて関連する記憶を検索する\n",
    "3. Webで追加情報を検索する\n",
    "4. パーソナライズされた応答を提供する\n",
    "\n",
    "これらの機能を組み合わせることで、エージェントは会話全体を通してコンテキストを維持し、時間の経過とともによりパーソナライズされた支援を提供できるようになります。"
   ]
  },
  {
   "cell_type": "markdown",
   "id": "be6fd03a-26cc-4190-bb09-872c6767f972",
   "metadata": {},
   "source": [
    "### クリーンアップ\n",
    "\n",
    "Opensearch Serverless リソースをクリーンアップするには、この bash スクリプトを実行します。「MEM0_PLATFORM_API」を使用した場合は、このスクリプトを実行する必要はありません。"
   ]
  },
  {
   "cell_type": "code",
   "execution_count": null,
   "id": "b6113d4f-45d2-46a5-9853-335b26da0a43",
   "metadata": {},
   "outputs": [],
   "source": [
    "!sh prereqs/cleanup_OSS.sh"
   ]
  }
 ],
 "metadata": {
  "kernelspec": {
   "display_name": "Python 3 (ipykernel)",
   "language": "python",
   "name": "python3"
  },
  "language_info": {
   "codemirror_mode": {
    "name": "ipython",
    "version": 3
   },
   "file_extension": ".py",
   "mimetype": "text/x-python",
   "name": "python",
   "nbconvert_exporter": "python",
   "pygments_lexer": "ipython3",
   "version": "3.12.9"
  }
 },
 "nbformat": 4,
 "nbformat_minor": 5
}
