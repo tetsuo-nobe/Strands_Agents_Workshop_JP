{
 "cells": [
  {
   "cell_type": "markdown",
   "metadata": {
    "collapsed": false,
    "jupyter": {
     "outputs_hidden": false
    },
    "pycharm": {
     "name": "#%% md\n"
    }
   },
   "source": [
    "# Strands Agents レスポンスの高度な処理"
   ]
  },
  {
   "cell_type": "markdown",
   "metadata": {},
   "source": [
    "Strands Agents では、以下の 2 つの方法を使用して、エージェント実行中に発生したイベントをインターセプトして処理できます。\n",
    "\n",
    "- **非同期イテレータ**: FastAPI、aiohttp、Django Channels などの非同期フレームワークに最適です。これらの環境向けに、SDK は非同期イテレータを返す `stream_async` メソッドを提供しています。\n",
    "- **コールバックハンドラ**: エージェント実行中に発生したイベントをインターセプトして処理できます。これにより、リアルタイム監視、カスタム出力フォーマット、外部システムとの統合が可能になります。\n",
    "\n",
    "この例では、両方の方法を使用してエージェントの呼び出しを処理する方法を説明します。\n",
    "\n",
    "## エージェントの詳細\n",
    "<div style=\"float: left; margin-right: 20px; \">\n",
    "\n",
    "|機能 |説明 |\n",
    "|--------------------|---------------------------------------------------|\n",
    "|使用する機能 |非同期イテレータ、コールバックハンドラ |\n",
    "|エージェントの構造 |単一エージェントアーキテクチャ |\n",
    "|使用するネイティブツール |計算機 |\n",
    "|カスタムツールを作成しました|天気予報|\n",
    "\n",
    "</div>"
   ]
  },
  {
   "cell_type": "markdown",
   "metadata": {},
   "source": [
    "## アーキテクチャ\n",
    "\n",
    "<div style=\"text-align:left;\">\n",
    "<img src=\"images/architecture.png\" width=\"65%\" />\n",
    "</div>\n",
    "\n",
    "## 主な機能\n",
    "* ストリーミング用非同期イテレータ\n",
    "* コールバックハンドラー\n",
    "\n",
    "## セットアップと前提条件\n",
    "\n",
    "### 前提条件\n",
    "* Python 3.10 以上\n",
    "* AWS アカウント\n",
    "* Amazon Bedrock で有効化された Anthropic Claude 3.7\n",
    "\n",
    "Strands Agent に必要なパッケージをインストールしましょう"
   ]
  },
  {
   "cell_type": "code",
   "execution_count": null,
   "metadata": {},
   "outputs": [],
   "source": [
    "# 前提条件のインストール\n",
    "!pip install -r requirements.txt"
   ]
  },
  {
   "cell_type": "markdown",
   "metadata": {},
   "source": [
    "### 依存パッケージのインポート\n",
    "\n",
    "依存パッケージをインポートしましょう"
   ]
  },
  {
   "cell_type": "code",
   "execution_count": null,
   "metadata": {},
   "outputs": [],
   "source": [
    "import asyncio\n",
    "\n",
    "import httpx\n",
    "import nest_asyncio\n",
    "import uvicorn\n",
    "from fastapi import FastAPI\n",
    "from fastapi.responses import StreamingResponse\n",
    "from pydantic import BaseModel\n",
    "from strands import Agent, tool\n",
    "from strands_tools import calculator"
   ]
  },
  {
   "cell_type": "markdown",
   "metadata": {},
   "source": [
    "## 方法 1 - ストリーミング用の非同期イテレータ\n"
   ]
  },
  {
   "cell_type": "markdown",
   "metadata": {},
   "source": [
    "Strands Agents は、`stream_async` メソッドを通じて非同期イテレータをサポートし、Web サーバー、API、その他の非同期アプリケーションなどの非同期環境でエージェントの応答をリアルタイムにストリーミングできるようにします。\n",
    "\n",
    "この例はノートブックで説明しているため、`asyncio.run` と `loop.run_until_complete` をネストして使用できるように `nest_asyncio` を適用する必要があります。"
   ]
  },
  {
   "cell_type": "code",
   "execution_count": null,
   "metadata": {},
   "outputs": [],
   "source": [
    "nest_asyncio.apply()"
   ]
  },
  {
   "cell_type": "markdown",
   "metadata": {},
   "source": [
    "### stream_async を使用したエージェントの作成と呼び出し\n",
    "\n",
    "組み込みの計算ツールを備え、`callback_handler` を持たないエージェントを作成しましょう。`stream_async` メソッドを使用して、ストリーミングされたエージェントイベントを反復処理します。"
   ]
  },
  {
   "cell_type": "code",
   "execution_count": null,
   "metadata": {},
   "outputs": [],
   "source": [
    "# コールバックハンドラなしでエージェントを初期化する\n",
    "agent = Agent(tools=[calculator], callback_handler=None)\n",
    "\n",
    "# ストリームされたエージェントイベントを反復する非同期関数\n",
    "\n",
    "\n",
    "async def process_streaming_response():\n",
    "    agent_stream = agent.stream_async(\"Calculate 2+2\")\n",
    "    async for event in agent_stream:\n",
    "        print(event)\n",
    "\n",
    "\n",
    "# Run the agent\n",
    "asyncio.run(process_streaming_response())"
   ]
  },
  {
   "cell_type": "markdown",
   "metadata": {},
   "source": [
    "### イベントループのライフサイクルの追跡"
   ]
  },
  {
   "cell_type": "markdown",
   "metadata": {},
   "source": [
    "この例は、イベントループのライフサイクルとイベント同士の関連性を示しています。Strands Agent の実行フローを理解するのに役立ちます。\n",
    "\n",
    "エージェントストリームイベントをより適切に分析するために、出力形式のコードを作成しましょう。このコードでは、引き続き同じエージェントを使用します。"
   ]
  },
  {
   "cell_type": "code",
   "execution_count": null,
   "metadata": {
    "collapsed": false,
    "jupyter": {
     "outputs_hidden": false
    },
    "pycharm": {
     "name": "#%%\n"
    }
   },
   "outputs": [],
   "source": [
    "# ストリームされたエージェントイベントを反復する非同期関数\n",
    "\n",
    "\n",
    "async def process_streaming_response():\n",
    "    agent_stream = agent.stream_async(\"フランスの首都はどこですか？42+7はいくつですか？\")\n",
    "    async for event in agent_stream:\n",
    "        # イベントループのライフサイクルを追跡\n",
    "        if event.get(\"init_event_loop\", False):\n",
    "            print(\"🔄 Event loop initialized\")\n",
    "        elif event.get(\"start_event_loop\", False):\n",
    "            print(\"▶️ Event loop cycle starting\")\n",
    "        elif event.get(\"start\", False):\n",
    "            print(\"📝 New cycle started\")\n",
    "        elif \"message\" in event:\n",
    "            print(f\"📬 New message created: {event['message']['role']}\")\n",
    "        elif event.get(\"complete\", False):\n",
    "            print(\"✅ Cycle completed\")\n",
    "        elif event.get(\"force_stop\", False):\n",
    "            print(\n",
    "                f\"🛑 Event loop force-stopped: {event.get('force_stop_reason', 'unknown reason')}\"\n",
    "            )\n",
    "\n",
    "        # ツールの使用状況を追跡\n",
    "        if \"current_tool_use\" in event and event[\"current_tool_use\"].get(\"name\"):\n",
    "            tool_name = event[\"current_tool_use\"][\"name\"]\n",
    "            print(f\"🔧 Using tool: {tool_name}\")\n",
    "\n",
    "        # 出力をすっきりと保つためにテキストのスニペットのみを表示\n",
    "        if \"data\" in event:\n",
    "            # デモ用に各チャンクの最初の 20 文字のみを表示\n",
    "            data_snippet = event[\"data\"][:20] + (\n",
    "                \"...\" if len(event[\"data\"]) > 20 else \"\"\n",
    "            )\n",
    "            print(f\"📟 Text: {data_snippet}\")\n",
    "\n",
    "\n",
    "#エージェントを実行\n",
    "asyncio.run(process_streaming_response())"
   ]
  },
  {
   "cell_type": "markdown",
   "metadata": {},
   "source": [
    "### FastAPI 統合\n",
    "\n",
    "`stream_async` を FastAPI と統合して、アプリケーションへのストリーミングエンドポイントを作成することもできます。そのために、エージェントに `weather_forecast` ツールを追加します。アーキテクチャの更新は次のようになります。\n",
    "\n",
    "<div style=\"text-align:left;\">\n",
    "<img src=\"images/architecture_2.png\" width=\"65%\" />\n",
    "</div>"
   ]
  },
  {
   "cell_type": "code",
   "execution_count": null,
   "metadata": {},
   "outputs": [],
   "source": [
    "# ツールの定義\n",
    "\n",
    "\n",
    "@tool\n",
    "def weather_forecast(city: str, days: int = 3) -> str:\n",
    "    return f\"Weather forecast for {city} for the next {days} days...\"\n",
    "\n",
    "\n",
    "# FastAPI app\n",
    "app = FastAPI()\n",
    "\n",
    "\n",
    "class PromptRequest(BaseModel):\n",
    "    prompt: str\n",
    "\n",
    "\n",
    "@app.post(\"/stream\")\n",
    "async def stream_response(request: PromptRequest):\n",
    "    async def generate():\n",
    "        agent = Agent(tools=[calculator, weather_forecast], callback_handler=None)\n",
    "        try:\n",
    "            async for event in agent.stream_async(request.prompt):\n",
    "                if \"data\" in event:\n",
    "                    yield event[\"data\"]\n",
    "        except Exception as e:\n",
    "            yield f\"Error: {str(e)}\"\n",
    "\n",
    "    return StreamingResponse(generate(), media_type=\"text/plain\")\n",
    "\n",
    "\n",
    "# ブロックせずにサーバーを起動する関数\n",
    "\n",
    "\n",
    "async def start_server():\n",
    "    config = uvicorn.Config(app, host=\"0.0.0.0\", port=8001, log_level=\"info\")\n",
    "    server = uvicorn.Server(config)\n",
    "    await server.serve()\n",
    "\n",
    "\n",
    "# サーバーをバックグラウンドタスクとして実行\n",
    "if \"server_task\" not in globals():\n",
    "    server_task = asyncio.create_task(start_server())\n",
    "    await asyncio.sleep(0.1)  # サーバーの起動に時間をかける\n",
    "\n",
    "print(\"✅ Server is running at http://0.0.0.0:8001\")"
   ]
  },
  {
   "cell_type": "markdown",
   "metadata": {},
   "source": [
    "#### FastAPIエージェントの呼び出し\n",
    "これで、プロンプトでエージェントを呼び出すことができます"
   ]
  },
  {
   "cell_type": "code",
   "execution_count": null,
   "metadata": {},
   "outputs": [],
   "source": [
    "async def fetch_stream():\n",
    "    async with httpx.AsyncClient() as client:\n",
    "        async with client.stream(\n",
    "            \"POST\",\n",
    "            \"http://0.0.0.0:8001/stream\",\n",
    "            json={\"prompt\": \"ニューヨークの天気はどうですか?\"},\n",
    "        ) as response:\n",
    "            async for line in response.aiter_lines():\n",
    "                if line.strip():  # Skip empty lines\n",
    "                    print(\"Received:\", line)\n",
    "\n",
    "\n",
    "await fetch_stream()"
   ]
  },
  {
   "cell_type": "markdown",
   "metadata": {},
   "source": [
    "## 方法 2 - ストリーミング用のコールバックハンドラー"
   ]
  },
  {
   "cell_type": "markdown",
   "metadata": {},
   "source": [
    "コールバックハンドラは、Strandsエージェントの強力な機能であり、エージェント実行中に発生したイベントをインターセプトして処理することができます。これにより、リアルタイム監視、カスタム出力フォーマット、外部システムとの統合が可能になります。\n",
    "\n"
   ]
  },
  {
   "cell_type": "markdown",
   "metadata": {},
   "source": [
    "コールバックハンドラーは、エージェントのライフサイクル中に発生するイベントをリアルタイムで受信します。\n",
    "\n",
    "- モデルからのテキスト生成\n",
    "- ツールの選択と実行\n",
    "- 推論プロセス\n",
    "- エラーと補完\n",
    "\n",
    "では、イベント入力をフォーマットしてツールの使用状況とモデル出力を強調表示するカスタムコールバックハンドラー関数を作成しましょう。そのためには、エージェントを計算機ツールのみで使用します。\n",
    "\n",
    "<div style=\"text-align:left;\">\n",
    "<img src=\"images/architecture.png\" width=\"65%\" />\n",
    "</div>"
   ]
  },
  {
   "cell_type": "code",
   "execution_count": null,
   "metadata": {},
   "outputs": [],
   "source": [
    "def custom_callback_handler(**kwargs):\n",
    "    # ストリームデータの処理\n",
    "    if \"data\" in kwargs:\n",
    "        print(f\"MODEL OUTPUT: {kwargs['data']}\")\n",
    "    elif \"current_tool_use\" in kwargs and kwargs[\"current_tool_use\"].get(\"name\"):\n",
    "        print(f\"\\nUSING TOOL: {kwargs['current_tool_use']['name']}\")\n",
    "\n",
    "\n",
    "# カスタムコールバックハンドラを持つエージェントを作成\n",
    "agent = Agent(tools=[calculator], callback_handler=custom_callback_handler)\n",
    "\n",
    "agent(\"2+2を計算してください\")"
   ]
  },
  {
   "cell_type": "markdown",
   "metadata": {},
   "source": [
    "### おめでとうございます！\n",
    "\n",
    "このノートブックでは、非同期イテレータとコールバックハンドラを使用してエージェントの出力をストリーミングする方法を学びました。"
   ]
  }
 ],
 "metadata": {
  "kernelspec": {
   "display_name": "Python 3 (ipykernel)",
   "language": "python",
   "name": "python3"
  },
  "language_info": {
   "codemirror_mode": {
    "name": "ipython",
    "version": 3
   },
   "file_extension": ".py",
   "mimetype": "text/x-python",
   "name": "python",
   "nbconvert_exporter": "python",
   "pygments_lexer": "ipython3",
   "version": "3.12.9"
  }
 },
 "nbformat": 4,
 "nbformat_minor": 4
}
