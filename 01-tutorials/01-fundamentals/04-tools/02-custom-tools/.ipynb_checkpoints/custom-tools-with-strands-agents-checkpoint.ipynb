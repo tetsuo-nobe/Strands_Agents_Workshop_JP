{
 "cells": [
  {
   "cell_type": "markdown",
   "id": "8ab9a6cf-bdfd-4204-9d60-21bf65cc238c",
   "metadata": {
    "pycharm": {
     "name": "#%% md\n"
    }
   },
   "source": [
    "# Strands Agents へのカスタムツールの追加\n",
    "\n",
    "## 概要\n",
    "この例では、Strands Agents を使用してカスタムツールを作成するさまざまな方法を説明します。ローカル SQLite データベースに接続してデータタスクを実行するパーソナルアシスタントのユースケースを構築します。さらに、`BedrockModel` クラスの `thinking` フィールドを使用して、Claude Sonnet 3.7 の推論機能を使用する方法についても説明します。\n",
    "\n",
    "## エージェントの詳細\n",
    "<div style=\"float: left; margin-right: 20px;\">\n",
    "\n",
    "|機能 |説明 |\n",
    "|--------------------|---------------------------------------------------|\n",
    "|使用するネイティブツール |current_time、calculator |\n",
    "|作成するカスタムツール |create_appointment、list_appointments |\n",
    "|エージェント構造 |単一エージェントアーキテクチャ |\n",
    "\n",
    "</div>\n"
   ]
  },
  {
   "cell_type": "markdown",
   "id": "8d0244b2-07af-4673-a36c-d7d1a37826f4",
   "metadata": {
    "pycharm": {
     "name": "#%% md\n"
    }
   },
   "source": [
    "## アーキテクチャ\n",
    "\n",
    "<div style=\"text-align:left\">\n",
    "<img src=\"images/architecture.png\" width=\"85%\" />\n",
    "</div>\n",
    "\n",
    "## 主な機能\n",
    "* **単一エージェントアーキテクチャ**: この例では、組み込みツールとカスタムツールと連携する単一のエージェントを作成します。\n",
    "* **組み込みツール**: Strands Agent のツールの使い方を学びます。\n",
    "* **カスタムツール**: 独自のツールを作成する方法を学びます。\n",
    "* **基盤となる LLM としての Bedrock モデル**: 基盤となる LLM モデルとして、Amazon Bedrock の Anthropic Claude 3.7 を使用しました。"
   ]
  },
  {
   "cell_type": "markdown",
   "id": "62b0823b-d4e0-495d-a75c-50cbada8e0b0",
   "metadata": {
    "pycharm": {
     "name": "#%% md\n"
    }
   },
   "source": [
    "## セットアップと前提条件\n",
    "\n",
    "### 前提条件\n",
    "* Python 3.10 以上\n",
    "* AWS アカウント\n",
    "* Amazon Bedrock で Anthropic Claude 3.7 が有効になっていること（[ガイド](https://docs.aws.amazon.com/bedrock/latest/userguide/model-access.html)を参照）\n",
    "* Amazon Bedrock ナレッジベース、Amazon S3 バケット、Amazon DynamoDB を作成する権限を持つ IAM ロール\n",
    "\n",
    "Strands エージェントに必要なパッケージをインストールしましょう"
   ]
  },
  {
   "cell_type": "code",
   "execution_count": null,
   "id": "cd150109-40be-452d-9fae-c0653205ccae",
   "metadata": {
    "pycharm": {
     "name": "#%%\n"
    }
   },
   "outputs": [],
   "source": [
    "# 前提条件のインストール\n",
    "!pip install -r requirements.txt"
   ]
  },
  {
   "cell_type": "markdown",
   "id": "80ef5b1f-7d01-42e9-a558-891792b1c5b7",
   "metadata": {
    "pycharm": {
     "name": "#%% md\n"
    }
   },
   "source": [
    "### 依存パッケージのインポート\n",
    "\n",
    "依存パッケージをインポートしましょう"
   ]
  },
  {
   "cell_type": "code",
   "execution_count": null,
   "id": "7092f7af-01e7-469d-96d0-3c80987c5183",
   "metadata": {
    "pycharm": {
     "name": "#%%\n"
    }
   },
   "outputs": [],
   "source": [
    "import json\n",
    "import sqlite3\n",
    "import uuid\n",
    "from datetime import datetime\n",
    "\n",
    "from strands import Agent, tool\n",
    "from strands.models import BedrockModel"
   ]
  },
  {
   "cell_type": "markdown",
   "id": "c5072db6-071b-4d06-909b-23fd38981b17",
   "metadata": {
    "pycharm": {
     "name": "#%% md\n"
    }
   },
   "source": [
    "## カスタムツールの定義\n",
    "次に、ローカル SQLite データベースと連携するためのカスタムツールを定義しましょう。\n",
    "* **create_appointment**: 一意の ID、日付、場所、タイトル、説明を指定して、新しい個人用予定を作成します。\n",
    "* **list_appointment**: 利用可能なすべての予定を一覧表示します。\n",
    "* **update_appointments**: 予定 ID に基づいて予定を更新します。"
   ]
  },
  {
   "cell_type": "markdown",
   "id": "540b2f03-9935-4b56-a9da-6f36c6f00e9a",
   "metadata": {
    "pycharm": {
     "name": "#%% md\n"
    }
   },
   "source": [
    "### エージェントと同じファイルでツールを定義する\n",
    "\n",
    "Strands Agents SDK でツールを定義する方法は複数あります。1つ目は、関数に `@tool` デコレータを追加し、そのドキュメントを提供する方法です。この場合、Strands Agents は関数のドキュメント、型、引数を使用してエージェントにツールを提供します。この場合、エージェントと同じファイルでツールを定義することもできます。"
   ]
  },
  {
   "cell_type": "code",
   "execution_count": null,
   "id": "e7785c6e-0525-4f28-9958-95eb562f07dc",
   "metadata": {
    "pycharm": {
     "name": "#%%\n"
    }
   },
   "outputs": [],
   "source": [
    "@tool\n",
    "def create_appointment(date: str, location: str, title: str, description: str) -> str:\n",
    "    \"\"\"\n",
    "    データベースに新しい個人用予定を作成します。\n",
    "\n",
    "    引数:\n",
    "      date (str): 予定の日時 (形式: YYYY-MM-DD HH:MM)\n",
    "      location (str): 予定の場所\n",
    "      title (str): 予定のタイトル\n",
    "      description (str): 予定の説明\n",
    "\n",
    "    戻り値:\n",
    "      str: 新しく作成された予定のID\n",
    "\n",
    "    例外:\n",
    "      ValueError: 日付の形式が無効な場合\n",
    "    \"\"\"\n",
    "    # 日付フォーマットを検証\n",
    "    try:\n",
    "        datetime.strptime(date, \"%Y-%m-%d %H:%M\")\n",
    "    except ValueError:\n",
    "        raise ValueError(\"Date must be in format 'YYYY-MM-DD HH:MM'\")\n",
    "\n",
    "    # 一意のIDを生成\n",
    "    appointment_id = str(uuid.uuid4())\n",
    "\n",
    "    conn = sqlite3.connect(\"appointments.db\")\n",
    "    cursor = conn.cursor()\n",
    "\n",
    "    # 予約テーブルが存在しない場合は作成\n",
    "    cursor.execute(\n",
    "        \"\"\"\n",
    "    CREATE TABLE IF NOT EXISTS appointments (\n",
    "        id TEXT PRIMARY KEY,\n",
    "        date TEXT,\n",
    "        location TEXT,\n",
    "        title TEXT,\n",
    "        description TEXT\n",
    "    )\n",
    "    \"\"\"\n",
    "    )\n",
    "\n",
    "    cursor.execute(\n",
    "        \"INSERT INTO appointments (id, date, location, title, description) VALUES (?, ?, ?, ?, ?)\",\n",
    "        (appointment_id, date, location, title, description),\n",
    "    )\n",
    "\n",
    "    conn.commit()\n",
    "    conn.close()\n",
    "    return f\"Appointment with id {appointment_id} created\""
   ]
  },
  {
   "cell_type": "markdown",
   "id": "d0588544-d3ea-4a17-958e-17e734b098a9",
   "metadata": {
    "pycharm": {
     "name": "#%% md\n"
    }
   },
   "source": [
    "### モジュールベースのアプローチによるツール定義\n",
    "\n",
    "ツールをスタンドアロンファイルとして定義し、エージェントにインポートすることもできます。この場合も、デコレータアプローチを使用することも、TOOL_SPEC ディクショナリを使用して関数を定義することもできます。このフォーマットは、[Amazon Bedrock Converse API](https://docs.aws.amazon.com/bedrock/latest/userguide/tool-use-examples.html) でツールの使用に使用されるものと似ています。この場合、必要なパラメータや成功とエラーの実行結果の戻り値などをより柔軟に定義でき、TOOL_SPEC 定義が機能します。"
   ]
  },
  {
   "cell_type": "markdown",
   "id": "65e70d34-08b7-44ce-920a-863d293c727d",
   "metadata": {
    "pycharm": {
     "name": "#%% md\n"
    }
   },
   "source": [
    "#### デコレータを使ったアプローチ\n",
    "\n",
    "スタンドアロンファイルでデコレータを使用してツールを定義する場合、プロセスはエージェントと同じファイルで定義する場合とほぼ同じですが、後でエージェントツールをインポートする必要があります。"
   ]
  },
  {
   "cell_type": "code",
   "execution_count": null,
   "id": "824bd53a-2474-4a31-bfd3-415eb4ca4f38",
   "metadata": {
    "pycharm": {
     "name": "#%%\n"
    }
   },
   "outputs": [],
   "source": [
    "%%writefile list_appointments.py\n",
    "import json\n",
    "import sqlite3\n",
    "import os\n",
    "from strands import tool\n",
    "\n",
    "@tool\n",
    "def list_appointments() -> str:\n",
    "    \"\"\"\n",
    "    データベースから利用可能なすべての予定を一覧表示します。\n",
    "\n",
    "    戻り値:\n",
    "      str: 利用可能な予定\n",
    "    \"\"\"\n",
    "    # データベースが存在するかどうかを確認\n",
    "    if not os.path.exists('appointments.db'):\n",
    "        return \"No appointment available\"\n",
    "    \n",
    "    conn = sqlite3.connect('appointments.db')\n",
    "    conn.row_factory = sqlite3.Row  # This enables column access by name\n",
    "    cursor = conn.cursor()\n",
    "    \n",
    "    # データベースが存在するかどうかを確認\n",
    "    try:\n",
    "        cursor.execute(\"SELECT name FROM sqlite_master WHERE type='table' AND name='appointments'\")\n",
    "        if not cursor.fetchone():\n",
    "            conn.close()\n",
    "            return \"No appointment available\"\n",
    "        \n",
    "        cursor.execute(\"SELECT * FROM appointments ORDER BY date\")\n",
    "        rows = cursor.fetchall()\n",
    "        \n",
    "        # 行を辞書型に変換する\n",
    "        appointments = []\n",
    "        for row in rows:\n",
    "            appointment = {\n",
    "                'id': row['id'],\n",
    "                'date': row['date'],\n",
    "                'location': row['location'],\n",
    "                'title': row['title'],\n",
    "                'description': row['description']\n",
    "            }\n",
    "            appointments.append(appointment)\n",
    "        \n",
    "        conn.close()\n",
    "        return json.dumps(appointments)\n",
    "    \n",
    "    except sqlite3.Error:\n",
    "        conn.close()\n",
    "        return []\n"
   ]
  },
  {
   "cell_type": "markdown",
   "id": "11873e74-e528-4a44-9879-6761b85a248c",
   "metadata": {
    "pycharm": {
     "name": "#%% md\n"
    }
   },
   "source": [
    "#### TOOL_SPEC アプローチ\n",
    "\n",
    "ツールを定義する際に、TOOL_SPEC アプローチを使用することもできます。"
   ]
  },
  {
   "cell_type": "code",
   "execution_count": null,
   "id": "574198a3-4a65-4373-ae36-1a037eb12b49",
   "metadata": {
    "pycharm": {
     "name": "#%%\n"
    }
   },
   "outputs": [],
   "source": [
    "%%writefile update_appointment.py\n",
    "import sqlite3\n",
    "from datetime import datetime\n",
    "import os\n",
    "from strands.types.tools import ToolResult, ToolUse\n",
    "from typing import Any\n",
    "\n",
    "TOOL_SPEC = {\n",
    "    \"name\": \"update_appointment\",\n",
    "    \"description\": \"予定ID に基づいて予定を更新します。\",\n",
    "    \"inputSchema\": {\n",
    "        \"json\": {\n",
    "            \"type\": \"object\",\n",
    "            \"properties\": {\n",
    "                \"appointment_id\": {\n",
    "                    \"type\": \"string\",\n",
    "                    \"description\": \"予定ID\"\n",
    "                },\n",
    "                \"date\": {\n",
    "                    \"type\": \"string\",\n",
    "                    \"description\": \"予定日時 (format: YYYY-MM-DD HH:MM).\"\n",
    "                },\n",
    "                \"location\": {\n",
    "                    \"type\": \"string\",\n",
    "                    \"description\": \"予定場所\"\n",
    "                },\n",
    "                \"title\": {\n",
    "                    \"type\": \"string\",\n",
    "                    \"description\": \"予定のタイトル\"\n",
    "                },\n",
    "                \"description\": {\n",
    "                    \"type\": \"string\",\n",
    "                    \"description\": \"予定の説明\"\n",
    "                }\n",
    "            },\n",
    "            \"required\": [\"appointment_id\"]\n",
    "        }\n",
    "    }\n",
    "}\n",
    "# 関数名はツール名と一致する必要があります\n",
    "def update_appointment(tool: ToolUse, **kwargs: Any) -> ToolResult:\n",
    "    tool_use_id = tool[\"toolUseId\"]\n",
    "    appointment_id = tool[\"input\"][\"appointment_id\"]\n",
    "    if \"date\" in tool[\"input\"]:\n",
    "        date = tool[\"input\"][\"date\"]\n",
    "    else:\n",
    "        date = None\n",
    "    if \"location\" in tool[\"input\"]:\n",
    "        location = tool[\"input\"][\"location\"]\n",
    "    else:\n",
    "        location = None\n",
    "    if \"title\" in tool[\"input\"]:\n",
    "        title = tool[\"input\"][\"title\"]\n",
    "    else:\n",
    "        title = None\n",
    "    if \"description\" in tool[\"input\"]:\n",
    "        description = tool[\"input\"][\"description\"]\n",
    "    else:\n",
    "        description = None\n",
    "        \n",
    "    # データベースが存在するかどうかを確認\n",
    "    if not os.path.exists('appointments.db'): \n",
    "        return {\n",
    "            \"toolUseId\": tool_use_id,\n",
    "            \"status\": \"error\",\n",
    "            \"content\": [{\"text\": f\"Appointment {appointment_id} does not exist\"}]\n",
    "        } \n",
    "    \n",
    "    # 予定が存在するかどうかを確認\n",
    "    conn = sqlite3.connect('appointments.db')\n",
    "    cursor = conn.cursor()\n",
    "    \n",
    "    # 予定テーブルが存在するかどうかを確認する\n",
    "    try:\n",
    "        cursor.execute(\"SELECT name FROM sqlite_master WHERE type='table' AND name='appointments'\")\n",
    "        if not cursor.fetchone():\n",
    "            conn.close()\n",
    "            return {\n",
    "                \"toolUseId\": tool_use_id,\n",
    "                \"status\": \"error\",\n",
    "                \"content\": [{\"text\": f\"Appointments table does not exist\"}]\n",
    "            }\n",
    "        \n",
    "        cursor.execute(\"SELECT * FROM appointments WHERE id = ?\", (appointment_id,))\n",
    "        appointment = cursor.fetchone()\n",
    "        \n",
    "        if not appointment:\n",
    "            conn.close()\n",
    "            return {\n",
    "                \"toolUseId\": tool_use_id,\n",
    "                \"status\": \"error\",\n",
    "                \"content\": [{\"text\": f\"Appointment {appointment_id} does not exist\"}]\n",
    "            }\n",
    "        \n",
    "        # 日付形式が指定されている場合は検証する\n",
    "        if date:\n",
    "            try:\n",
    "                datetime.strptime(date, '%Y-%m-%d %H:%M')\n",
    "            except ValueError:\n",
    "                conn.close()\n",
    "                return {\n",
    "                    \"toolUseId\": tool_use_id,\n",
    "                    \"status\": \"error\",\n",
    "                    \"content\": [{\"text\": \"Date must be in format 'YYYY-MM-DD HH:MM'\"}]\n",
    "                }\n",
    "        \n",
    "        # 更新クエリの構築\n",
    "        update_fields = []\n",
    "        params = []\n",
    "        \n",
    "        if date:\n",
    "            update_fields.append(\"date = ?\")\n",
    "            params.append(date)\n",
    "        \n",
    "        if location:\n",
    "            update_fields.append(\"location = ?\")\n",
    "            params.append(location)\n",
    "        \n",
    "        if title:\n",
    "            update_fields.append(\"title = ?\")\n",
    "            params.append(title)\n",
    "        \n",
    "        if description:\n",
    "            update_fields.append(\"description = ?\")\n",
    "            params.append(description)\n",
    "        \n",
    "        # 更新するフィールドがない場合\n",
    "        if not update_fields:\n",
    "            conn.close()\n",
    "            return {\n",
    "                \"toolUseId\": tool_use_id,\n",
    "                \"status\": \"success\",\n",
    "                \"content\": [{\"text\": \"No need to update your appointment, you are all set!\"}]\n",
    "            }\n",
    "        \n",
    "        # クエリを完了する\n",
    "        query = f\"UPDATE appointments SET {', '.join(update_fields)} WHERE id = ?\"\n",
    "        params.append(appointment_id)\n",
    "        \n",
    "        cursor.execute(query, params)\n",
    "        conn.commit()\n",
    "        conn.close()\n",
    "        \n",
    "        return {\n",
    "            \"toolUseId\": tool_use_id,\n",
    "            \"status\": \"success\",\n",
    "            \"content\": [{\"text\": f\"Appointment {appointment_id} updated with success\"}]\n",
    "        }\n",
    "    \n",
    "    except sqlite3.Error as e:\n",
    "        conn.close()\n",
    "        return {\n",
    "            \"toolUseId\": tool_use_id,\n",
    "            \"status\": \"error\",\n",
    "            \"content\": [{\"text\": str(e)}]\n",
    "        }\n"
   ]
  },
  {
   "cell_type": "markdown",
   "id": "0944e32e-a80e-44ee-b5cb-9d318c076ba9",
   "metadata": {
    "pycharm": {
     "name": "#%% md\n"
    }
   },
   "source": [
    "`list_appointments`と`update_appointment`をツールとしてインポートしましょう"
   ]
  },
  {
   "cell_type": "code",
   "execution_count": null,
   "id": "ccd37708-4a04-410e-a976-bd239b884003",
   "metadata": {
    "pycharm": {
     "name": "#%%\n"
    }
   },
   "outputs": [],
   "source": [
    "import list_appointments\n",
    "import update_appointment"
   ]
  },
  {
   "cell_type": "markdown",
   "id": "e8fbc3fe-326f-4fa7-b83c-1ecb55bb1d19",
   "metadata": {
    "pycharm": {
     "name": "#%% md\n"
    }
   },
   "source": [
    "## エージェントの作成\n",
    "\n",
    "カスタムツールが作成されたので、最初のエージェントを定義しましょう。そのためには、エージェントが実行すべきことと実行すべきでないことを定義するシステムプロンプトを作成する必要があります。次に、エージェントの基盤となるLLMモデルを定義し、組み込みツールとカスタムツールを提供します。\n",
    "\n",
    "#### エージェントのシステムプロンプトの設定\n",
    "システムプロンプトで、エージェントへの指示を定義します。"
   ]
  },
  {
   "cell_type": "code",
   "execution_count": null,
   "id": "397395ba-7c84-42f3-badf-4cb1734d0008",
   "metadata": {
    "pycharm": {
     "name": "#%%\n"
    }
   },
   "outputs": [],
   "source": [
    "system_prompt = \"\"\"あなたは私の予定とカレンダーの管理を専門とする、頼りになるパーソナルアシスタントです。\n",
    "予定管理ツールや計算機を利用でき、現在時刻も確認できるので、スケジュールを効率的に管理できます。\n",
    "必要に応じて更新できるよう、必ず予約IDをお知らせください。\"\"\""
   ]
  },
  {
   "cell_type": "markdown",
   "id": "18fadc98-e823-4ead-b00f-ccb62d1653a3",
   "metadata": {
    "pycharm": {
     "name": "#%% md\n"
    }
   },
   "source": [
    "#### エージェント基盤の LLM モデルの定義\n",
    "\n",
    "次に、エージェント基盤のモデルを定義します。Strands Agents は Amazon Bedrock モデルとネイティブに統合されており、モデルの呼び出し方法を設定できます。以下は、`BedrockModel` プロバイダーのシンプルな初期化例です。一部のオプション設定はコメントアウトされています。設定オプションとデフォルト値の詳細については、[Strands Agents Bedrock モデルプロバイダーのドキュメント](https://strandsagents.com/0.1.x/user-guide/concepts/model-providers/amazon-bedrock/) を参照してください。この例では、Bedrock の `Anthropic Claude 3.7 Sonnet` モデルを使用します。"
   ]
  },
  {
   "cell_type": "code",
   "execution_count": null,
   "id": "ecaa6e8e-5550-451e-9507-5e25018bc77d",
   "metadata": {
    "pycharm": {
     "name": "#%%\n"
    }
   },
   "outputs": [],
   "source": [
    "model = BedrockModel(\n",
    "    model_id=\"us.anthropic.claude-3-7-sonnet-20250219-v1:0\",\n",
    "    # region_name=\"us-east-1\",\n",
    "    # boto_client_config=Config(\n",
    "    #    read_timeout=900,\n",
    "    #    connect_timeout=900,\n",
    "    #    retries=dict(max_attempts=3, mode=\"adaptive\"),\n",
    "    # ),\n",
    "    # temperature=0.9,\n",
    "    # max_tokens=2048,\n",
    ")"
   ]
  },
  {
   "cell_type": "markdown",
   "id": "b68f9a35-7b75-43b9-81cb-1a6dacc5d753",
   "metadata": {
    "pycharm": {
     "name": "#%% md\n"
    }
   },
   "source": [
    "#### 組み込みツールのインポート\n",
    "\n",
    "エージェントをビルドするための次のステップは、Strands Agents の組み込みツールをインポートすることです。Strands Agents は、オプションパッケージ `strands-tools` で、よく使用される組み込みツールのセットを提供しています。このリポジトリには、RAG、メモリ、ファイル操作、コード解釈などのツールが用意されています。この例では、エージェントに現在時刻の情報を提供する `current_time` ツールと、計算を実行する `calculator` ツールを使用します。"
   ]
  },
  {
   "cell_type": "code",
   "execution_count": null,
   "id": "b00643e6-f032-4c75-a031-47230ff57ea6",
   "metadata": {
    "pycharm": {
     "name": "#%%\n"
    }
   },
   "outputs": [],
   "source": [
    "from strands_tools import calculator, current_time"
   ]
  },
  {
   "cell_type": "markdown",
   "id": "5d21b669-3057-4f01-919c-cc3d43813fc9",
   "metadata": {
    "pycharm": {
     "name": "#%% md\n"
    }
   },
   "source": [
    "#### エージェントの定義\n",
    "\n",
    "必要な情報がすべて揃ったので、エージェントを定義しましょう。"
   ]
  },
  {
   "cell_type": "code",
   "execution_count": null,
   "id": "e9cc4158-9c91-4814-8506-c8114221c9e4",
   "metadata": {
    "pycharm": {
     "name": "#%%\n"
    }
   },
   "outputs": [],
   "source": [
    "agent = Agent(\n",
    "    model=model,\n",
    "    system_prompt=system_prompt,\n",
    "    tools=[\n",
    "        current_time,\n",
    "        calculator,\n",
    "        create_appointment,\n",
    "        list_appointments,\n",
    "        update_appointment,\n",
    "    ],\n",
    ")"
   ]
  },
  {
   "cell_type": "markdown",
   "id": "834748c9-d129-4074-b64c-1f5eeb979e97",
   "metadata": {
    "pycharm": {
     "name": "#%% md\n"
    }
   },
   "source": [
    "## エージェントの呼び出し\n",
    "\n",
    "レストランエージェントを挨拶文で呼び出し、その結果を分析してみましょう。"
   ]
  },
  {
   "cell_type": "code",
   "execution_count": null,
   "id": "b5b8a00b-dfe6-49f8-acdd-89c350c82081",
   "metadata": {
    "pycharm": {
     "name": "#%%\n"
    }
   },
   "outputs": [],
   "source": [
    "results = agent(\"2+2はいくら?\")"
   ]
  },
  {
   "cell_type": "markdown",
   "id": "34c4dd50-b9d4-493a-92d5-6b2db487a5b3",
   "metadata": {
    "pycharm": {
     "name": "#%% md\n"
    }
   },
   "source": [
    "#### エージェントの結果の分析\n",
    "\n",
    "さあ、エージェントを初めて呼び出しました！それでは、結果オブジェクトを見てみましょう。まず、エージェントがエージェントオブジェクト内で交換しているメッセージを確認できます。"
   ]
  },
  {
   "cell_type": "code",
   "execution_count": null,
   "id": "4ae1385b-4821-48c3-9fd8-956cc61de6ee",
   "metadata": {
    "pycharm": {
     "name": "#%%\n"
    }
   },
   "outputs": [],
   "source": [
    "agent.messages"
   ]
  },
  {
   "cell_type": "markdown",
   "id": "e6f81a22-c289-4980-bccb-13f4235b69d8",
   "metadata": {
    "pycharm": {
     "name": "#%% md\n"
    }
   },
   "source": [
    "次に、結果のメトリクスを分析して、最後のクエリに対するエージェントの使用状況を確認します。"
   ]
  },
  {
   "cell_type": "code",
   "execution_count": null,
   "id": "20c0dd86-8ecd-419c-a8a1-5add2b02b521",
   "metadata": {
    "pycharm": {
     "name": "#%%\n"
    }
   },
   "outputs": [],
   "source": [
    "results.metrics"
   ]
  },
  {
   "cell_type": "markdown",
   "id": "beb5d753-d691-479e-8468-fe23927b6d63",
   "metadata": {
    "pycharm": {
     "name": "#%% md\n"
    }
   },
   "source": [
    "#### エージェントにフォローアップの質問を呼び出します\n",
    "では、明日の予約を取りましょう"
   ]
  },
  {
   "cell_type": "code",
   "execution_count": null,
   "id": "d4ed9ea3-b50c-4740-ae8a-19bd7338da45",
   "metadata": {
    "pycharm": {
     "name": "#%%\n"
    }
   },
   "outputs": [],
   "source": [
    "results = agent(\n",
    "    \"明日午後3時、ニューヨークで「エージェントの楽しみ」を予約してください。このミーティングでは、エージェントが楽しめるあらゆることについて話し合います。\"\n",
    ")"
   ]
  },
  {
   "cell_type": "markdown",
   "id": "3a6789db-9666-4aba-b941-1b4df9e5111c",
   "metadata": {
    "pycharm": {
     "name": "#%% md\n"
    }
   },
   "source": [
    "#### 予約の更新\n",
    "\n",
    "では、この予約を更新してみましょう"
   ]
  },
  {
   "cell_type": "code",
   "execution_count": null,
   "id": "26ac2e57-a5a0-483a-b70b-26688addf7c1",
   "metadata": {
    "pycharm": {
     "name": "#%%\n"
    }
   },
   "outputs": [],
   "source": [
    "results = agent(\"ああ、大変！「エージェントの楽しみ」はDCで実際に行われているのですね\")"
   ]
  },
  {
   "cell_type": "markdown",
   "id": "bb6a31ee-e3b7-4f1d-8372-3092175b6d78",
   "metadata": {
    "pycharm": {
     "name": "#%% md\n"
    }
   },
   "source": [
    "#### エージェントの結果の分析\n",
    "エージェントのメッセージと結果の指標をもう一度見てみましょう"
   ]
  },
  {
   "cell_type": "code",
   "execution_count": null,
   "id": "1faa13ac-4809-4a4c-b94e-d57b733d7c1e",
   "metadata": {
    "pycharm": {
     "name": "#%%\n"
    }
   },
   "outputs": [],
   "source": [
    "agent.messages"
   ]
  },
  {
   "cell_type": "code",
   "execution_count": null,
   "id": "f4fb28fc-f418-42c8-b37a-03c569101070",
   "metadata": {
    "pycharm": {
     "name": "#%%\n"
    }
   },
   "outputs": [],
   "source": [
    "results.metrics"
   ]
  },
  {
   "cell_type": "markdown",
   "id": "86054d56-51e5-40c6-9133-cd9cf5a1cbc1",
   "metadata": {
    "pycharm": {
     "name": "#%% md\n"
    }
   },
   "source": [
    "#### メッセージからツールの使用状況を確認する\n",
    "\n",
    "メッセージ辞書でツールの使用状況について詳しく見ていきましょう。後ほど、エージェントの行動を観察し評価する方法を紹介しますが、これはその第一歩です。"
   ]
  },
  {
   "cell_type": "code",
   "execution_count": null,
   "id": "24912341-65ae-41c0-a6e2-74d548d68c99",
   "metadata": {
    "pycharm": {
     "name": "#%%\n"
    }
   },
   "outputs": [],
   "source": [
    "for m in agent.messages:\n",
    "    for content in m[\"content\"]:\n",
    "        if \"toolUse\" in content:\n",
    "            print(\"Tool Use:\")\n",
    "            tool_use = content[\"toolUse\"]\n",
    "            print(\"\\tToolUseId: \", tool_use[\"toolUseId\"])\n",
    "            print(\"\\tname: \", tool_use[\"name\"])\n",
    "            print(\"\\tinput: \", tool_use[\"input\"])\n",
    "        if \"toolResult\" in content:\n",
    "            print(\"Tool Result:\")\n",
    "            tool_result = m[\"content\"][0][\"toolResult\"]\n",
    "            print(\"\\tToolUseId: \", tool_result[\"toolUseId\"])\n",
    "            print(\"\\tStatus: \", tool_result[\"status\"])\n",
    "            print(\"\\tContent: \", tool_result[\"content\"])\n",
    "            print(\"=======================\")"
   ]
  },
  {
   "cell_type": "markdown",
   "id": "8e88a95d-bc76-4519-bfdf-2a8ab3338c73",
   "metadata": {
    "pycharm": {
     "name": "#%% md\n"
    }
   },
   "source": [
    "### アクションが正しく実行されたことを確認する\n",
    "データベースをチェックして、操作が正しく実行されたことを確認しましょう。`Agent` クラスには、`agent.tool.<tool_name>(<tool_params>)` を呼び出すことで、エージェントの初期化に使用されたツールを直接呼び出す機能があります。ツールの直接呼び出しは、エージェントがツール自体を呼び出すことなく、ツールからエージェントに情報を提供するのに最適です。この直接ツール呼び出しを使用して、現在の予約を一覧表示できます。"
   ]
  },
  {
   "cell_type": "code",
   "execution_count": null,
   "id": "924e5b2f-a8bb-415c-b255-1da6403f6b8a",
   "metadata": {
    "pycharm": {
     "name": "#%%\n"
    }
   },
   "outputs": [],
   "source": [
    "list_appointments_result = agent.tool.list_appointments()\n",
    "print(json.dumps(list_appointments_result, indent=2))"
   ]
  },
  {
   "cell_type": "markdown",
   "id": "c528d7db",
   "metadata": {
    "pycharm": {
     "name": "#%% md\n"
    }
   },
   "source": [
    "ツールの実行結果はToolResult形式で、`toolUseId`、実行`status`、レスポンスの`content`が含まれています。ツールの結果を以下のように視覚的にわかりやすく示します。"
   ]
  },
  {
   "cell_type": "code",
   "execution_count": null,
   "id": "bbc4dfc9",
   "metadata": {
    "pycharm": {
     "name": "#%% md\n"
    }
   },
   "outputs": [],
   "source": [
    "list_appointments_result_text_content = list_appointments_result[\"content\"][0][\"text\"]\n",
    "print(json.dumps(json.loads(list_appointments_result_text_content), indent=2))"
   ]
  },
  {
   "cell_type": "markdown",
   "id": "b4b05375",
   "metadata": {
    "pycharm": {
     "name": "#%% md\n"
    }
   },
   "source": [
    "最後に、直接ツール呼び出しを使用してツールを実行すると、エージェントはこれらの実行をメッセージ履歴に記録します。これはデフォルトで有効になっていますが、`Agent` クラスのブール型フラグ属性 `record_direct_tool_call` で無効にすることができます。"
   ]
  },
  {
   "cell_type": "code",
   "execution_count": null,
   "id": "a1a70b75",
   "metadata": {
    "pycharm": {
     "name": "#%% md\n"
    }
   },
   "outputs": [],
   "source": [
    "current_time_result = agent.tool.current_time()\n",
    "print(\"現在の時刻の直接ツール呼び出し結果:\")\n",
    "print(current_time_result)\n",
    "current_time_direct_tool_messages = agent.messages[-4:]\n",
    "print(\"現在の時刻の直接ツール呼び出しメッセージ:\")\n",
    "print(current_time_direct_tool_messages)\n",
    "\n",
    "agent.record_direct_tool_call = False # record_direct_tool_callをFalseに設定\n",
    "agent.tool.list_appointments()\n",
    "after_disable_record_messages = agent.messages[-4:]\n",
    "print(\"直接ツール呼び出しメッセージの記録を無効にした後、履歴は変更されないはずです:\")\n",
    "print(current_time_direct_tool_messages == after_disable_record_messages)"
   ]
  },
  {
   "cell_type": "markdown",
   "id": "191c283f",
   "metadata": {
    "pycharm": {
     "name": "#%% md\n"
    }
   },
   "source": [
    "## 拡張機能：拡張思考\n",
    "\n",
    "拡張思考により、サポートされている Claude ファミリーモデルは、複雑なタスクに対して強化された推論機能を活用できるようになります。これにより、最終的な答えを出す前に、段階的な思考プロセスを透明に提供できます。思考を有効にするには、Bedrock ModelProvider の設定時に以下の設定を含めることができます。詳細については、[AWS の拡張思考に関するドキュメント](https://docs.aws.amazon.com/bedrock/latest/userguide/claude-messages-extended-thinking.html) をご覧ください。"
   ]
  },
  {
   "cell_type": "code",
   "execution_count": null,
   "id": "38da1353",
   "metadata": {
    "pycharm": {
     "name": "#%% md\n"
    }
   },
   "outputs": [],
   "source": [
    "thinking_model = BedrockModel(\n",
    "    model_id=\"us.anthropic.claude-3-7-sonnet-20250219-v1:0\",\n",
    "    additional_request_fields={\n",
    "        \"thinking\": {\n",
    "            \"type\": \"enabled\",\n",
    "            \"budget_tokens\": 2048,\n",
    "        }\n",
    "    },\n",
    ")"
   ]
  },
  {
   "cell_type": "markdown",
   "id": "3ef66fab",
   "metadata": {
    "pycharm": {
     "name": "#%% md\n"
    }
   },
   "source": [
    "`thinking_model` を定義した後、新しい `thinking_agent` を作成して呼び出すことができます。"
   ]
  },
  {
   "cell_type": "code",
   "execution_count": null,
   "id": "4f108899",
   "metadata": {
    "pycharm": {
     "name": "#%% md\n"
    }
   },
   "outputs": [],
   "source": [
    "thinking_system_prompt = \"\"\"あなたは私の予定とカレンダーの管理を専門とする、頼りになるパーソナルアシスタントです。\n",
    "予定管理ツールや電卓を利用でき、現在時刻も確認できるので、私のスケジュールを効率的に管理できます。\n",
    "問題を一つずつ丁寧に考え、解決策を導き出してくれます。\n",
    "必要に応じて更新できるよう、必ず予約IDをお知らせください。\"\"\"\n",
    "\n",
    "thinking_agent = Agent(\n",
    "    model=thinking_model,\n",
    "    system_prompt=thinking_system_prompt,\n",
    "    tools=[\n",
    "        current_time,\n",
    "        calculator,\n",
    "        create_appointment,\n",
    "        list_appointments,\n",
    "        update_appointment,\n",
    "    ],\n",
    ")\n",
    "\n",
    "thinking_result = thinking_agent(\"明日午後2時に新しい予定を追加したい\")"
   ]
  },
  {
   "cell_type": "markdown",
   "id": "feba72d2",
   "metadata": {
    "pycharm": {
     "name": "#%% md\n"
    }
   },
   "source": [
    "エージェントのメッセージを出力することで、拡張思考能力をより詳細に分析できます。拡張思考は、エージェントからの応答内の「reasoningContent」ブロックとして表現されます。"
   ]
  },
  {
   "cell_type": "code",
   "execution_count": null,
   "id": "9d1b3a6e-7253-4162-9b50-814d7700eaca",
   "metadata": {
    "pycharm": {
     "name": "#%%\n"
    }
   },
   "outputs": [],
   "source": [
    "thinking_agent.messages"
   ]
  },
  {
   "cell_type": "markdown",
   "id": "c7bfbe54-a3fd-4b55-b11f-537b1763d0ee",
   "metadata": {
    "pycharm": {
     "name": "#%% md\n"
    }
   },
   "source": [
    "## 素晴らしい仕事でした！\n",
    "次のモジュールでお会いしましょう。 :)"
   ]
  }
 ],
 "metadata": {
  "kernelspec": {
   "display_name": "Python 3 (ipykernel)",
   "language": "python",
   "name": "python3"
  },
  "language_info": {
   "codemirror_mode": {
    "name": "ipython",
    "version": 3
   },
   "file_extension": ".py",
   "mimetype": "text/x-python",
   "name": "python",
   "nbconvert_exporter": "python",
   "pygments_lexer": "ipython3",
   "version": "3.12.9"
  }
 },
 "nbformat": 4,
 "nbformat_minor": 5
}
