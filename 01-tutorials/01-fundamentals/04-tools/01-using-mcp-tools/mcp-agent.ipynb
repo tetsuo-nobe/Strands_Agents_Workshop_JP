{
 "cells": [
  {
   "cell_type": "markdown",
   "metadata": {
    "collapsed": false,
    "jupyter": {
     "outputs_hidden": false
    },
    "pycharm": {
     "name": "#%% md\n"
    }
   },
   "source": [
    "# Strands Agent で Model Context Protocol (MCP) をツールとして使用する\n",
    "\n",
    "## 概要\n",
    "[Model Context Protocol (MCP)](https://modelcontextprotocol.io/introduction) は、アプリケーションが大規模言語モデル (LLM) にコンテキストを提供する方法を標準化するオープンプロトコルです。Strands AI SDK は MCP と統合され、外部ツールやサービスを通じてエージェントの機能を拡張します。\n",
    "\n",
    "MCP は、エージェントと追加ツールを提供する MCP サーバー間の通信を可能にします。Strands Agent SDK には、MCP サーバーに接続してツールを使用するためのサポートが組み込まれています。\n",
    "\n",
    "この例では、Strands Agent で MCP ツールを使用する方法を説明します。AWS ドキュメントへのアクセス、コンテンツの検索、推奨事項の取得などのツールを提供する [AWS ドキュメント MCP サーバー](https://awslabs.github.io/mcp/servers/aws-documentation-mcp-server/) を使用します。このMCPサーバーには、主に3つの機能があります。\n",
    "\n",
    "- **ドキュメントの読み取り**: AWSドキュメントページを取得し、マークダウン形式に変換します。\n",
    "- **ドキュメントの検索**: 公式検索APIを使用してAWSドキュメントを検索します。\n",
    "- **推奨事項**: AWSドキュメントページのコンテンツ推奨事項を取得します。\n",
    "\n",
    "## エージェントの詳細\n",
    "<div style=\"float: left; margin-right: 20px;\">\n",
    "\n",
    "|機能 |説明 |\n",
    "|--------------------|---------------------------------------------------|\n",
    "|使用されている機能 |MCPツール |\n",
    "|エージェントの構造 |単一エージェントアーキテクチャ |\n",
    "\n",
    "</div>"
   ]
  },
  {
   "cell_type": "markdown",
   "metadata": {},
   "source": [
    "## アーキテクチャ\n",
    "\n",
    "<div style=\"text-align:center\">\n",
    "<img src=\"images/architecture.png\" width=\"65%\" />\n",
    "</div>\n",
    "\n",
    "## 主な機能\n",
    "* **単一エージェントアーキテクチャ**: この例では、MCPツールと連携する単一のエージェントを作成します。\n",
    "* **MCPツール**: エージェントとMCPツールの統合"
   ]
  },
  {
   "cell_type": "markdown",
   "metadata": {},
   "source": [
    "## セットアップと前提条件\n",
    "\n",
    "### 前提条件\n",
    "* Python 3.10 以上\n",
    "* AWS アカウント\n",
    "* Amazon Bedrock で Anthropic Claude 3.7 が有効化されていること\n",
    "\n",
    "Strands Agent に必要なパッケージをインストールしましょう"
   ]
  },
  {
   "cell_type": "code",
   "execution_count": null,
   "metadata": {},
   "outputs": [],
   "source": [
    "# 前提条件のインストール\n",
    "!pip install -r requirements.txt"
   ]
  },
  {
   "cell_type": "markdown",
   "metadata": {},
   "source": [
    "### 依存パッケージのインポート\n",
    "\n",
    "依存パッケージをインポートしましょう"
   ]
  },
  {
   "cell_type": "code",
   "execution_count": null,
   "metadata": {},
   "outputs": [],
   "source": [
    "import threading\n",
    "import time\n",
    "from datetime import timedelta\n",
    "\n",
    "from mcp import StdioServerParameters, stdio_client\n",
    "from mcp.client.streamable_http import streamablehttp_client\n",
    "from mcp.server import FastMCP\n",
    "from strands import Agent\n",
    "from strands.tools.mcp import MCPClient"
   ]
  },
  {
   "attachments": {},
   "cell_type": "markdown",
   "metadata": {},
   "source": [
    "### stdio トランスポートを使用して MCP サーバーに接続\n",
    "\n",
    "MCP の [Transposts](https://modelcontextprotocol.io/specification/2025-03-26/basic/transports) は、クライアントとサーバー間の通信の基盤を提供します。メッセージの送受信の基本的なメカニズムを処理します。現在、MCP には 3 つの標準トランスポート実装が組み込まれています。\n",
    "\n",
    "- **標準入出力 (stdio)**: 標準入出力ストリームを介した通信を可能にします。特にローカル統合やコマンドラインツールで役立ちます。\n",
    "- **Streamable HTTP**: これは、以前のプロトコルバージョンの HTTP+SSE トランスポートに代わるものです。Streamable HTTP トランスポートでは、サーバーは複数のクライアント接続を処理できる独立したプロセスとして動作します。このトランスポートは、HTTP POST および GET リクエストを使用します。サーバーは、オプションで Server-Sent Events (SSE) を使用して複数のサーバーメッセージをストリーミングできます。これにより、基本的な MCP サーバーだけでなく、ストリーミングやサーバーからクライアントへの通知とリクエストをサポートする機能豊富なサーバーもサポートされます。\n",
    "- **SSE**: Server-Sent Events トランスポートを使用する HTTP ベースの MCP サーバー向けのレガシートランスポート\n",
    "\n",
    "一般的に、コマンドラインツールの構築、ローカル統合の実装、シェルスクリプトの操作には stdio を使用する必要があります。AI エージェントがツールやサービスと通信するための柔軟かつ効率的な方法が必要な場合、特にステートレス通信を扱う場合やリソース使用量の最小化が重要な場合は、Streamable HTTP トランスポートを使用する必要があります。\n",
    "\n",
    "また、特定のニーズに合わせて **カスタムトランスポート** 実装を使用することもできます。\n",
    "\n",
    "では、stdio トランスポートを使用して MCP サーバーに接続してみましょう。まず、クラス `MCPClient` を使用して [AWS ドキュメント MCP サーバー](https://awslabs.github.io/mcp/servers/aws-documentation-mcp-server/) に接続します。このサーバーは、AWS ドキュメントへのアクセス、コンテンツの検索、推奨事項の取得を行うためのツールを提供します。"
   ]
  },
  {
   "cell_type": "code",
   "execution_count": null,
   "metadata": {},
   "outputs": [],
   "source": [
    "# stdioトランスポートを使用してMCPサーバーに接続\n",
    "stdio_mcp_client = MCPClient(\n",
    "    lambda: stdio_client(\n",
    "        StdioServerParameters(\n",
    "            command=\"uvx\", args=[\"awslabs.aws-documentation-mcp-server@latest\"]\n",
    "        )\n",
    "    )\n",
    ")"
   ]
  },
  {
   "cell_type": "markdown",
   "metadata": {},
   "source": [
    "#### エージェント設定のセットアップと呼び出し\n",
    "\n",
    "次に、先ほど作成した `stdio_mcp_client` オブジェクトのツールを使用してエージェント設定を行います。そのためには、MCP サーバーで利用可能なツールを一覧表示する必要があります。これには `list_tools_sync` メソッドを使用します。\n",
    "\n",
    "その後、エージェントに質問をします。"
   ]
  },
  {
   "cell_type": "code",
   "execution_count": null,
   "metadata": {},
   "outputs": [],
   "source": [
    "# MCPツールでエージェントを作成\n",
    "with stdio_mcp_client:\n",
    "    # MCPサーバーからツールを取得\n",
    "    tools = stdio_mcp_client.list_tools_sync()\n",
    "\n",
    "    # これらのツールを使ってエージェントを作成\n",
    "    agent = Agent(tools=tools)\n",
    "\n",
    "    response = agent(\"Amazon Bedrock の料金モデルとは何ですか。簡潔に説明してください。\")"
   ]
  },
  {
   "cell_type": "markdown",
   "metadata": {},
   "source": [
    "### Streamable HTTP を使って MCP サーバーに接続する\n",
    "\n",
    "では、Streamable HTTP トランスポートを使って MCP サーバーに接続してみましょう。まずは、Streamable HTTP トランスポートを使ってシンプルな MCP サーバーを起動してみましょう。"
   ]
  },
  {
   "cell_type": "markdown",
   "metadata": {},
   "source": [
    "この例では、独自のMCPサーバーを作成します。アーキテクチャは以下のようになります。\n",
    "\n",
    "<div style=\"text-align:center\">\n",
    "<img src=\"images/architecture_2.png\" width=\"65%\" />\n",
    "</div>"
   ]
  },
  {
   "cell_type": "code",
   "execution_count": null,
   "metadata": {},
   "outputs": [],
   "source": [
    "# MCPサーバーの作成\n",
    "mcp = FastMCP(\"Calculator Server\")\n",
    "\n",
    "# ツールの定義\n",
    "\n",
    "\n",
    "@mcp.tool(description=\"計算を実行する計算ツール\")\n",
    "def calculator(x: int, y: int) -> int:\n",
    "    return x + y\n",
    "\n",
    "\n",
    "@mcp.tool(description=\"長時間実行されるツール\")\n",
    "def long_running_tool(name: str) -> str:\n",
    "    time.sleep(25)\n",
    "    return f\"Hello {name}\"\n",
    "\n",
    "\n",
    "def main():\n",
    "    mcp.run(transport=\"streamable-http\", mount_path=\"mcp\")"
   ]
  },
  {
   "cell_type": "markdown",
   "metadata": {},
   "source": [
    "それでは、`streamable-http`サーバーでスレッドを開始しましょう。"
   ]
  },
  {
   "cell_type": "code",
   "execution_count": null,
   "metadata": {},
   "outputs": [],
   "source": [
    "thread = threading.Thread(target=main)\n",
    "thread.start()"
   ]
  },
  {
   "cell_type": "markdown",
   "metadata": {},
   "source": [
    "#### Streamable HTTP クライアントとエージェントの統合\n",
    "\n",
    "`streamablehttp_client` を使用して、このサーバーをシンプルなエージェントと統合してみましょう。"
   ]
  },
  {
   "cell_type": "code",
   "execution_count": null,
   "metadata": {},
   "outputs": [],
   "source": [
    "def create_streamable_http_transport():\n",
    "    return streamablehttp_client(\"http://localhost:8000/mcp\")\n",
    "\n",
    "\n",
    "streamable_http_mcp_client = MCPClient(create_streamable_http_transport)"
   ]
  },
  {
   "cell_type": "markdown",
   "metadata": {},
   "source": [
    "#### エージェント設定のセットアップと呼び出し\n",
    "\n",
    "次に、先ほど作成した `streamable_http_mcp_client` オブジェクトのツールを使用してエージェント設定を行います。そのためには、MCP サーバーで利用可能なツールを一覧表示する必要があります。これには `list_tools_sync` メソッドを使用します。\n",
    "\n",
    "その後、エージェントに質問をします。"
   ]
  },
  {
   "cell_type": "code",
   "execution_count": null,
   "metadata": {},
   "outputs": [],
   "source": [
    "with streamable_http_mcp_client:\n",
    "    tools = streamable_http_mcp_client.list_tools_sync()\n",
    "\n",
    "    agent = Agent(tools=tools)\n",
    "\n",
    "    response = str(agent(\"2 + 2 は?\"))"
   ]
  },
  {
   "cell_type": "markdown",
   "metadata": {},
   "source": [
    "### ツールの直接呼び出し"
   ]
  },
  {
   "cell_type": "markdown",
   "metadata": {},
   "source": [
    "ツールは通常、ユーザーのリクエストに基づいてエージェントによって呼び出されますが、MCPツールを直接呼び出すこともできます。これは、複数のツールを連携させるワークフローシナリオに役立ちます。"
   ]
  },
  {
   "cell_type": "code",
   "execution_count": null,
   "metadata": {},
   "outputs": [],
   "source": [
    "query = {\"x\": 10, \"y\": 20}\n",
    "\n",
    "with streamable_http_mcp_client:\n",
    "    # direct tool innvocation\n",
    "    result = streamable_http_mcp_client.call_tool_sync(\n",
    "        tool_use_id=\"tool-123\", name=\"calculator\", arguments=query\n",
    "    )\n",
    "\n",
    "    # Process the result\n",
    "    print(f\"Calculation result: {result['content'][0]['text']}\")"
   ]
  },
  {
   "cell_type": "markdown",
   "metadata": {},
   "source": [
    "MCP サーバー ツールを呼び出すときに、実行時間が長くなりすぎないように、オプションで `read_timeout_seconds` を指定することもできます。"
   ]
  },
  {
   "cell_type": "code",
   "execution_count": null,
   "metadata": {},
   "outputs": [],
   "source": [
    "with streamable_http_mcp_client:\n",
    "    try:\n",
    "        result = streamable_http_mcp_client.call_tool_sync(\n",
    "            tool_use_id=\"tool-123\",\n",
    "            name=\"long_running_tool\",\n",
    "            arguments={\"name\": \"Amazon\"},\n",
    "            read_timeout_seconds=timedelta(seconds=30),\n",
    "        )\n",
    "\n",
    "        if result[\"status\"] == \"error\":\n",
    "            print(f\"Tool execution failed: {result['content'][0]['text']}\")\n",
    "        else:\n",
    "            print(f\"Tool execution succeeded: {result['content'][0]['text']}\")\n",
    "    except Exception as e:\n",
    "        print(f\"Tool call timed out or failed: {str(e)}\")"
   ]
  },
  {
   "cell_type": "markdown",
   "metadata": {},
   "source": [
    "### 複数の MCP サーバーとの連携\n",
    "\n",
    "Strands Agents を使用すると、同じエージェントを使用して複数の MCP サーバーと連携し、並列で使用できるツールの最大数 (`max_parallel_tools`) などのツール設定を構成することもできます。この構成を示すために、新しいエージェントを作成しましょう。\n",
    "\n",
    "<div style=\"text-align:center\">\n",
    "<img src=\"images/architecture_3.png\" width=\"85%\" />\n",
    "</div>\n",
    "\n",
    "このエージェントでは、AWS ドキュメント MCP サーバーに加え、[AWS CDK MCP サーバー](https://awslabs.github.io/mcp/servers/cdk-mcp-server/) も使用します。このサーバーは、AWS Cloud Development Kit (CDK) のベストプラクティス、Infrastructure as Code パターン、CDK Nag によるセキュリティコンプライアンスに役立ちます。\n",
    "\n",
    "まず、stdio トランスポートを使用して 2 つの MCP サーバーに接続します。"
   ]
  },
  {
   "cell_type": "code",
   "execution_count": null,
   "metadata": {},
   "outputs": [],
   "source": [
    "# stdioトランスポートを使用してMCPサーバーに接続\n",
    "aws_docs_mcp_client = MCPClient(\n",
    "    lambda: stdio_client(\n",
    "        StdioServerParameters(\n",
    "            command=\"uvx\", args=[\"awslabs.aws-documentation-mcp-server@latest\"]\n",
    "        )\n",
    "    )\n",
    ")\n",
    "\n",
    "# stdioトランスポートを使用してMCPサーバーに接続する\n",
    "cdk_mcp_client = MCPClient(\n",
    "    lambda: stdio_client(\n",
    "        StdioServerParameters(command=\"uvx\", args=[\"awslabs.cdk-mcp-server@latest\"])\n",
    "    )\n",
    ")"
   ]
  },
  {
   "cell_type": "markdown",
   "metadata": {},
   "source": [
    "#### MCPサーバーでエージェントを作成する\n",
    "\n",
    "次に、両方のMCPサーバーのツールを使用してエージェントを作成します。"
   ]
  },
  {
   "cell_type": "code",
   "execution_count": null,
   "metadata": {},
   "outputs": [],
   "source": [
    "# MCPツールでエージェントを作成\n",
    "with aws_docs_mcp_client, cdk_mcp_client:\n",
    "    # MCPサーバーからツールを取得\n",
    "    tools = aws_docs_mcp_client.list_tools_sync() + cdk_mcp_client.list_tools_sync()\n",
    "\n",
    "    # これらのツールを使ってエージェントを作成\n",
    "    #agent = Agent(tools=tools, max_parallel_tools=2)\n",
    "    agent = Agent(tools=tools)\n",
    "\n",
    "    response = agent(\n",
    "        \"Amazon Bedrock の料金モデルとは何ですか？簡潔に教えてください。また、CDK に関するベストプラクティスは何ですか？\"\n",
    "    )"
   ]
  },
  {
   "cell_type": "markdown",
   "metadata": {},
   "source": [
    "### おめでとうございます！\n",
    "\n",
    "このノートブックでは、Strands Agent と 2 つの MCP トランスポートプロトコル（stdio と Streamable HTTP）を使用して MCP サーバーに接続する方法を学習しました。また、複数の MCP サーバーを同じエージェントに接続する方法も学習しました。次は、エージェントでさまざまなモデルを使用する方法を見てみましょう。"
   ]
  }
 ],
 "metadata": {
  "kernelspec": {
   "display_name": "Python 3 (ipykernel)",
   "language": "python",
   "name": "python3"
  },
  "language_info": {
   "codemirror_mode": {
    "name": "ipython",
    "version": 3
   },
   "file_extension": ".py",
   "mimetype": "text/x-python",
   "name": "python",
   "nbconvert_exporter": "python",
   "pygments_lexer": "ipython3",
   "version": "3.12.9"
  }
 },
 "nbformat": 4,
 "nbformat_minor": 4
}
