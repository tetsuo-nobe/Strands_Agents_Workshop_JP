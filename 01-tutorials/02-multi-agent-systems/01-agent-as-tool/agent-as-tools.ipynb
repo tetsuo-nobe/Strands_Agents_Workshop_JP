{
 "cells": [
  {
   "cell_type": "markdown",
   "metadata": {
    "pycharm": {
     "name": "#%% md\n"
    }
   },
   "source": [
    "# Strand Agents によるツールとしてのエージェント"
   ]
  },
  {
   "cell_type": "markdown",
   "metadata": {
    "pycharm": {
     "name": "#%%\n"
    }
   },
   "source": [
    "「ツールとしてのエージェント」とは、AIシステムにおけるアーキテクチャパターンの一つで、特殊なAIエージェントを他のエージェントから利用可能な呼び出し可能な関数（ツール）としてラップします。これにより、以下の階層構造が形成されます。\n",
    "\n",
    "1. 主要な「オーケストレーター」エージェントがユーザーインタラクションを処理し、どの特殊エージェントを呼び出すかを決定します。\n",
    "\n",
    "2. 特殊化された「ツールエージェント」は、オーケストレーターから呼び出されると、ドメイン固有のタスクを実行します。\n",
    "\n",
    "このアプローチは、マネージャーが各専門家を調整し、それぞれが独自の専門知識を持ち寄って複雑な問題を解決していくという、人間のチームのダイナミクスを模倣しています。単一のエージェントがすべてを処理しようとするのではなく、タスクは最も適切な特殊エージェントに委任されます。\n",
    "\n"
   ]
  },
  {
   "cell_type": "markdown",
   "metadata": {
    "vscode": {
     "languageId": "plaintext"
    }
   },
   "source": [
    "## 主な利点と基本原則"
   ]
  },
  {
   "cell_type": "markdown",
   "metadata": {
    "vscode": {
     "languageId": "plaintext"
    }
   },
   "source": [
    "「ツールとしてのエージェント」というパターンには、いくつかの利点があります。\n",
    "\n",
    "- 関心の分離：各エージェントは特定の責任領域を持つため、システムの理解と保守が容易になります。\n",
    "- 階層的な委任：オーケストレーターがどのスペシャリストを呼び出すかを決定し、明確な指揮系統を構築します。\n",
    "- モジュール型アーキテクチャ：システム全体に影響を与えることなく、スペシャリストを個別に追加、削除、または変更できます。\n",
    "- パフォーマンスの向上：各エージェントは、特定のタスクに合わせて最適化されたシステムプロンプトとツールを利用できます。\n"
   ]
  },
  {
   "cell_type": "code",
   "execution_count": null,
   "metadata": {},
   "outputs": [],
   "source": [
    "!pip install -r requirements.txt"
   ]
  },
  {
   "cell_type": "code",
   "execution_count": null,
   "metadata": {},
   "outputs": [],
   "source": [
    "import os\n",
    "\n",
    "from strands import Agent, tool\n",
    "from strands_tools import file_write"
   ]
  },
  {
   "cell_type": "markdown",
   "metadata": {},
   "source": [
    "このモジュールでは、オーケストレーターベースのマルチエージェントワークフローを作成します。\n",
    "\n",
    "<div style=\"text-align:left\">\n",
    "<img src=\"images/architecture.png\" width=\"75%\" />\n",
    "</div>\n",
    "\n",
    "また、ネストされたエージェントを作成できる `use_llm` についても説明します。"
   ]
  },
  {
   "cell_type": "markdown",
   "metadata": {},
   "source": [
    "## リサーチエージェント"
   ]
  },
  {
   "cell_type": "markdown",
   "metadata": {},
   "source": [
    "まず、http リクエスト ツールを使用して基本的なリサーチ アシスタントを作成しましょう。"
   ]
  },
  {
   "cell_type": "code",
   "execution_count": null,
   "metadata": {},
   "outputs": [],
   "source": [
    "RESEARCH_ASSISTANT_PROMPT = \"\"\"あなたは専門のリサーチアシスタントです。\n",
    "リサーチ上の問いに対する回答として、事実に基づき、確かな情報源に基づいた情報を提供することにのみ注力してください。\n",
    "可能な限り、常に情報源を引用してください。\"\"\""
   ]
  },
  {
   "cell_type": "code",
   "execution_count": null,
   "metadata": {},
   "outputs": [],
   "source": [
    "research_agent = Agent(\n",
    "    system_prompt=RESEARCH_ASSISTANT_PROMPT,\n",
    "    # tools=[http_request]  # ここでエージェントAI検索ツールを有効にできる\n",
    ")\n",
    "\n",
    "query = \"Amazon Bedrock とその機能の概要\"\n",
    "# エージェントを呼び出して応答を返す\n",
    "response = research_agent(query)"
   ]
  },
  {
   "cell_type": "markdown",
   "metadata": {},
   "source": [
    "これで、このエージェントをツールとしてラップできるようになりました。これにより、他のエージェントがエージェントと対話できるようになります。\n",
    "\n",
    "#### エージェントをツールとして扱うためのベストプラクティス\n",
    "\n",
    "Strandly AI で「ツールとしてのエージェント」パターンを実装する際の注意点は以下のとおりです。\n",
    "\n",
    "1. 明確なツールドキュメント：エージェントの専門分野を説明するドキュメント文字列を作成します。\n",
    "2. 焦点を絞ったシステムプロンプト：各特化エージェントがそれぞれのドメインに厳密に特化するようにします。\n",
    "3. 適切な応答処理：一貫したパターンを使用して応答を抽出し、フォーマットします。\n",
    "4. ツール選択ガイダンス：オーケストレーターに、各特化エージェントをいつ使用するかの明確な基準を提供します。"
   ]
  },
  {
   "cell_type": "code",
   "execution_count": null,
   "metadata": {},
   "outputs": [],
   "source": [
    "@tool\n",
    "def research_assistant(query: str) -> str:\n",
    "    \"\"\"\n",
    "    リサーチ関連のクエリを処理し、回答します。\n",
    "\n",
    "    引数:\n",
    "      クエリ: 事実に基づく情報を必要とする研究上の質問\n",
    "\n",
    "    戻り値:\n",
    "      引用文献を含む詳細な研究回答\n",
    "    \"\"\"\n",
    "    try:\n",
    "        # Strandsエージェントを使用すると、専門のエージェントを簡単に作成可能\n",
    "        research_agent = Agent(\n",
    "            system_prompt=RESEARCH_ASSISTANT_PROMPT,\n",
    "        )\n",
    "\n",
    "        # エージェントを呼び出して応答を返す\n",
    "        response = research_agent(query)\n",
    "        return str(response)\n",
    "    except Exception as e:\n",
    "        return f\"Error in research assistant: {str(e)}\""
   ]
  },
  {
   "cell_type": "markdown",
   "metadata": {},
   "source": [
    "ここで、ベスト プラクティスに従って、`product_recommendation_assistant`、`trip_planning_assistant`、および `orchestrator` エージェントを作成しましょう。"
   ]
  },
  {
   "cell_type": "markdown",
   "metadata": {},
   "source": [
    "### 製品推奨アシスタント"
   ]
  },
  {
   "cell_type": "code",
   "execution_count": null,
   "metadata": {},
   "outputs": [],
   "source": [
    "@tool\n",
    "def product_recommendation_assistant(query: str) -> str:\n",
    "    \"\"\"\n",
    "    適切な商品を提案することで、商品推奨クエリを処理します。\n",
    "\n",
    "    引数:\n",
    "      クエリ: ユーザーの好みに基づいた商品に関する問い合わせ\n",
    "\n",
    "    戻り値:\n",
    "      理由に基づいたパーソナライズされた商品推奨\n",
    "    \"\"\"\n",
    "    try:\n",
    "        product_agent = Agent(\n",
    "            system_prompt=\"\"\"あなたは専門的な商品推奨アシスタントです。\n",
    "            ユーザーの好みに基づいて、パーソナライズされた商品提案を提供してください。必ず出典を明記してください。\"\"\",\n",
    "        )\n",
    "        # エージェントを呼び出して応答を返す\n",
    "        response = product_agent(query)\n",
    "\n",
    "        return str(response)\n",
    "    except Exception as e:\n",
    "        return f\"Error in product recommendation: {str(e)}\""
   ]
  },
  {
   "cell_type": "code",
   "execution_count": null,
   "metadata": {},
   "outputs": [],
   "source": [
    "product_recommendation_assistant(\"空飛ぶクルマに関する製品推奨事項\")"
   ]
  },
  {
   "cell_type": "markdown",
   "metadata": {},
   "source": [
    "### 旅行計画アシスタント"
   ]
  },
  {
   "cell_type": "code",
   "execution_count": null,
   "metadata": {},
   "outputs": [],
   "source": [
    "@tool\n",
    "def trip_planning_assistant(query: str) -> str:\n",
    "    \"\"\"\n",
    "    旅行計画を作成し、旅行アドバイスを提供します。\n",
    "\n",
    "    引数:\n",
    "      クエリ: 目的地と希望を指定した旅行計画リクエスト\n",
    "\n",
    "    戻り値:\n",
    "      詳細な旅行計画または旅行アドバイス\n",
    "    \"\"\"\n",
    "    try:\n",
    "        travel_agent = Agent(\n",
    "            system_prompt=\"\"\"あなたは専門の旅行計画アシスタントです。\n",
    "              ユーザーの好みに基づいて、詳細な旅行プランを作成します。\"\"\",\n",
    "        )\n",
    "        # エージェントを呼び出して応答を返す\n",
    "        response = travel_agent(query)\n",
    "\n",
    "        return str(response)\n",
    "    except Exception as e:\n",
    "        return f\"Error in trip planning: {str(e)}\""
   ]
  },
  {
   "cell_type": "markdown",
   "metadata": {},
   "source": [
    "### オーケストレーターエージェント"
   ]
  },
  {
   "cell_type": "code",
   "execution_count": null,
   "metadata": {},
   "outputs": [],
   "source": [
    "# 明確なツール選択ガイダンスでオーケストレーターシステムプロンプトを定義\n",
    "MAIN_SYSTEM_PROMPT = \"\"\"\n",
    "あなたは、専門エージェントに問い合わせをルーティングするアシスタントです。\n",
    "- リサーチに関する質問や事実情報の場合 → research_assistant ツールを使用\n",
    "- 商品のおすすめやショッピングアドバイスの場合 → product_recommendation_assistant ツールを使用\n",
    "- 旅行の計画や旅程の場合 → trip_planning_assistant ツールを使用\n",
    "- 専門知識を必要としない簡単な質問の場合 → 直接回答\n",
    "\n",
    "ユーザーの問い合わせ内容に基づいて、常に最も適切なツールを選択してください。\n",
    "\"\"\""
   ]
  },
  {
   "cell_type": "code",
   "execution_count": null,
   "metadata": {},
   "outputs": [],
   "source": [
    "# Strands Agentsはエージェントツールの簡単な統合を可能にする\n",
    "orchestrator = Agent(\n",
    "    system_prompt=MAIN_SYSTEM_PROMPT,\n",
    "    tools=[\n",
    "        research_assistant,\n",
    "        product_recommendation_assistant,\n",
    "        trip_planning_assistant,\n",
    "        file_write,\n",
    "    ],\n",
    ")"
   ]
  },
  {
   "cell_type": "code",
   "execution_count": null,
   "metadata": {},
   "outputs": [],
   "source": [
    "# 例: 電子商取引顧客サービスシステム\n",
    "customer_query = (\n",
    "    \"ハイキングブーツを探しています。現在のディレクトリに最終的な回答を書き込みます。\"\n",
    ")\n",
    "\n",
    "os.environ[\"BYPASS_TOOL_CONSENT\"] = \"true\"\n",
    "\n",
    "# オーケストレーターは複数の専門エージェントが必要であることを自動的に判断する\n",
    "response = orchestrator(customer_query)"
   ]
  },
  {
   "cell_type": "markdown",
   "metadata": {},
   "source": [
    "オーケストレーターのメッセージを見てみましょう。エージェントがサブエージェントをツールとして使うことを決定したことがわかります。"
   ]
  },
  {
   "cell_type": "code",
   "execution_count": null,
   "metadata": {},
   "outputs": [],
   "source": [
    "orchestrator.messages"
   ]
  },
  {
   "cell_type": "code",
   "execution_count": null,
   "metadata": {},
   "outputs": [],
   "source": [
    "customer_query = \"パタゴニアへの旅行の計画を手伝ってもらえますか？\"\n",
    "\n",
    "response = orchestrator(customer_query)"
   ]
  },
  {
   "cell_type": "code",
   "execution_count": null,
   "metadata": {},
   "outputs": [],
   "source": [
    "orchestrator.messages"
   ]
  },
  {
   "cell_type": "markdown",
   "metadata": {},
   "source": [
    "### 複数のエージェントを呼び出す"
   ]
  },
  {
   "cell_type": "code",
   "execution_count": null,
   "metadata": {},
   "outputs": [],
   "source": [
    "orchestrator.messages = []"
   ]
  },
  {
   "cell_type": "code",
   "execution_count": null,
   "metadata": {},
   "outputs": [],
   "source": [
    "query = \"スペインについて調べてもらえますか？7日間の旅行の計画も手伝ってもらえますか？\"\n",
    "\n",
    "orchestrator(query)"
   ]
  },
  {
   "cell_type": "markdown",
   "metadata": {},
   "source": [
    "舞台裏では、オーケストレーターが以下の処理を行います。\n",
    "1. まず `research_assistant` を呼び出します。\n",
    "2. 次に `trip_planning_assistant` を呼び出します。\n",
    "3. これらの特殊な応答を統合し、両方のクエリに対応するまとまりのある回答を作成します。"
   ]
  },
  {
   "cell_type": "markdown",
   "metadata": {},
   "source": [
    "### シーケンシャルエージェント通信パターン\n"
   ]
  },
  {
   "cell_type": "markdown",
   "metadata": {},
   "source": [
    "エージェントツールは複数のエージェントを組み合わせることもできます。この例では、`research_agent` の出力を `summary_agent` に渡し、要約されたレスポンスを返します。"
   ]
  },
  {
   "cell_type": "code",
   "execution_count": null,
   "metadata": {},
   "outputs": [],
   "source": [
    "# ユーザークエリを定義\n",
    "topic = \"generative Ai\"\n",
    "# リサーチエージェントを作成\n",
    "research_agent = Agent(\n",
    "    system_prompt=RESEARCH_ASSISTANT_PROMPT,\n",
    ")\n",
    "# 要約エージェントを作成\n",
    "summary_agent = Agent(\n",
    "    system_prompt=\"\"\"\n",
    "    あなたは、複雑な情報を明確かつ簡潔な要約にまとめることに重点を置く要約スペシャリストです。\n",
    "    主な目標は、詳細な情報から要点、主要な議論、そして重要なデータを抽出することです。\n",
    "    元のコンテンツの正確性を維持しながら、より理解しやすいものにする必要があります。\n",
    "    明瞭性、簡潔性、そして情報の最も重要な側面を強調することに重点を置いてください。\n",
    "    \"\"\",\n",
    ")\n",
    "\n",
    "print(\"Multiple agents created successfully!\")\n",
    "print(f\"\\n🔍 RESEARCH AGENT working on: {topic}\\n\") \n",
    "try:\n",
    "    # エージェント1: リサーチエージェントを呼び出す\n",
    "    research_response = research_agent(\n",
    "        f\"次のトピックについて包括的な情報を収集してください: {topic}.\"\n",
    "    )\n",
    "    research_text = research_response.message.content[0][\"text\"]\n",
    "    print(\"\\n✂️ SUMMARY AGENT distilling the research\\n\")\n",
    "    \n",
    "    # エージェント2: 要約エージェントに簡潔な要約を作成するよう依頼\n",
    "    summary_response = summary_agent(\n",
    "        f\"次のリサーチの簡潔な要約を作成してください: {research_text}\"\n",
    "    )\n",
    "    summary_text = summary_response.message.content[0][\"text\"]\n",
    "    \n",
    "    print(summary_text)\n",
    "except Exception as e:\n",
    "    print(f\"Error in research assistant: {str(e)}\")"
   ]
  },
  {
   "cell_type": "markdown",
   "metadata": {},
   "source": [
    "## おめでとうございます！\n",
    "\n",
    "Strands Agents でエージェントをツールとして使用し、より複雑なエージェントアプリケーションを作成する方法を学びました。"
   ]
  }
 ],
 "metadata": {
  "kernelspec": {
   "display_name": "Python 3 (ipykernel)",
   "language": "python",
   "name": "python3"
  },
  "language_info": {
   "codemirror_mode": {
    "name": "ipython",
    "version": 3
   },
   "file_extension": ".py",
   "mimetype": "text/x-python",
   "name": "python",
   "nbconvert_exporter": "python",
   "pygments_lexer": "ipython3",
   "version": "3.12.9"
  }
 },
 "nbformat": 4,
 "nbformat_minor": 4
}
