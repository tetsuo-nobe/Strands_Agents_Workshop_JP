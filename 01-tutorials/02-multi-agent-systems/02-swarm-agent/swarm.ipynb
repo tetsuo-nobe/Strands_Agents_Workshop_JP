{
 "cells": [
  {
   "cell_type": "markdown",
   "metadata": {
    "pycharm": {
     "name": "#%% md\n"
    }
   },
   "source": [
    "# Strands Agents を使用したエージェント群の作成"
   ]
  },
  {
   "cell_type": "markdown",
   "metadata": {
    "pycharm": {
     "name": "#%%\n"
    }
   },
   "source": [
    "## マルチエージェントシステムと群知能の理解\n",
    "\n",
    "エージェント群とは、自律的なAIエージェントが連携して複雑な問題を解決する集合体です。アリのコロニーや鳥の群れといった自然界のシステムに着想を得たエージェント群は、集合知能を活用し、その総合的な成果は単一のエージェントが生み出せるものを超えます。タスクを分散し、情報を共有することで、群は個々のエージェントが単独で動作するよりも効率的かつ効果的に複雑な問題に取り組むことができます。\n",
    "\n",
    "マルチエージェントシステムは、環境内で相互作用する複数のインテリジェントエージェントで構成されます。これらのシステムにより、以下のことが可能になります。\n",
    "\n",
    "- *分散型問題解決*: 複雑なタスクをサブタスクに分割し、並列処理する\n",
    "- *情報共有*: エージェントが知見を共有し、集合知を構築する\n",
    "- *特化*: 複数のエージェントが問題の特定の側面に焦点を当てる\n",
    "- *冗長性*: 複数のエージェントが同様のタスクに取り組むことで、信頼性が向上する\n",
    "- *創発的知能*: システムが個々のコンポーネントの能力を超えた能力を発揮する\n",
    "\n",
    "群知能は以下のことに重点を置いています。\n",
    "\n",
    "1. *分散制御*: 単一のエージェントがシステム全体を統制することはない\n",
    "2. *ローカルインタラクション*: エージェントは主に近くのエージェントとインタラクトする\n",
    "3. *単純なルール*: 個々のエージェントは比較的単純な動作に従う\n",
    "4. *創発的複雑性*: 複雑なシステム動作は、単純なエージェント間のインタラクションから生じる"
   ]
  },
  {
   "cell_type": "markdown",
   "metadata": {},
   "source": [
    "## 1. Swarm ツールを使ったクイックスタート"
   ]
  },
  {
   "cell_type": "markdown",
   "metadata": {},
   "source": [
    "Strands Agents SDKには、マルチエージェントシステムの実装を簡素化し、ユーザーがすぐに使い始めることができる組み込みのSwarmツールが付属しています。このツールは共有メモリを実装します。"
   ]
  },
  {
   "cell_type": "code",
   "execution_count": null,
   "metadata": {},
   "outputs": [],
   "source": [
    "!pip install -r requirements.txt"
   ]
  },
  {
   "cell_type": "code",
   "execution_count": null,
   "metadata": {},
   "outputs": [],
   "source": [
    "from strands import Agent\n",
    "from strands_tools import swarm\n",
    "import time"
   ]
  },
  {
   "cell_type": "markdown",
   "metadata": {},
   "source": [
    "### 1.1 ツールの直接呼び出し"
   ]
  },
  {
   "cell_type": "code",
   "execution_count": null,
   "metadata": {},
   "outputs": [],
   "source": [
    "agent = Agent(tools=[swarm])"
   ]
  },
  {
   "cell_type": "code",
   "execution_count": null,
   "metadata": {},
   "outputs": [],
   "source": [
    "result = agent.tool.swarm(\n",
    "    task=\"この科学論文を分析し、重要な発見を特定してください。\",\n",
    "    swarm_size=5,\n",
    "    coordination_pattern=\"collaborative\",\n",
    ")"
   ]
  },
  {
   "cell_type": "markdown",
   "metadata": {},
   "source": [
    "ここでは、5人のエージェントが他のエージェントの洞察に基づいて合意形成を図っていることがわかります。"
   ]
  },
  {
   "cell_type": "code",
   "execution_count": null,
   "metadata": {},
   "outputs": [],
   "source": [
    "result[\"content\"][2:]"
   ]
  },
  {
   "cell_type": "markdown",
   "metadata": {},
   "source": [
    "競争力が必要なシナリオはどうでしょうか?"
   ]
  },
  {
   "cell_type": "code",
   "execution_count": null,
   "metadata": {},
   "outputs": [],
   "source": [
    "result = agent.tool.swarm(\n",
    "    task=\"この科学論文を分析し、重要な発見を特定してください。\",\n",
    "    swarm_size=5,\n",
    "    coordination_pattern=\"competitive\",\n",
    ")"
   ]
  },
  {
   "cell_type": "code",
   "execution_count": null,
   "metadata": {},
   "outputs": [],
   "source": [
    "result[\"content\"][2:]"
   ]
  },
  {
   "cell_type": "markdown",
   "metadata": {},
   "source": [
    "群れは、専門化されたエージェントの役割を通じて、様々なコラボレーション戦略を実行します。\n",
    "\n",
    "- 協調パターン：エージェントは他者の洞察を基に構築し、合意形成を目指します。\n",
    "- 競争パターン：エージェントは独自の解決策と独自の視点を開発します。"
   ]
  },
  {
   "cell_type": "markdown",
   "metadata": {
    "vscode": {
     "languageId": "markdown"
    }
   },
   "source": [
    "### 1.2 自然言語呼び出し"
   ]
  },
  {
   "cell_type": "code",
   "execution_count": null,
   "metadata": {},
   "outputs": [],
   "source": [
    "# 初期化\n",
    "agent = Agent(tools=[swarm])\n",
    "\n",
    "# 自然言語による呼び出し\n",
    "result = str(agent(\n",
    "    \"4 つのエージェントの群れを使用して、生成 AI ベースのエージェントの現在の市場動向を分析します。\"\n",
    "))"
   ]
  },
  {
   "cell_type": "code",
   "execution_count": null,
   "metadata": {},
   "outputs": [],
   "source": [
    "print(result)"
   ]
  },
  {
   "cell_type": "markdown",
   "metadata": {},
   "source": [
    "Swarmツールは、Swarm内の全エージェントのための中央知識リポジトリとして機能するSharedMemoryシステムを実装しています。このシステムは、エージェントが自身の貢献をメタデータ（エージェントID、コンテンツ、フェーズ、タイムスタンプなど）とともに記録できるスレッドセーフなストアを維持します。処理フェーズを追跡することで、エージェントは現在のフェーズの知識のみを取得したり、履歴情報にアクセスしたりすることができます。この共有メモリアーキテクチャは、同時コラボレーションを可能にし、貢献履歴を維持し、エージェント間のスムーズな情報フローを確保します。これらはすべて、Swarmにおける効果的な集合知に不可欠な機能です。\n",
    "\n",
    "Swarmツールの完全な実装は、[Strands Toolsリポジトリ](https://github.com/strands-agents/tools/blob/main/src/strands_tools/swarm.py) にあります。\n",
    "\n",
    "主要なパラメータ\n",
    "- task: スウォームが処理するメインタスク\n",
    "- swarm_size: スウォーム内のエージェント数 (1～10)\n",
    "- coordination_pattern: エージェントの連携方法\n",
    "- collaboration: エージェントは他のエージェントの洞察に基づいて行動する\n",
    "- competitive: エージェントは独立した解決策を開発する\n",
    "- hybrid: 協力と独立した探索のバランスをとる\n",
    "\n",
    "スウォームツールの動作\n",
    "1. *初期化*: 共有メモリと専用エージェントを持つスウォームを作成する\n",
    "2. *フェーズ処理*: エージェントはThreadPoolExecutorを使用して並列に動作する\n",
    "3. *知識共有*: エージェントは共有メモリに情報を保存および取得する\n",
    "4. *結果収集*: すべてのエージェントからの結果が集約され、表示される\n"
   ]
  },
  {
   "cell_type": "markdown",
   "metadata": {},
   "source": [
    "## 2. Strandsエージェントで群れを作る"
   ]
  },
  {
   "cell_type": "markdown",
   "metadata": {},
   "source": [
    "Strands Agents SDK を使用すると、既存の Agent オブジェクトを使用して、異なるモデルプロバイダーや異なる構成を持つ Swarm を作成できます。階層型、並列型、シーケンシャル型、メッシュ型など、さまざまな通信アーキテクチャが考えられますが、以下の例は、エージェント間通信のための柔軟な基盤を提供するメッシュアーキテクチャの実装を示しています。\n",
    "\n",
    "### 2.1 Mesh Swarm アーキテクチャ"
   ]
  },
  {
   "cell_type": "markdown",
   "metadata": {},
   "source": [
    "<p align=\"center\">\n",
    "    <img src=\"./images/swarm_example.png\">\n",
    "</p>"
   ]
  },
  {
   "cell_type": "markdown",
   "metadata": {},
   "source": [
    "メッシュアーキテクチャでは、すべてのエージェントが互いに直接通信できます。次の例は、メッシュ通信を用いて協調的に問題を解決する、特化型エージェントの群れを示しています。"
   ]
  },
  {
   "cell_type": "code",
   "execution_count": null,
   "metadata": {},
   "outputs": [],
   "source": [
    "# 異なる専門知識を持つ専門エージェントを作成する\n",
    "research_agent = Agent(system_prompt=(\"\"\"あなたは情報収集と分析を専門とするリサーチエージェントです。\n",
    "スウォームにおけるあなたの役割は、トピックに関する事実に基づいた情報と調査に基づく洞察を提供することです。\n",
    "正確なデータを提供し、問題の重要な側面を特定することに重点を置く必要があります。\n",
    "他のエージェントから情報を得た際は、その情報があなたの調査内容と一致しているかどうかを評価してください。\n",
    "\"\"\"), \n",
    "callback_handler=None)\n",
    "\n",
    "creative_agent = Agent(system_prompt=(\"\"\"あなたは革新的なソリューションを生み出すことに特化したクリエイティブエージェントです。\n",
    "スウォームにおけるあなたの役割は、既成概念にとらわれず、クリエイティブなアプローチを提案することです。\n",
    "他のエージェントから得た情報を活用しつつ、独自のクリエイティブな視点を加えることが重要です。\n",
    "他のエージェントが考えつかなかったような斬新なアプローチに焦点を当ててください。\n",
    "\"\"\"), \n",
    "callback_handler=None)\n",
    "\n",
    "critical_agent = Agent(system_prompt=(\"\"\"あなたは、提案を分析し、欠陥を見つけることに特化したクリティカルエージェントです。\n",
    "スウォームにおけるあなたの役割は、他のエージェントが提案した解決策を評価し、潜在的な問題を特定することです。\n",
    "提案された解決策を注意深く検討し、弱点や見落としを見つけ、改善を提案してください。\n",
    "最終的な解決策が堅牢であることを保証しながら、建設的な批判を心がけてください。\n",
    "\"\"\"), \n",
    "callback_handler=None)\n",
    "\n",
    "summarizer_agent = Agent(system_prompt=\"\"\"あなたは、情報の統合を専門とするサマライザーエージェントです。\n",
    "スウォームにおけるあなたの役割は、すべてのエージェントから洞察を集め、最終的な解決策をまとめることです。\n",
    "最良のアイデアを組み合わせ、批判にも対処することで、包括的な回答を作成する必要があります。\n",
    "元のクエリに効果的に対応する、明確で実用的な要約を作成することに注力してください。\n",
    "\"\"\")"
   ]
  },
  {
   "cell_type": "markdown",
   "metadata": {},
   "source": [
    "メッシュ通信は、エージェント間のメッセージを追跡するための辞書を使用して実装されます。"
   ]
  },
  {
   "cell_type": "code",
   "execution_count": null,
   "metadata": {},
   "outputs": [],
   "source": [
    "# エージェント間のメッセージを追跡するための辞書（メッシュ通信）\n",
    "messages = {\n",
    "    \"research\": [],\n",
    "    \"creative\": [],\n",
    "    \"critical\": [],\n",
    "    \"summarizer\": []\n",
    "}"
   ]
  },
  {
   "cell_type": "markdown",
   "metadata": {},
   "source": [
    "群れは複数のフェーズで動作し、各エージェントは最初に個別に問題を分析します。"
   ]
  },
  {
   "cell_type": "code",
   "execution_count": null,
   "metadata": {},
   "outputs": [],
   "source": [
    "query = \"Generative Ai\""
   ]
  },
  {
   "cell_type": "code",
   "execution_count": null,
   "metadata": {},
   "outputs": [],
   "source": [
    "# フェーズ1：各専門エージェントによる初期分析\n",
    "research_result = research_agent(query)\n",
    "time.sleep(30)\n",
    "creative_result = creative_agent(query)\n",
    "time.sleep(30)\n",
    "critical_result = critical_agent(query)"
   ]
  },
  {
   "cell_type": "markdown",
   "metadata": {},
   "source": [
    "初期分析の後、結果は他のすべてのエージェントと共有されます (メッシュ通信)"
   ]
  },
  {
   "cell_type": "code",
   "execution_count": null,
   "metadata": {},
   "outputs": [],
   "source": [
    "# 他のすべてのエージェントと結果を共有する（メッシュ通信）\n",
    "messages[\"creative\"].append(f\"From Research Agent: {research_result}\")\n",
    "messages[\"critical\"].append(f\"From Research Agent: {research_result}\")\n",
    "messages[\"summarizer\"].append(f\"From Research Agent: {research_result}\")\n",
    "\n",
    "messages[\"research\"].append(f\"From Creative Agent: {creative_result}\")\n",
    "messages[\"critical\"].append(f\"From Creative Agent: {creative_result}\")\n",
    "messages[\"summarizer\"].append(f\"From Creative Agent: {creative_result}\")\n",
    "\n",
    "messages[\"research\"].append(f\"From Critical Agent: {critical_result}\")\n",
    "messages[\"creative\"].append(f\"From Critical Agent: {critical_result}\")\n",
    "messages[\"summarizer\"].append(f\"From Critical Agent: {critical_result}\")"
   ]
  },
  {
   "cell_type": "markdown",
   "metadata": {},
   "source": [
    "第 2 フェーズでは、各エージェントは他のすべてのエージェントからの入力に基づいてソリューションを改良します。"
   ]
  },
  {
   "cell_type": "code",
   "execution_count": null,
   "metadata": {},
   "outputs": [],
   "source": [
    "# フェーズ2: 各エージェントは他のエージェントからの入力に基づいて改良\n",
    "research_prompt = f\"{query}\\n\\nConsider these messages from other agents:\\n\" + \"\\n\\n\".join(messages[\"research\"])\n",
    "creative_prompt = f\"{query}\\n\\nConsider these messages from other agents:\\n\" + \"\\n\\n\".join(messages[\"creative\"])\n",
    "critical_prompt = f\"{query}\\n\\nConsider these messages from other agents:\\n\" + \"\\n\\n\".join(messages[\"critical\"])\n",
    "\n",
    "refined_research = research_agent(research_prompt)\n",
    "\n",
    "time.sleep(30)\n",
    "\n",
    "refined_creative = creative_agent(creative_prompt)\n",
    "\n",
    "time.sleep(30)\n",
    "\n",
    "refined_critical = critical_agent(critical_prompt)\n",
    "\n",
    "# 絞り込んだ結果をサマライザーと共有\n",
    "messages[\"summarizer\"].append(f\"From Research Agent (Phase 2): {refined_research}\")\n",
    "messages[\"summarizer\"].append(f\"From Creative Agent (Phase 2): {refined_creative}\")\n",
    "messages[\"summarizer\"].append(f\"From Critical Agent (Phase 2): {refined_critical}\")"
   ]
  },
  {
   "cell_type": "markdown",
   "metadata": {},
   "source": [
    "最後に、サマライザー エージェントはすべての入力を統合して包括的なソリューションを作成します。"
   ]
  },
  {
   "cell_type": "code",
   "execution_count": null,
   "metadata": {},
   "outputs": [],
   "source": [
    "# 最終段階: Summarizer が最終ソリューションを作成します\n",
    "time.sleep(30)\n",
    "\n",
    "summarizer_prompt = f\"\"\"\n",
    "元のクエリ: {query}\n",
    "\n",
    "すべてのエージェントからの以下の入力を総合的に最終ソリューションに統合してください:\n",
    "\n",
    "{\"\\n\\n\".join(messages[\"summarizer\"])}\n",
    "\n",
    "研究結果、独創的なアイデア、そして批判的なフィードバックを取り入れた、構成のしっかりした最終回答を作成します。\n",
    "\"\"\"\n",
    "\n",
    "final_solution = str(summarizer_agent(summarizer_prompt))"
   ]
  },
  {
   "cell_type": "code",
   "execution_count": null,
   "metadata": {},
   "outputs": [],
   "source": [
    "print(final_solution)"
   ]
  },
  {
   "cell_type": "markdown",
   "metadata": {},
   "source": [
    "このメッシュアーキテクチャにより、すべてのエージェント間の直接的な通信が可能になり、各エージェントは他のすべてのエージェントと洞察を共有できます。専門分野（リサーチ、クリエイティブ、クリティカル、サマライザー）が連携して、多様な視点と反復的な改善によるメリットを享受できる包括的なソリューションを生み出します。"
   ]
  },
  {
   "cell_type": "markdown",
   "metadata": {},
   "source": [
    "### 2.2 共有メモリの実装"
   ]
  },
  {
   "cell_type": "markdown",
   "metadata": {},
   "source": [
    "メッシュ通信の例はエージェント間の連携を効果的に示していますが、共有メモリシステムを導入することで、以下の機能を提供することで群集の能力をさらに強化できます。\n",
    "\n",
    "- 全エージェントのための一元化された知識リポジトリ\n",
    "- 自動フェーズ追跡と履歴知識の保存\n",
    "- スレッドセーフな同時アクセスによる効率向上\n",
    "- 複数のインタラクションにわたる洞察の永続的な保存\n",
    "\n",
    "共有メモリを使用してメッシュ群集の例を拡張することで、メッセージディクショナリをSharedMemoryインスタンスに置き換えることができ、コードを簡素化すると同時に、より高度な知識管理が可能になります。"
   ]
  },
  {
   "cell_type": "markdown",
   "metadata": {},
   "source": [
    "## Swarm を使用する場合:\n",
    "\n",
    "- 単一の複雑なタスクを迅速に並列処理する場合\n",
    "- 同じ問題に対して複数の視点が必要な場合\n",
    "- 集合知の恩恵を受けるタスクの場合\n",
    "\n",
    "## 結論\n",
    "\n",
    "マルチエージェントの群は、集合知によって複雑な問題を解決します。Strands Agents SDK は、カスタム実装と共有メモリを備えた組み込みの Swarm ツールの両方をサポートしています。タスクを専門のエージェントに分散し、効果的な通信を可能にすることで、Swarm は単一のエージェントが単独で動作するよりも優れた結果を実現します。メッシュ通信パターンを使用する場合でも、Swarm ツールを使用する場合でも、開発者は複数のエージェントが定義された役割、調整メカニズム、そして知識共有に基づいて連携するシステムを構築できます。\n",
    "\n"
   ]
  }
 ],
 "metadata": {
  "kernelspec": {
   "display_name": "Python 3 (ipykernel)",
   "language": "python",
   "name": "python3"
  },
  "language_info": {
   "codemirror_mode": {
    "name": "ipython",
    "version": 3
   },
   "file_extension": ".py",
   "mimetype": "text/x-python",
   "name": "python",
   "nbconvert_exporter": "python",
   "pygments_lexer": "ipython3",
   "version": "3.12.9"
  }
 },
 "nbformat": 4,
 "nbformat_minor": 4
}
