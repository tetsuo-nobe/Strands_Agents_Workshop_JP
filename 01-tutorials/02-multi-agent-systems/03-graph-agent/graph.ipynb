{
 "cells": [
  {
   "cell_type": "markdown",
   "id": "b3fa745a-a393-498b-ab51-68804fadf751",
   "metadata": {},
   "source": [
    "# Strands Agent Graph を用いたマルチエージェントシステムの構築\n",
    "マルチエージェントシステムは、複数の専門AIエージェントが連携して複雑な問題を解決することで、協調的なコラボレーションを実現します。各エージェントはそれぞれ固有の機能と役割を持ち、明示的な通信経路によって接続されています。\n",
    "\n",
    "このラボでは、Strands Agent Graph ツールを使用してマルチエージェントシステムを構築する方法を学習します。基本的な概念から高度な実装へと進み、さまざまなトポロジと実際のアプリケーションを探求します。\n",
    "\n",
    "**学習目標:**\n",
    "このノートブックを完了すると、以下のことができるようになります。\n",
    "- エージェントグラフの3つのコアコンポーネント（ノード、エッジ、トポロジ）を理解する\n",
    "- さまざまなトポロジパターン（スター、メッシュ、階層）を作成および管理する\n",
    "- エージェントグラフに自然言語と構造化アプローチの両方を実装する\n",
    "- 特定のエージェント間でターゲットメッセージを送信する\n",
    "- マルチエージェントネットワークを監視および制御する\n",
    "- 実際のシナリオに特化したエージェントシステムを設計する\n",
    "\n",
    "## 前提条件\n",
    "\n",
    "- Python 3.10以上\n",
    "- Amazon BedrockでAnthropic Claude 3.7が有効になっているAWSアカウント\n",
    "- Amazon Bedrockを使用する権限を持つIAMロール\n",
    "- AIエージェントとPromptエンジニアリングに関する基本的な理解"
   ]
  },
  {
   "cell_type": "markdown",
   "id": "afc1a597-0490-4ab1-9324-5498b5592662",
   "metadata": {},
   "source": [
    "## セットアップとインストール\n",
    "\n",
    "始める前に、`strands-agents` と `strands-agents-tools` に必要なパッケージをインストールしましょう。"
   ]
  },
  {
   "cell_type": "code",
   "execution_count": 1,
   "id": "e048e8cf-3fa7-495b-a761-7999936171c5",
   "metadata": {
    "execution": {
     "iopub.execute_input": "2025-07-21T08:16:15.906850Z",
     "iopub.status.busy": "2025-07-21T08:16:15.906491Z",
     "iopub.status.idle": "2025-07-21T08:16:17.823589Z",
     "shell.execute_reply": "2025-07-21T08:16:17.822782Z",
     "shell.execute_reply.started": "2025-07-21T08:16:15.906817Z"
    }
   },
   "outputs": [
    {
     "name": "stdout",
     "output_type": "stream",
     "text": [
      "Requirement already satisfied: strands-agents in /opt/conda/lib/python3.12/site-packages (from -r requirements.txt (line 1)) (1.0.1)\n",
      "Requirement already satisfied: strands-agents-tools in /opt/conda/lib/python3.12/site-packages (from -r requirements.txt (line 2)) (0.2.0)\n",
      "Requirement already satisfied: boto3<2.0.0,>=1.26.0 in /opt/conda/lib/python3.12/site-packages (from strands-agents->-r requirements.txt (line 1)) (1.37.1)\n",
      "Requirement already satisfied: botocore<2.0.0,>=1.29.0 in /opt/conda/lib/python3.12/site-packages (from strands-agents->-r requirements.txt (line 1)) (1.37.1)\n",
      "Requirement already satisfied: docstring-parser<1.0,>=0.15 in /opt/conda/lib/python3.12/site-packages (from strands-agents->-r requirements.txt (line 1)) (0.17.0)\n",
      "Requirement already satisfied: mcp<2.0.0,>=1.8.0 in /opt/conda/lib/python3.12/site-packages (from strands-agents->-r requirements.txt (line 1)) (1.12.0)\n",
      "Requirement already satisfied: opentelemetry-api<2.0.0,>=1.30.0 in /opt/conda/lib/python3.12/site-packages (from strands-agents->-r requirements.txt (line 1)) (1.35.0)\n",
      "Requirement already satisfied: opentelemetry-instrumentation-threading<1.00b0,>=0.51b0 in /opt/conda/lib/python3.12/site-packages (from strands-agents->-r requirements.txt (line 1)) (0.56b0)\n",
      "Requirement already satisfied: opentelemetry-sdk<2.0.0,>=1.30.0 in /opt/conda/lib/python3.12/site-packages (from strands-agents->-r requirements.txt (line 1)) (1.35.0)\n",
      "Requirement already satisfied: pydantic<3.0.0,>=2.0.0 in /opt/conda/lib/python3.12/site-packages (from strands-agents->-r requirements.txt (line 1)) (2.11.4)\n",
      "Requirement already satisfied: typing-extensions<5.0.0,>=4.13.2 in /opt/conda/lib/python3.12/site-packages (from strands-agents->-r requirements.txt (line 1)) (4.13.2)\n",
      "Requirement already satisfied: watchdog<7.0.0,>=6.0.0 in /opt/conda/lib/python3.12/site-packages (from strands-agents->-r requirements.txt (line 1)) (6.0.0)\n",
      "Requirement already satisfied: jmespath<2.0.0,>=0.7.1 in /opt/conda/lib/python3.12/site-packages (from boto3<2.0.0,>=1.26.0->strands-agents->-r requirements.txt (line 1)) (1.0.1)\n",
      "Requirement already satisfied: s3transfer<0.12.0,>=0.11.0 in /opt/conda/lib/python3.12/site-packages (from boto3<2.0.0,>=1.26.0->strands-agents->-r requirements.txt (line 1)) (0.11.3)\n",
      "Requirement already satisfied: python-dateutil<3.0.0,>=2.1 in /opt/conda/lib/python3.12/site-packages (from botocore<2.0.0,>=1.29.0->strands-agents->-r requirements.txt (line 1)) (2.9.0.post0)\n",
      "Requirement already satisfied: urllib3!=2.2.0,<3,>=1.25.4 in /opt/conda/lib/python3.12/site-packages (from botocore<2.0.0,>=1.29.0->strands-agents->-r requirements.txt (line 1)) (1.26.19)\n",
      "Requirement already satisfied: anyio>=4.5 in /opt/conda/lib/python3.12/site-packages (from mcp<2.0.0,>=1.8.0->strands-agents->-r requirements.txt (line 1)) (4.9.0)\n",
      "Requirement already satisfied: httpx-sse>=0.4 in /opt/conda/lib/python3.12/site-packages (from mcp<2.0.0,>=1.8.0->strands-agents->-r requirements.txt (line 1)) (0.4.0)\n",
      "Requirement already satisfied: httpx>=0.27 in /opt/conda/lib/python3.12/site-packages (from mcp<2.0.0,>=1.8.0->strands-agents->-r requirements.txt (line 1)) (0.28.1)\n",
      "Requirement already satisfied: jsonschema>=4.20.0 in /opt/conda/lib/python3.12/site-packages (from mcp<2.0.0,>=1.8.0->strands-agents->-r requirements.txt (line 1)) (4.23.0)\n",
      "Requirement already satisfied: pydantic-settings>=2.5.2 in /opt/conda/lib/python3.12/site-packages (from mcp<2.0.0,>=1.8.0->strands-agents->-r requirements.txt (line 1)) (2.9.1)\n",
      "Requirement already satisfied: python-multipart>=0.0.9 in /opt/conda/lib/python3.12/site-packages (from mcp<2.0.0,>=1.8.0->strands-agents->-r requirements.txt (line 1)) (0.0.20)\n",
      "Requirement already satisfied: sse-starlette>=1.6.1 in /opt/conda/lib/python3.12/site-packages (from mcp<2.0.0,>=1.8.0->strands-agents->-r requirements.txt (line 1)) (2.4.1)\n",
      "Requirement already satisfied: starlette>=0.27 in /opt/conda/lib/python3.12/site-packages (from mcp<2.0.0,>=1.8.0->strands-agents->-r requirements.txt (line 1)) (0.46.2)\n",
      "Requirement already satisfied: uvicorn>=0.23.1 in /opt/conda/lib/python3.12/site-packages (from mcp<2.0.0,>=1.8.0->strands-agents->-r requirements.txt (line 1)) (0.34.2)\n",
      "Requirement already satisfied: importlib-metadata<8.8.0,>=6.0 in /opt/conda/lib/python3.12/site-packages (from opentelemetry-api<2.0.0,>=1.30.0->strands-agents->-r requirements.txt (line 1)) (6.10.0)\n",
      "Requirement already satisfied: zipp>=0.5 in /opt/conda/lib/python3.12/site-packages (from importlib-metadata<8.8.0,>=6.0->opentelemetry-api<2.0.0,>=1.30.0->strands-agents->-r requirements.txt (line 1)) (3.22.0)\n",
      "Requirement already satisfied: opentelemetry-instrumentation==0.56b0 in /opt/conda/lib/python3.12/site-packages (from opentelemetry-instrumentation-threading<1.00b0,>=0.51b0->strands-agents->-r requirements.txt (line 1)) (0.56b0)\n",
      "Requirement already satisfied: wrapt<2.0.0,>=1.0.0 in /opt/conda/lib/python3.12/site-packages (from opentelemetry-instrumentation-threading<1.00b0,>=0.51b0->strands-agents->-r requirements.txt (line 1)) (1.17.2)\n",
      "Requirement already satisfied: opentelemetry-semantic-conventions==0.56b0 in /opt/conda/lib/python3.12/site-packages (from opentelemetry-instrumentation==0.56b0->opentelemetry-instrumentation-threading<1.00b0,>=0.51b0->strands-agents->-r requirements.txt (line 1)) (0.56b0)\n",
      "Requirement already satisfied: packaging>=18.0 in /opt/conda/lib/python3.12/site-packages (from opentelemetry-instrumentation==0.56b0->opentelemetry-instrumentation-threading<1.00b0,>=0.51b0->strands-agents->-r requirements.txt (line 1)) (24.2)\n",
      "Requirement already satisfied: annotated-types>=0.6.0 in /opt/conda/lib/python3.12/site-packages (from pydantic<3.0.0,>=2.0.0->strands-agents->-r requirements.txt (line 1)) (0.7.0)\n",
      "Requirement already satisfied: pydantic-core==2.33.2 in /opt/conda/lib/python3.12/site-packages (from pydantic<3.0.0,>=2.0.0->strands-agents->-r requirements.txt (line 1)) (2.33.2)\n",
      "Requirement already satisfied: typing-inspection>=0.4.0 in /opt/conda/lib/python3.12/site-packages (from pydantic<3.0.0,>=2.0.0->strands-agents->-r requirements.txt (line 1)) (0.4.1)\n",
      "Requirement already satisfied: six>=1.5 in /opt/conda/lib/python3.12/site-packages (from python-dateutil<3.0.0,>=2.1->botocore<2.0.0,>=1.29.0->strands-agents->-r requirements.txt (line 1)) (1.17.0)\n",
      "Requirement already satisfied: aws-requests-auth<0.5.0,>=0.4.3 in /opt/conda/lib/python3.12/site-packages (from strands-agents-tools->-r requirements.txt (line 2)) (0.4.3)\n",
      "Requirement already satisfied: dill<0.5.0,>=0.4.0 in /opt/conda/lib/python3.12/site-packages (from strands-agents-tools->-r requirements.txt (line 2)) (0.4.0)\n",
      "Requirement already satisfied: markdownify<2.0.0,>=1.0.0 in /opt/conda/lib/python3.12/site-packages (from strands-agents-tools->-r requirements.txt (line 2)) (1.1.0)\n",
      "Requirement already satisfied: pillow<12.0.0,>=11.2.1 in /opt/conda/lib/python3.12/site-packages (from strands-agents-tools->-r requirements.txt (line 2)) (11.2.1)\n",
      "Requirement already satisfied: prompt-toolkit<4.0.0,>=3.0.51 in /opt/conda/lib/python3.12/site-packages (from strands-agents-tools->-r requirements.txt (line 2)) (3.0.51)\n",
      "Requirement already satisfied: pyjwt<3.0.0,>=2.10.1 in /opt/conda/lib/python3.12/site-packages (from strands-agents-tools->-r requirements.txt (line 2)) (2.10.1)\n",
      "Requirement already satisfied: readabilipy<1.0.0,>=0.2.0 in /opt/conda/lib/python3.12/site-packages (from strands-agents-tools->-r requirements.txt (line 2)) (0.3.0)\n",
      "Requirement already satisfied: rich<15.0.0,>=14.0.0 in /opt/conda/lib/python3.12/site-packages (from strands-agents-tools->-r requirements.txt (line 2)) (14.0.0)\n",
      "Requirement already satisfied: slack-bolt<2.0.0,>=1.23.0 in /opt/conda/lib/python3.12/site-packages (from strands-agents-tools->-r requirements.txt (line 2)) (1.23.0)\n",
      "Requirement already satisfied: sympy<2.0.0,>=1.12.0 in /opt/conda/lib/python3.12/site-packages (from strands-agents-tools->-r requirements.txt (line 2)) (1.14.0)\n",
      "Requirement already satisfied: tenacity<10.0.0,>=9.1.2 in /opt/conda/lib/python3.12/site-packages (from strands-agents-tools->-r requirements.txt (line 2)) (9.1.2)\n",
      "Requirement already satisfied: requests>=0.14.0 in /opt/conda/lib/python3.12/site-packages (from aws-requests-auth<0.5.0,>=0.4.3->strands-agents-tools->-r requirements.txt (line 2)) (2.32.3)\n",
      "Requirement already satisfied: beautifulsoup4<5,>=4.9 in /opt/conda/lib/python3.12/site-packages (from markdownify<2.0.0,>=1.0.0->strands-agents-tools->-r requirements.txt (line 2)) (4.13.4)\n",
      "Requirement already satisfied: soupsieve>1.2 in /opt/conda/lib/python3.12/site-packages (from beautifulsoup4<5,>=4.9->markdownify<2.0.0,>=1.0.0->strands-agents-tools->-r requirements.txt (line 2)) (2.7)\n",
      "Requirement already satisfied: wcwidth in /opt/conda/lib/python3.12/site-packages (from prompt-toolkit<4.0.0,>=3.0.51->strands-agents-tools->-r requirements.txt (line 2)) (0.2.13)\n",
      "Requirement already satisfied: html5lib in /opt/conda/lib/python3.12/site-packages (from readabilipy<1.0.0,>=0.2.0->strands-agents-tools->-r requirements.txt (line 2)) (1.1)\n",
      "Requirement already satisfied: lxml in /opt/conda/lib/python3.12/site-packages (from readabilipy<1.0.0,>=0.2.0->strands-agents-tools->-r requirements.txt (line 2)) (5.4.0)\n",
      "Requirement already satisfied: regex in /opt/conda/lib/python3.12/site-packages (from readabilipy<1.0.0,>=0.2.0->strands-agents-tools->-r requirements.txt (line 2)) (2024.11.6)\n",
      "Requirement already satisfied: markdown-it-py>=2.2.0 in /opt/conda/lib/python3.12/site-packages (from rich<15.0.0,>=14.0.0->strands-agents-tools->-r requirements.txt (line 2)) (3.0.0)\n",
      "Requirement already satisfied: pygments<3.0.0,>=2.13.0 in /opt/conda/lib/python3.12/site-packages (from rich<15.0.0,>=14.0.0->strands-agents-tools->-r requirements.txt (line 2)) (2.19.1)\n",
      "Requirement already satisfied: slack_sdk<4,>=3.35.0 in /opt/conda/lib/python3.12/site-packages (from slack-bolt<2.0.0,>=1.23.0->strands-agents-tools->-r requirements.txt (line 2)) (3.36.0)\n",
      "Requirement already satisfied: mpmath<1.4,>=1.1.0 in /opt/conda/lib/python3.12/site-packages (from sympy<2.0.0,>=1.12.0->strands-agents-tools->-r requirements.txt (line 2)) (1.3.0)\n",
      "Requirement already satisfied: idna>=2.8 in /opt/conda/lib/python3.12/site-packages (from anyio>=4.5->mcp<2.0.0,>=1.8.0->strands-agents->-r requirements.txt (line 1)) (3.10)\n",
      "Requirement already satisfied: sniffio>=1.1 in /opt/conda/lib/python3.12/site-packages (from anyio>=4.5->mcp<2.0.0,>=1.8.0->strands-agents->-r requirements.txt (line 1)) (1.3.1)\n",
      "Requirement already satisfied: certifi in /opt/conda/lib/python3.12/site-packages (from httpx>=0.27->mcp<2.0.0,>=1.8.0->strands-agents->-r requirements.txt (line 1)) (2025.4.26)\n",
      "Requirement already satisfied: httpcore==1.* in /opt/conda/lib/python3.12/site-packages (from httpx>=0.27->mcp<2.0.0,>=1.8.0->strands-agents->-r requirements.txt (line 1)) (1.0.9)\n",
      "Requirement already satisfied: h11>=0.16 in /opt/conda/lib/python3.12/site-packages (from httpcore==1.*->httpx>=0.27->mcp<2.0.0,>=1.8.0->strands-agents->-r requirements.txt (line 1)) (0.16.0)\n",
      "Requirement already satisfied: attrs>=22.2.0 in /opt/conda/lib/python3.12/site-packages (from jsonschema>=4.20.0->mcp<2.0.0,>=1.8.0->strands-agents->-r requirements.txt (line 1)) (23.2.0)\n",
      "Requirement already satisfied: jsonschema-specifications>=2023.03.6 in /opt/conda/lib/python3.12/site-packages (from jsonschema>=4.20.0->mcp<2.0.0,>=1.8.0->strands-agents->-r requirements.txt (line 1)) (2025.4.1)\n",
      "Requirement already satisfied: referencing>=0.28.4 in /opt/conda/lib/python3.12/site-packages (from jsonschema>=4.20.0->mcp<2.0.0,>=1.8.0->strands-agents->-r requirements.txt (line 1)) (0.36.2)\n",
      "Requirement already satisfied: rpds-py>=0.7.1 in /opt/conda/lib/python3.12/site-packages (from jsonschema>=4.20.0->mcp<2.0.0,>=1.8.0->strands-agents->-r requirements.txt (line 1)) (0.25.1)\n",
      "Requirement already satisfied: mdurl~=0.1 in /opt/conda/lib/python3.12/site-packages (from markdown-it-py>=2.2.0->rich<15.0.0,>=14.0.0->strands-agents-tools->-r requirements.txt (line 2)) (0.1.2)\n",
      "Requirement already satisfied: python-dotenv>=0.21.0 in /opt/conda/lib/python3.12/site-packages (from pydantic-settings>=2.5.2->mcp<2.0.0,>=1.8.0->strands-agents->-r requirements.txt (line 1)) (1.1.0)\n",
      "Requirement already satisfied: charset_normalizer<4,>=2 in /opt/conda/lib/python3.12/site-packages (from requests>=0.14.0->aws-requests-auth<0.5.0,>=0.4.3->strands-agents-tools->-r requirements.txt (line 2)) (3.4.2)\n",
      "Requirement already satisfied: click>=7.0 in /opt/conda/lib/python3.12/site-packages (from uvicorn>=0.23.1->mcp<2.0.0,>=1.8.0->strands-agents->-r requirements.txt (line 1)) (8.2.1)\n",
      "Requirement already satisfied: webencodings in /opt/conda/lib/python3.12/site-packages (from html5lib->readabilipy<1.0.0,>=0.2.0->strands-agents-tools->-r requirements.txt (line 2)) (0.5.1)\n"
     ]
    }
   ],
   "source": [
    "!pip install -r requirements.txt"
   ]
  },
  {
   "cell_type": "markdown",
   "id": "9a203754-ecd3-402d-be98-9ee8facc23d9",
   "metadata": {},
   "source": [
    "### 必要なパッケージのインポート\n",
    "\n",
    "次に、必要なパッケージをインポートします"
   ]
  },
  {
   "cell_type": "code",
   "execution_count": 2,
   "id": "680c68aa-36e9-48e7-a3ed-9d2e63a3b95c",
   "metadata": {
    "execution": {
     "iopub.execute_input": "2025-07-21T08:16:29.992875Z",
     "iopub.status.busy": "2025-07-21T08:16:29.992276Z",
     "iopub.status.idle": "2025-07-21T08:16:30.530518Z",
     "shell.execute_reply": "2025-07-21T08:16:30.529821Z",
     "shell.execute_reply.started": "2025-07-21T08:16:29.992841Z"
    }
   },
   "outputs": [],
   "source": [
    "import boto3\n",
    "from strands import Agent\n",
    "from strands_tools import agent_graph\n",
    "import json"
   ]
  },
  {
   "cell_type": "markdown",
   "id": "cb3b24d8-69d5-496d-92a5-24ff8705de1c",
   "metadata": {},
   "source": [
    "## エージェントグラフの構成要素について\n",
    "エージェントグラフは、相互接続されたAIエージェントの構造化ネットワークであり、協調的なコラボレーションを通じて複雑な問題を解決するように設計されています。各エージェントは特定の機能を持つ特殊なノードを表し、エージェント間の接続は明確な通信経路を定義します。\n",
    "\n",
    "構築を始める前に、エージェントグラフの3つの主要コンポーネントを理解しましょう。\n",
    "\n",
    "### 1. ノード（エージェント）\n",
    "各ノードは、以下の要素を持つAIエージェントを表します。\n",
    "- **アイデンティティ**: グラフ内で一意の識別子\n",
    "- **ロール**: 特殊な機能または目的\n",
    "- **システムプロンプト**: エージェントの動作を定義する指示\n",
    "- **ツール**: エージェントが利用できる機能\n",
    "- **メッセージキュー**: 受信通信用のバッファ\n",
    "\n",
    "### 2. エッジ（接続）\n",
    "エッジは、以下の要素を持つ通信経路を定義します。\n",
    "- **方向**: 一方向または双方向の情報フロー\n",
    "- **関係**: エージェント間の関係（スーパーバイザー/ワーカー、ピアツーピア）\n",
    "- **メッセージパッシング**: 情報を転送するためのメカニズム\n",
    "\n",
    "### 3. トポロジパターン\n",
    "ユースケースごとに異なるネットワーク構造：\n",
    "- **スター**: 放射状に広がる中央コーディネータースペシャリストが中心となり、編集監修付きのコンテンツ作成やエスカレーションパスを備えたカスタマーサービスといった集中型ワークフローに最適です。\n",
    "- **メッシュ**：すべてのエージェントが直接通信できる完全接続ネットワーク。共同作業による問題解決、議論、合意形成に最適です。\n",
    "- **階層型**：親子関係を持つツリー構造。階層型処理、タスク委任によるプロジェクト管理、多階層レビュープロセスに最適です。\n",
    "\n",
    "![トポロジ](images/topologies.png)"
   ]
  },
  {
   "cell_type": "markdown",
   "id": "80c47290-ef84-4ab5-ad14-70d41f0ed40b",
   "metadata": {},
   "source": [
    "### 最初のエージェントグラフの作成 - スタートポロジ\n",
    "\n",
    "まずは、編集上の監督を伴う集中型ワークフローに最適なスタートポロジから始めましょう。チームリーダーをコーディネーターエージェント、データアナリストとドメインエキスパートをスペシャリストエージェントとして構成するリサーチエージェントを構築します。アーキテクチャは以下のようになります。\n",
    "\n",
    "<div style=\"text-align:left\">\n",
    "<img src=\"images/star_architecture.png\" width=\"55%\" />\n",
    "</div>"
   ]
  },
  {
   "cell_type": "code",
   "execution_count": null,
   "id": "eba5fc53-8eca-46e8-84cf-9ca0f551140d",
   "metadata": {
    "execution": {
     "iopub.execute_input": "2025-07-21T08:16:34.612677Z",
     "iopub.status.busy": "2025-07-21T08:16:34.611969Z"
    }
   },
   "outputs": [
    {
     "name": "stderr",
     "output_type": "stream",
     "text": [
      "DEPRECATION WARNING: agent_graph will be removed in the next major release. Migration path: replace agent_graph calls with graph for equivalent functionality.\n"
     ]
    },
    {
     "data": {
      "text/html": [
       "<pre style=\"white-space:pre;overflow-x:auto;line-height:normal;font-family:Menlo,'DejaVu Sans Mono',consolas,'Courier New',monospace\"></pre>\n"
      ],
      "text/plain": []
     },
     "metadata": {},
     "output_type": "display_data"
    },
    {
     "name": "stderr",
     "output_type": "stream",
     "text": [
      "DEPRECATION WARNING: agent_graph will be removed in the next major release. Migration path: replace agent_graph calls with graph for equivalent functionality.\n"
     ]
    },
    {
     "name": "stdout",
     "output_type": "stream",
     "text": [
      "Research team created successfully!\n",
      "Result: {'toolUseId': 'tooluse_agent_graph_394879916', 'status': 'success', 'content': [{'text': 'Graph research_team created and started'}]}\n"
     ]
    },
    {
     "data": {
      "text/html": [
       "<pre style=\"white-space:pre;overflow-x:auto;line-height:normal;font-family:Menlo,'DejaVu Sans Mono',consolas,'Courier New',monospace\"></pre>\n"
      ],
      "text/plain": []
     },
     "metadata": {},
     "output_type": "display_data"
    },
    {
     "name": "stderr",
     "output_type": "stream",
     "text": [
      "DEPRECATION WARNING: agent_graph will be removed in the next major release. Migration path: replace agent_graph calls with graph for equivalent functionality.\n"
     ]
    },
    {
     "name": "stdout",
     "output_type": "stream",
     "text": [
      "Network Status:\n",
      "{'toolUseId': 'tooluse_agent_graph_595244434', 'status': 'success', 'content': [{'text': 'Graph research_team status retrieved.'}]}\n",
      "Sending task to the coordinator...\n"
     ]
    },
    {
     "data": {
      "text/html": [
       "<pre style=\"white-space:pre;overflow-x:auto;line-height:normal;font-family:Menlo,'DejaVu Sans Mono',consolas,'Courier New',monospace\"></pre>\n"
      ],
      "text/plain": []
     },
     "metadata": {},
     "output_type": "display_data"
    },
    {
     "name": "stderr",
     "output_type": "stream",
     "text": [
      "DEPRECATION WARNING: agent_graph will be removed in the next major release. Migration path: replace agent_graph calls with graph for equivalent functionality.\n"
     ]
    },
    {
     "name": "stdout",
     "output_type": "stream",
     "text": [
      "Task sent to coordinator!\n",
      "Response: {'toolUseId': 'tooluse_agent_graph_500671281', 'status': 'success', 'content': [{'text': 'Message sent to node coordinator'}]}\n",
      "============================================================\n",
      "============================================================\n",
      "Sending direct message to data analyst...\n"
     ]
    },
    {
     "data": {
      "text/html": [
       "<pre style=\"white-space:pre;overflow-x:auto;line-height:normal;font-family:Menlo,'DejaVu Sans Mono',consolas,'Courier New',monospace\"></pre>\n"
      ],
      "text/plain": []
     },
     "metadata": {},
     "output_type": "display_data"
    },
    {
     "name": "stderr",
     "output_type": "stream",
     "text": [
      "DEPRECATION WARNING: agent_graph will be removed in the next major release. Migration path: replace agent_graph calls with graph for equivalent functionality.\n"
     ]
    },
    {
     "name": "stdout",
     "output_type": "stream",
     "text": [
      "Data Analyst Response: {'toolUseId': 'tooluse_agent_graph_864865676', 'status': 'success', 'content': [{'text': 'Message sent to node data_analyst'}]}\n",
      "============================================================\n",
      "============================================================\n",
      "Checking all active agent networks...\n"
     ]
    },
    {
     "data": {
      "text/html": [
       "<pre style=\"white-space:pre;overflow-x:auto;line-height:normal;font-family:Menlo,'DejaVu Sans Mono',consolas,'Courier New',monospace\"></pre>\n"
      ],
      "text/plain": []
     },
     "metadata": {},
     "output_type": "display_data"
    },
    {
     "name": "stderr",
     "output_type": "stream",
     "text": [
      "DEPRECATION WARNING: use_llm will be removed in the next major release. Migration path: replace use_llm calls with use_agent for equivalent functionality.\n",
      "DEPRECATION WARNING: use_llm will be removed in the next major release. Migration path: replace use_llm calls with use_agent for equivalent functionality.\n"
     ]
    },
    {
     "name": "stdout",
     "output_type": "stream",
     "text": [
      "Active Networks: {'toolUseId': 'tooluse_agent_graph_868012148', 'status': 'success', 'content': [{'text': 'Listed 1 active agent graphs.'}]}\n",
      "============================================================\n",
      "============================================================\n",
      "了解しました。研究チーム「research_team」をシャットダウンします。\n",
      "Tool #1: agent_graph\n"
     ]
    },
    {
     "name": "stderr",
     "output_type": "stream",
     "text": [
      "DEPRECATION WARNING: agent_graph will be removed in the next major release. Migration path: replace agent_graph calls with graph for equivalent functionality.\n"
     ]
    }
   ],
   "source": [
    "# ステップ 1: agent_graph機能を持つエージェントを初期化\n",
    "coordinator_agent = Agent(tools=[agent_graph])\n",
    "\n",
    "# ステップ 2: agent_graphツールを使用して構造化されたエージェントグラフを作成\n",
    "result = coordinator_agent.tool.agent_graph(\n",
    "    action=\"create\",\n",
    "    graph_id=\"research_team\",\n",
    "    topology={\n",
    "        \"type\": \"star\",\n",
    "        \"nodes\": [\n",
    "            {\n",
    "                \"id\": \"coordinator\",\n",
    "                \"role\": \"team_lead\",\n",
    "                \"system_prompt\": \"\"\"あなたは、専門家を調整する研究チームのリーダーです。\n",
    "                 簡単な分析を提供してください。フォローアップは必要ありません。\"\"\"\n",
    "            },\n",
    "            {\n",
    "                \"id\": \"data_analyst\",\n",
    "                \"role\": \"analyst\",\n",
    "                \"system_prompt\": \"\"\"あなたは統計分析を専門とするデータアナリストです。\n",
    "                 簡単な分析を提供してください。フォローアップは必要ありません。\"\"\"\n",
    "            },\n",
    "            {\n",
    "                \"id\": \"domain_expert\",\n",
    "                \"role\": \"expert\",\n",
    "                \"system_prompt\": \"\"\"あなたは深い専門知識を持つドメインエキスパートです。\n",
    "                 簡単な分析を提供してください。フォローアップは必要ありません。\"\"\"\n",
    "            }\n",
    "        ],\n",
    "        \"edges\": [\n",
    "            {\"from\": \"coordinator\", \"to\": \"data_analyst\"},\n",
    "            {\"from\": \"coordinator\", \"to\": \"domain_expert\"},\n",
    "            {\"from\": \"data_analyst\", \"to\": \"coordinator\"},\n",
    "            {\"from\": \"domain_expert\", \"to\": \"coordinator\"}\n",
    "        ]\n",
    "    }\n",
    ")\n",
    "\n",
    "print(\"Research team created successfully!\")\n",
    "print(f\"Result: {result}\")\n",
    "\n",
    "# ステップ 3: 新しく作成したネットワークのステータスを確認\n",
    "status_result = coordinator_agent.tool.agent_graph(\n",
    "    action=\"status\",\n",
    "    graph_id=\"research_team\"\n",
    ")\n",
    "\n",
    "print(\"Network Status:\")\n",
    "print(status_result)\n",
    "\n",
    "# ステップ 4: コーディネーターにタスクを送信\n",
    "print(\"Sending task to the coordinator...\")\n",
    "\n",
    "message_result = coordinator_agent.tool.agent_graph(\n",
    "    action=\"message\",\n",
    "    graph_id=\"research_team\",\n",
    "    message={\n",
    "        \"target\": \"coordinator\",\n",
    "        \"content\": \"\"\"リモートワークが従業員の生産性に与える影響を分析します。簡単な分析を提供するため、フォローアップは不要です。\"\"\"\n",
    "    }\n",
    ")\n",
    "\n",
    "print(\"Task sent to coordinator!\")\n",
    "print(f\"Response: {message_result}\")\n",
    "print(\"============================================================\")\n",
    "print(\"============================================================\")\n",
    "\n",
    "# ステップ 5：専門家との直接コミュニケーション\n",
    "print(\"Sending direct message to data analyst...\")\n",
    "\n",
    "analyst_result = coordinator_agent.tool.agent_graph(\n",
    "    action=\"message\",\n",
    "    graph_id=\"research_team\",\n",
    "    message={\n",
    "        \"target\": \"data_analyst\",\n",
    "        \"content\": \"\"\"リモートワーク分析で追跡すべき主要な生産性指標は何ですか？簡単な分析を提供すれば、フォローアップは必要ありません。\"\"\"\n",
    "    }\n",
    ")\n",
    "\n",
    "print(f\"Data Analyst Response: {analyst_result}\")\n",
    "print(\"============================================================\")\n",
    "print(\"============================================================\")\n",
    "\n",
    "# ステップ 6: アクティブなネットワークをすべて一覧表示する\n",
    "print(\"Checking all active agent networks...\")\n",
    "\n",
    "list_result = coordinator_agent.tool.agent_graph(action=\"list\")\n",
    "print(f\"Active Networks: {list_result}\")\n",
    "print(\"============================================================\")\n",
    "print(\"============================================================\")\n",
    "# ネットワークを管理する\n",
    "coordinator_agent(\"コンテンツリサーチチームが終わったらシャットダウンする\")"
   ]
  },
  {
   "cell_type": "markdown",
   "id": "de57dc8d-d748-4dc4-8380-ed789ba84d6b",
   "metadata": {},
   "source": [
    "### メッシュトポロジの作成 - 協調的な問題解決\n",
    "\n",
    "では、すべてのエージェントが直接通信できるメッシュトポロジを作成しましょう。これは、議論や合意形成に最適です。ファイナンシャルアドバイザー、テクニカルアーキテクト、市場調査担当者、リスクアナリストからなる意思決定委員会エージェントを作成します。アーキテクチャは以下のようになります。\n",
    "<div style=\"text-align:left\">\n",
    "<img src=\"images/mesh_architecture.png\" width=\"55%\" />\n",
    "</div>"
   ]
  },
  {
   "cell_type": "code",
   "execution_count": null,
   "id": "7926cfeb-90c1-48cb-8d61-850ade47aebf",
   "metadata": {},
   "outputs": [],
   "source": [
    "# ステップ 1: 共同意思決定のためのメッシュトポロジを作成する\n",
    "print(\"🕸️ Creating mesh topology for collaborative analysis...\")\n",
    "mesh_agent = Agent(tools=[agent_graph])\n",
    "mesh_result = mesh_agent.tool.agent_graph(\n",
    "    action=\"create\",\n",
    "    graph_id=\"decision_committee\",\n",
    "    topology={\n",
    "        \"type\": \"mesh\",\n",
    "        \"nodes\": [\n",
    "            {\n",
    "                \"id\": \"financial_advisor\",\n",
    "                \"role\": \"finance_expert\",\n",
    "                \"system_prompt\": \"あなたは、費用対効果分析、予算への影響、ROI計算に重点を置くファイナンシャルアドバイザーです。他の専門家と連携し、包括的な財務視点を構築しましょう。\"\n",
    "            },\n",
    "            {\n",
    "                \"id\": \"technical_architect\",\n",
    "                \"role\": \"tech_expert\", \n",
    "                \"system_prompt\": \"実現可能性、実装上の課題、そして技術的リスクを評価するテクニカルアーキテクトとして、他の専門家と連携し、技術的な実現可能性を確保します。\"\n",
    "            },\n",
    "            {\n",
    "                \"id\": \"market_researcher\",\n",
    "                \"role\": \"market_expert\",\n",
    "                \"system_prompt\": \"あなたは市場調査員として、市場の状況、ユーザーニーズ、そして競合状況を分析します。他の専門家と協力し、市場機会を検証します。\"\n",
    "            },\n",
    "            {\n",
    "                \"id\": \"risk_analyst\",\n",
    "                \"role\": \"risk_expert\",\n",
    "                \"system_prompt\": \"あなたは、潜在的なリスク、軽減戦略、コンプライアンス上の問題を特定するリスクアナリストです。他の専門家と連携し、包括的なリスク評価を実施します。\"\n",
    "            }\n",
    "        ],\n",
    "        \"edges\": [\n",
    "            # フルメッシュ - 誰もが誰とでも話せる\n",
    "            {\"from\": \"financial_advisor\", \"to\": \"technical_architect\"},\n",
    "            {\"from\": \"financial_advisor\", \"to\": \"market_researcher\"},\n",
    "            {\"from\": \"financial_advisor\", \"to\": \"risk_analyst\"},\n",
    "            {\"from\": \"technical_architect\", \"to\": \"financial_advisor\"},\n",
    "            {\"from\": \"technical_architect\", \"to\": \"market_researcher\"},\n",
    "            {\"from\": \"technical_architect\", \"to\": \"risk_analyst\"},\n",
    "            {\"from\": \"market_researcher\", \"to\": \"financial_advisor\"},\n",
    "            {\"from\": \"market_researcher\", \"to\": \"technical_architect\"},\n",
    "            {\"from\": \"market_researcher\", \"to\": \"risk_analyst\"},\n",
    "            {\"from\": \"risk_analyst\", \"to\": \"financial_advisor\"},\n",
    "            {\"from\": \"risk_analyst\", \"to\": \"technical_architect\"},\n",
    "            {\"from\": \"risk_analyst\", \"to\": \"market_researcher\"}\n",
    "        ]\n",
    "    }\n",
    ")\n",
    "\n",
    "print(\"Mesh topology decision committee created!\")\n",
    "print(f\"Result: {mesh_result}\")\n",
    "print(\"============================================================\")\n",
    "print(\"============================================================\")\n",
    "\n",
    "# ステップ 2：複雑な決定を委員会に提示\n",
    "print(\"Presenting decision scenario to the committee...\")\n",
    "\n",
    "# まずファイナンシャルアドバイザーに送る\n",
    "financial_response = mesh_agent.tool.agent_graph(\n",
    "    action=\"message\",\n",
    "    graph_id=\"decision_committee\",\n",
    "    message={\n",
    "        \"target\": \"financial_advisor\",\n",
    "        \"content\": \"当社は、AIを活用した新しいカスタマーサービスプラットフォームの立ち上げを検討しています。初期投資額は200万ドルで、3年間のROIは150%と予測しています。財務評価はいかがでしょうか？\"\n",
    "    }\n",
    ")\n",
    "\n",
    "print(f\"Financial Advisor: {financial_response}\")\n",
    "print(\"============================================================\")\n",
    "print(\"============================================================\")\n",
    "\n",
    "# ステップ 3: 技術的な視点を得る\n",
    "technical_response = mesh_agent.tool.agent_graph(\n",
    "    action=\"message\",\n",
    "    graph_id=\"decision_committee\",\n",
    "    message={\n",
    "        \"target\": \"technical_architect\",\n",
    "        \"content\": \"AI カスタマー サービス プラットフォームの提案に関して、主な技術的考慮事項、インフラストラクチャ要件、実装の課題は何ですか?\"\n",
    "    }\n",
    ")\n",
    "\n",
    "print(f\"Technical Architect: {technical_response}\")\n",
    "print(\"============================================================\")\n",
    "print(\"============================================================\")\n",
    "\n",
    "# ステップ 4：市場の洞察を集める\n",
    "market_response = mesh_agent.tool.agent_graph(\n",
    "    action=\"message\",\n",
    "    graph_id=\"decision_committee\",\n",
    "    message={\n",
    "        \"target\": \"market_researcher\",\n",
    "        \"content\": \"AIカスタマーサービスプラットフォームの市場環境はどのようなものでしょうか？競合他社は？需要は？\"\n",
    "    }\n",
    ")\n",
    "\n",
    "print(f\"Market Researcher: {market_response}\")\n",
    "print(\"============================================================\")\n",
    "print(\"============================================================\")\n",
    "# Manage the network\n",
    "mesh_agent(\"コンテンツ決定委員会は終了次第閉鎖する\")"
   ]
  },
  {
   "cell_type": "markdown",
   "id": "ae0eb88e-fdc1-4387-8eb0-4a9ae50ca2ea",
   "metadata": {},
   "source": [
    "### 階層型トポロジの作成 - 組織構造\n",
    "\n",
    "最後に、明確な報告ラインを持つ組織構造を模倣した階層型トポロジを作成しましょう。\n",
    "\n",
    "階層型構造を持つコンサルティング会社のエージェントを作成します。チームには、マネージングパートナー、戦略責任者、オペレーション責任者、戦略アナリスト、オペレーションアナリスト、データスペシャリストがいます。アーキテクチャは以下のようになります。\n",
    "\n",
    "<div style=\"text-align:left\">\n",
    "<img src=\"images/hierarchical_architecture.png\" width=\"55%\" />\n",
    "</div>"
   ]
  },
  {
   "cell_type": "code",
   "execution_count": null,
   "id": "5058e219-8fb8-4503-8bbf-9e69dd06cf62",
   "metadata": {},
   "outputs": [],
   "source": [
    "# ステップ 1: 階層型トポロジを作成する\n",
    "print(\"Creating hierarchical topology for organizational analysis...\")\n",
    "\n",
    "hierarchical_agent = Agent(tools=[agent_graph])\n",
    "hierarchy_result = hierarchical_agent.tool.agent_graph(\n",
    "    action=\"create\",\n",
    "    graph_id=\"consulting_firm\",\n",
    "    topology={\n",
    "        \"type\": \"hierarchical\",\n",
    "        \"nodes\": [\n",
    "            {\n",
    "                \"id\": \"managing_partner\",\n",
    "                \"role\": \"executive\",\n",
    "                \"system_prompt\": \"あなたは、すべてのコンサルティング業務を統括するマネージングパートナーです。各部門長にタスクを委任し、各部門長からのレポートをまとめ、クライアントにエグゼクティブレベルの推奨事項を提供します。\"\n",
    "            },\n",
    "            {\n",
    "                \"id\": \"strategy_head\",\n",
    "                \"role\": \"department_manager\",\n",
    "                \"system_prompt\": \"あなたは戦略コンサルティングの責任者です。戦略分析プロジェクトを管理し、ジュニアコンサルタントと連携し、結果をマネージングパートナーに報告します。\"\n",
    "            },\n",
    "            {\n",
    "                \"id\": \"operations_head\",\n",
    "                \"role\": \"department_manager\", \n",
    "                \"system_prompt\": \"あなたはオペレーションコンサルティングの責任者です。業務効率化プロジェクトを監督し、チームを管理し、経営陣に業務に関する洞察を提供します。\"\n",
    "            },\n",
    "            {\n",
    "                \"id\": \"strategy_analyst\",\n",
    "                \"role\": \"junior_consultant\",\n",
    "                \"system_prompt\": \"あなたは、市場分析、競合情報、戦略プランニングを専門とするジュニア戦略コンサルタントです。戦略責任者に報告します。\"\n",
    "            },\n",
    "            {\n",
    "                \"id\": \"operations_analyst\",\n",
    "                \"role\": \"junior_consultant\",\n",
    "                \"system_prompt\": \"プロセスの最適化、効率分析、そして業務改善に重点を置くジュニアオペレーションコンサルタントとして、オペレーション責任者にレポートしていただきます。\"\n",
    "            },\n",
    "            {\n",
    "                \"id\": \"data_specialist\",\n",
    "                \"role\": \"junior_consultant\",\n",
    "                \"system_prompt\": \"あなたは、定量分析、モデリング、データ主導の洞察によって戦略と運用の両方をサポートするデータ スペシャリストです。\"\n",
    "            }\n",
    "        ],\n",
    "        \"edges\": [\n",
    "            # 部門長のマネージングパートナー\n",
    "            {\"from\": \"managing_partner\", \"to\": \"strategy_head\"},\n",
    "            {\"from\": \"managing_partner\", \"to\": \"operations_head\"},\n",
    "            {\"from\": \"strategy_head\", \"to\": \"managing_partner\"},\n",
    "            {\"from\": \"operations_head\", \"to\": \"managing_partner\"},\n",
    "            \n",
    "            # 部門長からアナリストまで\n",
    "            {\"from\": \"strategy_head\", \"to\": \"strategy_analyst\"},\n",
    "            {\"from\": \"strategy_head\", \"to\": \"data_specialist\"},\n",
    "            {\"from\": \"operations_head\", \"to\": \"operations_analyst\"},\n",
    "            {\"from\": \"operations_head\", \"to\": \"data_specialist\"},\n",
    "            \n",
    "            # アナリストから部門長まで\n",
    "            {\"from\": \"strategy_analyst\", \"to\": \"strategy_head\"},\n",
    "            {\"from\": \"operations_analyst\", \"to\": \"operations_head\"},\n",
    "            {\"from\": \"data_specialist\", \"to\": \"strategy_head\"},\n",
    "            {\"from\": \"data_specialist\", \"to\": \"operations_head\"}\n",
    "        ]\n",
    "    }\n",
    ")\n",
    "\n",
    "print(\"Hierarchical consulting firm created!\")\n",
    "print(f\"Result: {hierarchy_result}\")\n",
    "print(\"============================================================\")\n",
    "print(\"============================================================\")\n",
    "\n",
    "# ステップ 2: マネージングパートナーに複雑な契約書を送信する\n",
    "print(\"Sending client engagement to managing partner...\")\n",
    "\n",
    "engagement_response = hierarchical_agent.tool.agent_graph(\n",
    "    action=\"message\",\n",
    "    graph_id=\"consulting_firm\",\n",
    "    message={\n",
    "        \"target\": \"managing_partner\",\n",
    "        \"content\": \"新規のクライアント案件が入りました。中規模の製造会社が、業務効率の向上を図りながら海外展開を目指しています。戦略的な市場参入アドバイスと業務最適化の両方を必要としています。包括的な分析をコーディネートしていただきますようお願いいたします。\"\n",
    "    }\n",
    ")\n",
    "\n",
    "print(f\"Managing Partner Response: {engagement_response}\")\n",
    "print(\"============================================================\")\n",
    "print(\"============================================================\")\n",
    "\n",
    "# ステップ 3: 作業が階層に沿ってどのように流れるかを確認する\n",
    "print(\"Checking the status of our consulting firm...\")\n",
    "\n",
    "consulting_status = hierarchical_agent.tool.agent_graph(\n",
    "    action=\"status\",\n",
    "    graph_id=\"consulting_firm\"\n",
    ")\n",
    "\n",
    "print(f\"Consulting Firm Status: {consulting_status}\")\n",
    "print(\"============================================================\")\n",
    "print(\"============================================================\")\n",
    "# Manage the network\n",
    "hierarchical_agent(\"コンテンツコンサルティング会社が終わったら閉鎖する\")"
   ]
  },
  {
   "cell_type": "markdown",
   "id": "8ba81eff-3326-44e0-912e-ce7747357ac0",
   "metadata": {},
   "source": [
    "### 自然言語インターフェース\n",
    "\n",
    "agent_graph ツールは自然言語によるインタラクションもサポートしており、マルチエージェントシステムとの対話的な連携が容易になります。クリエイティブディレクター、ライター2名、エディター1名からなるスター型トポロジーの `creative_writers` エージェントで動作を確認してみましょう。アーキテクチャは次のようになります。\n",
    "\n",
    "<div style=\"text-align:left\">\n",
    "<img src=\"images/content_writer_architecture.png\" width=\"55%\" />\n",
    "</div>"
   ]
  },
  {
   "cell_type": "code",
   "execution_count": null,
   "id": "559567c4-205d-4e7c-99cc-cd4abc73cf52",
   "metadata": {},
   "outputs": [],
   "source": [
    "# ステップ 1: 自然言語によるインタラクションのためのシンプルなエージェントを作成する\n",
    "nl_agent = Agent(tools=[agent_graph])\n",
    "\n",
    "print(\"Using natural language to create and manage agent networks...\")\n",
    "\n",
    "# ステップ 2: 自然言語を使ってチームを作る\n",
    "nl_response = nl_agent(\n",
    "    \"クリエイティブディレクター、ライター2名、エディター1名からなる「creative_writers」というコンテンツ制作チームを作成します。クリエイティブディレクターがチーム全体を調整するスター型トポロジを採用します。\"\n",
    ")\n",
    "\n",
    "print(f\"Natural Language Creation: {nl_response}\")\n",
    "print(\"============================================================\")\n",
    "print(\"============================================================\")\n",
    "\n",
    "# ステップ 3: チームにタスクを与える\n",
    "task_response = nl_agent(\n",
    "    \"creative_writers チームに、宇宙探査における AI と人間の協力に関する SF 短編小説のアイデアをブレインストーミングしてもらいます。\"\n",
    ")\n",
    "\n",
    "print(f\"Creative Task Response: {task_response}\")\n",
    "print(\"============================================================\")\n",
    "print(\"============================================================\")\n",
    "\n",
    "# ステップ 4: チームの進捗状況を確認する\n",
    "progress_response = nl_agent(\n",
    "    \"creative_writers チームの状況と、彼らが取り組んでいる内容を教えてください。\"\n",
    ")\n",
    "\n",
    "print(f\"Team Progress: {progress_response}\")\n",
    "print(\"============================================================\")\n",
    "print(\"============================================================\")\n",
    "\n",
    "nl_agent(\"creative_writersのコンテンツをシャットダウンする\")\n"
   ]
  },
  {
   "cell_type": "markdown",
   "id": "6d35f546-fe6a-4ce2-acf5-4ed8690c593d",
   "metadata": {},
   "source": [
    "## 重要なポイントとベストプラクティス\n",
    "\n",
    "### 各トポロジーの活用場面：\n",
    "\n",
    "**スター型トポロジー：**\n",
    "- 編集監修によるコンテンツ制作\n",
    "- エスカレーションパスを備えたカスタマーサービス\n",
    "- 専門家との調査連携\n",
    "- 集中化された意思決定プロセス\n",
    "\n",
    "**メッシュ型トポロジー：**\n",
    "- 協調的な問題解決\n",
    "- 合意形成と議論\n",
    "- ピアレビュープロセス\n",
    "- 民主的な意思決定\n",
    "\n",
    "**階層型トポロジー：**\n",
    "- 組織構造\n",
    "- 多層的なレビュープロセス\n",
    "- 委任によるプロジェクト管理\n",
    "- 階層化されたデータ処理\n",
    "\n",
    "### ベストプラクティス：\n",
    "\n",
    "1. **明確な役割定義**：各エージェントには、明確かつ明確な役割を割り当てる必要があります。\n",
    "2. **適切なシステムプロンプト**：エージェントの専門知識と役職に合わせてプロンプトを調整します。\n",
    "3. **適切なクリーンアップ**：不要になったネットワークは必ず停止します。\n",
    "4. **ステータス監視**：定期的にネットワークの状態を確認します。デバッグ\n",
    "5. **戦略的コミュニケーション**: 特定のエージェントにターゲットを絞ったメッセージングを使用する\n",
    "6. **リソース管理**: アクティブなネットワークを監視してリソースの無駄を防ぐ\n",
    "\n",
    "## まとめ\n",
    "\n",
    "これで、Strands Agent Graph を用いたマルチエージェントシステム構築の基礎を習得できました。複雑な問題を解決するために連携する、専門性の高い AI エージェントの洗練されたネットワークを構築できます。\n",
    "\n",
    "マルチエージェントシステムを成功させる鍵は、以下のとおりです。\n",
    "- ユースケースに適したトポロジーの採用\n",
    "- エージェントの役割と責任の明確な定義\n",
    "- 適切なコミュニケーションパターンの確立\n",
    "- リソース管理とクリーンアップの効率化\n",
    "\n",
    "この段階を経て、研究、コンテンツ作成、意思決定、カスタマーサービスなど、実社会でのアプリケーション向けに、より高度なシステムを構築できるようになります。"
   ]
  }
 ],
 "metadata": {
  "kernelspec": {
   "display_name": "Python 3 (ipykernel)",
   "language": "python",
   "name": "python3"
  },
  "language_info": {
   "codemirror_mode": {
    "name": "ipython",
    "version": 3
   },
   "file_extension": ".py",
   "mimetype": "text/x-python",
   "name": "python",
   "nbconvert_exporter": "python",
   "pygments_lexer": "ipython3",
   "version": "3.12.9"
  }
 },
 "nbformat": 4,
 "nbformat_minor": 5
}
